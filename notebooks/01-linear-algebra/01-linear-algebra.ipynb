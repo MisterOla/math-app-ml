{
 "cells": [
  {
   "cell_type": "markdown",
   "metadata": {},
   "source": [
    "# Introduction to Linear Algebra for Applied Machine Learning"
   ]
  },
  {
   "cell_type": "markdown",
   "metadata": {},
   "source": [
    "<<<***Note: I plan to complete this mini-project in 5 updates. As May 8th of 2020, I'm on update 4. Around 80% of the project is complete***>>>\n",
    "\n",
    "Linear algebra is to machine learning as flour to bakery: **every machine learning model is based in linear algebra, as every cake is based in flour**. It is not the only ingredient, of course. Machine learning models need vector calculus, probability, and optimization, as cakes need sugar, eggs, and butter. Applied machine learning, like bakery, is essentially about combining these mathematical ingredients in clever ways to create useful (tasty?) models. \n",
    "\n",
    "This document contains **introductory level linear algebra notes for applied machine learning**. It is meant as a reference rather than a comprehensive review. If you ever get confused by matrix multiplication, don't remember what was the $L_2$ norm, or the conditions for linear independence, this can serve as a quick reference. It also a good introduction for people that don't need a deep understanding of linear algebra, but still want to learn about the fundamentals to read about machine learning or to use pre-packaged machine learning solutions. Further, it is a good source for people that learned linear algebra a while ago and need a refresher.\n",
    "\n",
    "These notes are based in a series of (mostly) freely available textbooks, video lectures, and classes I've read, watched and taken in the past. If you want to obtain a deeper understanding or to find exercises for each topic, you may want to consult those sources directly. \n",
    "\n",
    "**Free resources**:\n",
    "\n",
    "- **Mathematics for Machine Learning** by Deisenroth, Faisal, and Ong. 1st Ed. [Book link](https://mml-book.github.io/).\n",
    "- **Introduction to Applied Linear Algebra** by Boyd and Vandenberghe. 1sr Ed. [Book link](http://vmls-book.stanford.edu/)\n",
    "- **Linear Algebra Ch. in Deep Learning** by Goodfellow, Bengio, and Courville. 1st Ed. [Chapter link](https://www.deeplearningbook.org/contents/linear_algebra.html).\n",
    "- **Linear Algebra Ch. in Dive into Deep Learning** by Zhang, Lipton, Li, And Smola. [Chapter link](https://d2l.ai/chapter_preliminaries/linear-algebra.html).\n",
    "- **Prof. Pavel Grinfeld's Linear Algebra Lectures** at Lemma. [Videos link](https://www.lem.ma/books/AIApowDnjlDDQrp-uOZVow/landing).\n",
    "- **Prof. Gilbert Strang's Linear Algebra Lectures** at MIT. [Videos link](https://ocw.mit.edu/courses/mathematics/18-06-linear-algebra-spring-2010/video-lectures/).\n",
    "- **Salman Khan's Linear Algebra Lectures** at Khan Academy. [Videos link](https://www.khanacademy.org/math/linear-algebra).\n",
    "- **3blue1brown's Linear Algebra Series** at YouTube. [Videos link](https://www.youtube.com/playlist?list=PLZHQObOWTQDPD3MizzM2xVFitgF8hE_ab).\n",
    "\n",
    "**Not-free resources**:\n",
    "\n",
    "- **Introduction to Linear Algebra** by Gilbert Strang. 5th Ed. [Book link](https://www.amazon.com/Introduction-Linear-Algebra-Gilbert-Strang/dp/0980232775).\n",
    "- **No Bullshit Guide to Linear Algebra** by Ivan Savov. 2nd Ed. [Book Link](https://www.amazon.com/No-bullshit-guide-linear-algebra/dp/0992001021).\n",
    "\n",
    "I've consulted all these resources at one point or another. Pavel Grinfeld's lectures are my absolute favorites. Salman Khan's lectures are really good for absolute beginners (they are long though). The famous 3blue1brown series in linear algebra is delightful to watch and to get a solid high-level view of linear algebra.\n",
    "\n",
    "If you have to pic one book, I'd pic **Boyd's and Vandenberghe's Intro to applied linear algebra**, as it is the most beginner friendly book on linear algebra I've encounter. Every aspect of the notation is clearly explained and pretty much all the key content for applied machine learning is covered. The Linear Algebra Chapter in Goodfellow et al is a nice and concise introduction, but it may require some previous exposure to linear algebra concepts. Deisenroth et all book is probably the best and most comprehensive source for linear algebra for machine learning I've found, although it assumes that you are good at reading math (and at math more generally). Savov's book it's also great for beginners but requires time to digest. Professor Strang lectures are great too but I won't recommend it for absolute beginners.\n",
    "\n",
    "I'll do my best to keep notation consistent. Nevertheless, learning to adjust to changing or inconsistent notation is a useful skill, since most authors will use their own preferred notation, and everyone seems to think that its/his/her own notation is better.\n",
    "\n",
    "To make everything more dynamic and practical, I'll introduce bits of Python code to exemplify each mathematical operation (when possible) with `NumPy`, which is the facto standard package for scientific computing in Python.\n",
    "\n",
    "Finally, keep in mind this is created by a non-mathematician for (mostly) non-mathematicians. I wrote this as if I were talking to myself or a dear friend, which explains why my writing is sometimes conversational and informal.\n",
    "\n",
    "If you find any mistake in notes feel free to reach me out at pcaceres@wisc.edu and to https://pablocaceres.org/ so I can correct the issue."
   ]
  },
  {
   "cell_type": "markdown",
   "metadata": {},
   "source": [
    "# Table of contents"
   ]
  },
  {
   "cell_type": "markdown",
   "metadata": {},
   "source": [
    "**Note:** _underlined sections_ are the newest sections and/or corrected ones.\n",
    "\n",
    "**[Preliminary concepts](#preliminary-concepts)**:\n",
    "- [Sets](#sets)\n",
    "- [Belonging and inclusion](#belonging-and-inclusion)\n",
    "- [Set specification](#set-specification)\n",
    "- [Ordered pairs](#ordered-pairs)\n",
    "- [Relations](#relations)\n",
    "- [Functions](#functions)\n",
    "\n",
    "**[Vectors](#vectors)**:\n",
    "- [Types of vectors](#types-of-vectors)\n",
    "    - [Geometric vectors](#geometric-vectors)\n",
    "    - [Polynomials](#polynomials)\n",
    "    - [Elements of R](#elements-of-r)\n",
    "- [Zero vector, unit vector, and sparse vector](#zero-vector-unit-vector-and-sparse-vector)\n",
    "- [Vector dimensions and coordinate system](#vector-dimensions-and-coordinate-system) \n",
    "- [Basic vector operations](#basic-vector-operations)\n",
    "    - [Vector-vector addition](#vector-vector-addition)\n",
    "    - [Vector-scalar multiplication](#vector-scalar-multiplication)\n",
    "    - [Linear combinations of vectors](#linear-combinations-of-vectors)\n",
    "    - [Vector-vector multiplication: dot product](#vector-vector-multiplication-dot-product)\n",
    "- [Vector space, span, and subspace](#vector-space-span-and-subspace)\n",
    "    - [Vector space](#vector-space)\n",
    "    - [Vector span](#vector-span)\n",
    "    - [Vector subspaces](#vector-subspaces)\n",
    "- [Linear dependence and independence](#linear-dependence-and-independence)\n",
    "- [Vector null space](#vector-null-space)\n",
    "- [Vector norms](#vector-norms)\n",
    "    - [Euclidean norm: $L_2$](#euclidean-norm)\n",
    "    - [Manhattan norm: $L_1$](#manhattan-norm)\n",
    "    - [Max norm: $L_\\infty$](#max-norm)\n",
    "- [Vector inner product, length, and distance](#vector-inner-product-length-and-distance)\n",
    "- [Vector angles and orthogonality](#vector-angles-and-orthogonality)\n",
    "- [Systems of linear equations](#systems-of-linear-equations)\n",
    "\n",
    "**[Matrices](#matrices)**:\n",
    "\n",
    "- [Basic matrix operations](#basic-matrix-operations)\n",
    "    - [Matrix-matrix addition](#matrix-matrix-addition)\n",
    "    - [Matrix-scalar multiplication](#matrix-scalar-multiplication)\n",
    "    - [Matrix-vector multiplication: dot product](#matrix-vector-multiplication-dot-product)\n",
    "    - [Matrix-matrix multiplication](#matrix-matrix-multiplication)\n",
    "    - [Matrix identity](#matrix-identity)\n",
    "    - [Matrix inverse](#matrix-inverse)\n",
    "    - [Matrix transpose](#matrix-transpose)\n",
    "    - [Hadamard product](#hadamard-product)\n",
    "- [Special matrices](#special-matrices)\n",
    "    - [_Rectangular matrix_](#rectangular-matrix)\n",
    "    - [_Square matrix_](#square-matrix)\n",
    "    - [_Diagonal matrix_](#diagonal-matrix)\n",
    "    - [_Upper triangular matrix_](#upper-triangular-matrix)\n",
    "    - [_Lower triangular matrix_](#lower-triangular-matrix)\n",
    "    - [_Symmetric matrix_](#symmetric-matrix)\n",
    "    - [_Identity matrix_](#identity-matrix)\n",
    "    - [_Scalar matrix_](#scalar-matrix)\n",
    "    - [_Null or zero matrix_](#null-or-zero-matrix)\n",
    "    - [_Echelon matrix_](#echelon-matrix)\n",
    "    - [_Antidiagonal matrix_](#antidiagonal-matrix)\n",
    "    - [_Design matrix_](#design-matrix)\n",
    "- [Matrices as systems of linear equations](#matrices-as-systems-of-linear-equations)\n",
    "- [The four fundamental matrix subsapces](#the-four-fundamental-matrix-subsapces)\n",
    "    - [The column space](#the-column-space)\n",
    "    - [The row space](#the-row-space)\n",
    "    - [The null space](#the-null-space)\n",
    "    - [The null space of the transpose](#the-null-space-of-the-transpose)\n",
    "- [Solving systems of linear equations with matrices](#solving-systems-of-linear-equations-with-matrices)\n",
    "    - [Gaussian Elimination](#gaussian-elimination)\n",
    "    - [Gauss-Jordan Elimination](#gauss-jordan-elimination)\n",
    "- [Matrix basis and rank](#matrix-basis-and-rank)\n",
    "- [Matrix norm](#matrix-norm)\n",
    "\n",
    "**[Linear and affine mappings](#linear-and-affine-mappings)**:\n",
    "\n",
    "- [Linear mappings](#linear-mappings)\n",
    "- [Examples of linear mappings](#examples-of-linear-mappings)\n",
    "    - [Negation matrix](#negation-matrix)\n",
    "    - [Reversal matrix](#reversal-matrix)\n",
    "- [Examples of nonlinear mappings](#examples-of-nonlinear-mappings)\n",
    "    - [Norms](#norms)\n",
    "    - [Translation](#translation)\n",
    "- [Affine mappings](#affine-mappings)\n",
    "    - [Affine combination of vectors](#affine-combination-of-vectors)\n",
    "    - [Affine span](#affine-span)\n",
    "    - [Affine space and subspace](#affine-space-and-subspace)\n",
    "    - [Affine mappings using the augmented matrix](#affine-mappings-using-the-augmented-matrix)\n",
    "- [Special linear mappings](#special-linear-mappings)\n",
    "    - [Scaling](#scaling)\n",
    "    - [Reflection](#reflection)\n",
    "    - [Shear](#shear)\n",
    "    - [Rotation](#rotation)\n",
    "- [Projections](#projections)\n",
    "    - [Projections onto lines](#projections-onto-lines)\n",
    "    - [Projections onto general subspaces](#projections-onto-general-subspaces)\n",
    "    - [Projections as approximate solutions to systems of linear equations](#projections-as-approximate-solutions-to-systems-of-linear-equations)\n",
    "\n",
    "**[Matrix decompositions](#matrix-decompositions)**:\n",
    "- [LU decomposition](#lu-decomposition)\n",
    "    - [Elementary matrices](#elementary-matrices)\n",
    "    - [The inverse of elementary matrices](#the-inverse-of-elementary-matrices)\n",
    "    - [LU decomposition as Gaussian Elimination](#lu-decomposition-as-gaussian-elimination)\n",
    "    - [LU decomposition with pivoting](#lu-decomposition-with-pivoting)\n",
    "- [Determinant](#determinant)\n",
    "    - [Determinant as measures of volume](#determinant-as-measures-of-volume)\n",
    "    - [The 2X2 determinant](#the-2x2-determinant)\n",
    "    - [The NXN determinant](#the-nxn-determinant)\n",
    "    - [The importance of determinants](#the-importance-of-determinants)\n",
    "- [Trace](#trace)\n",
    "\n",
    "**Future sections**:\n",
    "\n",
    "*Decompositions*:\n",
    "\n",
    "    - QR decomposition\n",
    "    - Cholesky Decomposition\n",
    "    - Eigenvalues and eigenvectors\n",
    "    - Symmetric Positive Definite Matrices\n",
    "    - Eigendecomposition and diagonalization\n",
    "    - Singular value decomposition\n",
    "    - Principal components and best low rank matrix approximation"
   ]
  },
  {
   "cell_type": "markdown",
   "metadata": {},
   "source": [
    "# Preliminary concepts"
   ]
  },
  {
   "cell_type": "markdown",
   "metadata": {},
   "source": [
    "While writing about linear mappings, I realized the importance of having a basic understanding of a few concepts before approaching the study of linear algebra. If you are like me, you may not have formal mathematical training beyond high school. If so, I encourage you to read this section and spent some time wrapping your head around these concepts before going over the linear algebra content (otherwise, you might prefer to skip this part). I believe that reviewing these concepts is of great help to understand the *notation*, which in my experience is one of the main barriers to understand mathematics for nonmathematicians: we are *non*native speakers, so we are continuously building up our vocabulary. I'll keep this section very short, as is not the focus of this mini-course.\n",
    "\n",
    "For this section, my notes are based on readings of:\n",
    "\n",
    "- **Geometric transformations (Vol. 1)** (1966) by Modenov & Parkhomenko\n",
    "- **Naive Set Theory** (1960) by P.R. Halmos\n",
    "- **Abstract Algebra: Theory and Applications** (2016) by Judson & Beeer. [Book link](http://abstract.pugetsound.edu/download/aata-20160809.pdf)"
   ]
  },
  {
   "cell_type": "markdown",
   "metadata": {},
   "source": [
    "## Sets"
   ]
  },
  {
   "cell_type": "markdown",
   "metadata": {},
   "source": [
    "Sets are one of the most fundamental concepts in mathematics. They are so fundamental that they are not defined in terms of anything else. On the contrary, other branches of mathematics are defined in terms of sets, including linear algebra. Put simply, **sets are well-defined collections of objects**. Such objects are called **elements or members** of the set. The crew of a ship, a caravan of camels, and the LA Lakers roster, are all examples of sets. The captain of the ship, the first camel in the caravan, and LeBron James are all examples of \"members\" or \"elements\" of their corresponding sets. We denote a set with an upper case italic letter as $\\textit{A}$. In the context of linear algebra, we say that a line is a set of points, and the set of all lines in the plane is a set of sets. Similarly, we can say that *vectors* are sets of points, and *matrices* sets of vectors."
   ]
  },
  {
   "cell_type": "markdown",
   "metadata": {},
   "source": [
    "## Belonging and inclusion"
   ]
  },
  {
   "cell_type": "markdown",
   "metadata": {},
   "source": [
    "We build sets using the notion of **belonging**. We denote that $a$ *belongs* (or is an *element* or *member* of) to $\\textit{A}$ with the Greek letter epsilon as:\n",
    "\n",
    "$$\n",
    "a \\in \\textit{A}\n",
    "$$\n",
    "\n",
    "Another important idea is **inclusion**, which allow us to build *subsets*. Consider sets $\\textit{A}$ and $\\textit{B}$. When every element of $\\textit{A}$ is an element of $\\textit{B}$, we say that $\\textit{A}$ is a *subset* of $\\textit{B}$, or that $\\textit{B}$ *includes* $\\textit{A}$. The notation is:\n",
    "\n",
    "$$\n",
    "\\textit{A} \\subset \\textit{B}\n",
    "$$\n",
    "\n",
    "or\n",
    "\n",
    "$$\n",
    "\\textit{B} \\supset \\textit{A}\n",
    "$$\n",
    "\n",
    "Belonging and inclusion are derived from **axion of extension**: *two sets are equal if and only if they have the same elements*. This axiom may sound trivially obvious but is necessary to make belonging and inclusion rigorous."
   ]
  },
  {
   "cell_type": "markdown",
   "metadata": {},
   "source": [
    "## Set specification"
   ]
  },
  {
   "cell_type": "markdown",
   "metadata": {},
   "source": [
    "In general, anything we assert about the elements of a set results in **generating a subset**. In other words, asserting things about sets is a way to manufacture subsets. Take as an example the set of all dogs, that I'll denote as $\\textit{D}$. I can assert now \"$d$ is black\". Such an assertion is true for some members of the set of all dogs and false for others. Hence, such a sentence, evaluated for *all* member of $\\textit{D}$, generates a subset: *the set of all black dogs*. This is denoted as:\n",
    "\n",
    "$$\n",
    "\\textit{B} = \\{ d \\in \\textit{D} : \\text{d is black} \\}\n",
    "$$\n",
    "\n",
    "or \n",
    "\n",
    "$$\n",
    "\\textit{B} = \\{ d \\in \\textit{D} \\vert \\text{ d is black} \\}\n",
    "$$\n",
    "\n",
    "The colon ($:$) or vertical bar ($\\vert$) read as \"such that\". Therefore, we can read the above expression as: *all elements of $d$ in $\\textit{D}$ such that $d$ is black*. And that's how we obtain the set $\\textit{B}$ from $\\textit{A}$. \n",
    "\n",
    "Set generation, as defined before, depends on the **axiom of specification**: *to every set $\\textit{A}$ and to every condition $\\textit{S}(x)$ there corresponds a set $\\textit{B}$ whose elements are exactly those elements $a \\in \\textit{A}$ for which $\\textit{S}(x)$ holds.*\n",
    "\n",
    "A condition $\\textit{S}(x)$ is any *sentence* or *assertion* about elements of $\\textit{A}$. Valid sentences are either of *belonging* or *equality*. When we combine belonging and equality assertions with logic operators (not, if, and or, etc), we can build any legal set.  "
   ]
  },
  {
   "cell_type": "markdown",
   "metadata": {},
   "source": [
    "## Ordered pairs "
   ]
  },
  {
   "cell_type": "markdown",
   "metadata": {},
   "source": [
    "Pairs of sets come in two flavors: *unordered* and *ordered*. We care about pairs of sets as we need them to define a notion of relations and functions (from here I'll denote sets with lower-case for convenience, but keep in mind we're still talking about sets).\n",
    "\n",
    "Consider a pair of sets $\\textit{x}$ and $\\textit{y}$. An **unordered pair** is a set whose elements are $\\{ \\textit{x},\\textit{y} \\}$, and $\\{ \\textit{x},\\textit{y} \\} = \\{ \\textit{y},\\textit{x} \\} $. Therefore, presentation order does not matter, the set is the same.\n",
    "\n",
    "In machine learning, we usually do care about presentation order. For this, we need to define an **ordered pair** (I'll introduce this at an intuitive level, to avoid to introduce too many new concepts). An **ordered pair** is denoted as $( \\textit{x},\\textit{y} )$, with $\\textit{x}$ as the *first coordinate* and $\\textit{y}$ as the *second coordinate*. A valid ordered pair has the property that $( \\textit{x},\\textit{y} ) \\ne ( \\textit{y},\\textit{x} )$."
   ]
  },
  {
   "cell_type": "markdown",
   "metadata": {},
   "source": [
    "## Relations"
   ]
  },
  {
   "cell_type": "markdown",
   "metadata": {},
   "source": [
    "From ordered pairs, we can derive the idea of **relations** among sets or between elements and sets. Relations can be binary, ternary, quaternary, or N-ary. Here we are just concerned with binary relationships. In set theory, **relations** are defined as *sets of ordered pairs*, and denoted as $\\textit{R}$. Hence, we can express the relation between $\\textit{x}$ and $\\textit{y}$ as:\n",
    "\n",
    "$$\n",
    "\\textit{x R y}\n",
    "$$\n",
    "\n",
    "Further, for any $\\textit{z} \\in \\textit{R}$, there exist $\\textit{x}$ and $\\textit{y}$ such that $\\textit{z} = (\\textit{x}, \\textit{y})$. \n",
    "\n",
    "From the definition of $\\textit{R}$, we can obtain the notions of **domain** and **range**. The **domain** is a set defined as:\n",
    "\n",
    "$$\n",
    "\\text{dom } \\textit{R} = \\{ \\textit{x:  for some y } ( \\textit{x R y)} \\}\n",
    "$$\n",
    "\n",
    "This reads as: the values of $\\textit{x}$ such that for at least one element of $\\textit{y}$, $\\textit{x}$ has a relation with $\\textit{y}$. \n",
    "\n",
    "The **range** is a set defined as:\n",
    "\n",
    "$$\n",
    "\\text{ran } \\textit{R} = \\{ \\textit{y:  for some x } ( \\textit{x R y)} \\}\n",
    "$$\n",
    "\n",
    "This reads: the set formed by the values of $\\text{y}$ such that at least one element of $\\textit{x}$, $\\textit{x}$ has a relation with $\\textit{y}$. "
   ]
  },
  {
   "cell_type": "markdown",
   "metadata": {},
   "source": [
    "## Functions"
   ]
  },
  {
   "cell_type": "markdown",
   "metadata": {},
   "source": [
    "Consider a pair of sets $\\textit{X}$ and $\\textit{Y}$. We say that a **function** from $\\textit{X}$ to $\\textit{Y}$ is relation such that:\n",
    "\n",
    "- $dom \\textit{ f} = \\textit{X}$ and\n",
    "- such that for each $\\textit{x} \\in \\textit{X}$ there is a unique element of  $\\textit{y} \\in \\textit{Y}$ with $(\\textit{x}, \\textit{y}) \\in {f}$ \n",
    "\n",
    "More informally, we say that a function \"*transform*\" or \"*maps*\" or \"*sends*\" $\\textit{x}$ onto $\\textit{y}$, and for each \"*argument*\" $\\textit{x}$ there is a unique value $\\textit{y}$ that $\\textit{f }$ \"*assummes*\" or \"*takes*\".\n",
    "\n",
    "We typically denote a relation or function or transformation or mapping from X onto Y as:\n",
    "\n",
    "$$\n",
    "\\textit{f}: \\textit{X} \\rightarrow \\textit{Y}\n",
    "$$\n",
    "\n",
    "or\n",
    "\n",
    "$$\n",
    "\\textit{f}(\\textit{x}) = \\textit{y} \n",
    "$$\n",
    "\n",
    "The simples way to see the effect of this definition of a function is with a chart. In Fig. 1, the left-pane shows a valid function, i.e., each value $\\textit{f}(\\textit{x})$ *maps* uniquely onto one value of $\\textit{y}$. The right-pane is not a function, since each value $\\textit{f}(\\textit{x})$ *maps* onto multiple values of $\\textit{y}$. "
   ]
  },
  {
   "cell_type": "markdown",
   "metadata": {},
   "source": [
    "<center> Fig. 1: Geometric vectors <center/>"
   ]
  },
  {
   "cell_type": "markdown",
   "metadata": {},
   "source": [
    "<center>\n",
    "<img src=\"./images/b-function.svg\">\n",
    "<center/>"
   ]
  },
  {
   "cell_type": "markdown",
   "metadata": {},
   "source": [
    "For $\\textit{f}: \\textit{X} \\rightarrow \\textit{Y}$, the *domain* of $\\textit{f}$ equals to $\\textit{X}$, but the *range* does not necessarily equals to  $\\textit{Y}$. Just recall that the *range* includes only the elements for which $\\textit{Y}$ has a relation with $\\textit{X}$. \n",
    "\n",
    "**The ultimate goal of machine learning is learning functions from data**, i.e., transformations or mappings from the *domain* onto the *range* of a function. This may sound simplistic, but it's true. The *domain* $\\textit{X}$ is usually a vector (or set) of *variables* or *features* mapping onto a vector of *target* values. Finally, I want to emphasize that in machine learning the words transformation and mapping are used interchangeably, but both just mean function.\n",
    "\n",
    "This is all I'll cover about sets and functions. My goals were just to introduce: (1) **the concept of a set**, (2) **basic set notation**, (3) **how sets are generated**, (4) **how sets allow the definition of functions**, (5) **the concept of a function**. Set theory is a monumental field, but there is no need to learn everything about sets to understand linear algebra. Halmo's **Naive set theory** (not free, but you can find a copy for ~\\\\$8-$10 US) is a fantastic book for people that just need to understand the most fundamental ideas in a relatively informal manner.  "
   ]
  },
  {
   "cell_type": "code",
   "execution_count": 1,
   "metadata": {},
   "outputs": [
    {
     "data": {
      "text/plain": [
       "ThemeRegistry.enable('dark')"
      ]
     },
     "execution_count": 1,
     "metadata": {},
     "output_type": "execute_result"
    }
   ],
   "source": [
    "# Libraries for this section \n",
    "import numpy as np\n",
    "import pandas as pd\n",
    "import altair as alt\n",
    "alt.themes.enable('dark')"
   ]
  },
  {
   "cell_type": "markdown",
   "metadata": {},
   "source": [
    "# Vectors"
   ]
  },
  {
   "cell_type": "markdown",
   "metadata": {},
   "source": [
    "Linear algebra is the study of vectors. At the most general level, vectors are **ordered finite lists of numbers**. Vectors are the most fundamental mathematical object in machine learning. We use them to **represent attributes of entities**: age, sex, test scores, etc. We represent vectors by a bold lower-case letter like $\\bf{v}$ or as a lower-case letter with an arrow on top like $\\vec{v}$.\n",
    "\n",
    "Vectors are a type of mathematical object that can be **added together** and/or **multiplied by a number** to obtain another object of **the same kind**. For instance, if we have a vector $\\bf{x} = \\text{age}$ and a second vector $\\bf{y} = \\text{weight}$, we can add them together and obtain a third vector $\\bf{z} = x + y$. We can also multiply $2 \\times \\bf{x}$ to obtain $2\\bf{x}$, again, a vector. This is what we mean by *the same kind*: the returning object is still a *vector*. "
   ]
  },
  {
   "cell_type": "markdown",
   "metadata": {},
   "source": [
    "## Types of vectors"
   ]
  },
  {
   "cell_type": "markdown",
   "metadata": {},
   "source": [
    "Vectors come in three flavors: (1) **geometric vectors**, (2) **polynomials**, (3) and **elements of $\\mathbb{R^n}$ space**. We will defined each one next."
   ]
  },
  {
   "cell_type": "markdown",
   "metadata": {},
   "source": [
    "### Geometric vectors"
   ]
  },
  {
   "cell_type": "markdown",
   "metadata": {},
   "source": [
    "**Geometric vectors are oriented segments**. Therse are the kind of vectors you probably learned about in high-school physics and geometry. Many linear algebra concepts come from the geometric point of view of vectors: space, plane, distance, etc."
   ]
  },
  {
   "cell_type": "markdown",
   "metadata": {},
   "source": [
    "<center> Fig. 2: Geometric vectors <center/>"
   ]
  },
  {
   "cell_type": "markdown",
   "metadata": {},
   "source": [
    "<center>\n",
    "<img src=\"./images/b-geometric-vectors.svg\">\n",
    "<center/>"
   ]
  },
  {
   "cell_type": "markdown",
   "metadata": {},
   "source": [
    "### Polynomials"
   ]
  },
  {
   "cell_type": "markdown",
   "metadata": {},
   "source": [
    "**A polynomial is an expression like $f(x) = x^2 + y + 1$**. This is, a expression adding multiple \"terms\" (nomials). Polynomials are vectors because they meet the definition of a vector: they can be added together to get another polynomial, and they can be multiplied together to get another polynomial. "
   ]
  },
  {
   "cell_type": "markdown",
   "metadata": {},
   "source": [
    "$$\n",
    "\\text{function addition is valid} \\\\\n",
    "f(x) + g(x)\\\\\n",
    "$$\n",
    "$$\n",
    "and\\\\\n",
    "$$\n",
    "$$\n",
    "\\text{multiplying by a scalar is valid} \\\\\n",
    "5 \\times f(x)\n",
    "$$"
   ]
  },
  {
   "cell_type": "markdown",
   "metadata": {},
   "source": [
    "<center> Fig. 3: Polynomials <center/>"
   ]
  },
  {
   "cell_type": "markdown",
   "metadata": {},
   "source": [
    "<center>\n",
    "<img src=\"./images/b-polynomials-vectors.svg\">\n",
    "<center/>"
   ]
  },
  {
   "cell_type": "markdown",
   "metadata": {},
   "source": [
    "### Elements of R"
   ]
  },
  {
   "cell_type": "markdown",
   "metadata": {},
   "source": [
    "**Elements of $\\mathbb{R}^n$ are sets of real numbers**. This type of representation is arguably the most important for applied machine learning. It is how data is commonly represented in computers to build machine learning models. For instance, a vector in $\\mathbb{R}^3$ takes the shape of:\n",
    "\n",
    "$$\n",
    "\\bf{x}=\n",
    "\\begin{bmatrix}\n",
    "x_1 \\\\\n",
    "x_2 \\\\\n",
    "x_3\n",
    "\\end{bmatrix}\n",
    "\\in \\mathbb{R}^3\n",
    "$$\n",
    "\n",
    "Indicating that it contains three dimensions."
   ]
  },
  {
   "cell_type": "markdown",
   "metadata": {},
   "source": [
    "$$\n",
    "\\text{addition is valid} \\\\\n",
    "\\phantom{space}\\\\\n",
    "\\begin{bmatrix}\n",
    "1 \\\\\n",
    "2 \\\\\n",
    "3\n",
    "\\end{bmatrix} +\n",
    "\\begin{bmatrix}\n",
    "1 \\\\\n",
    "2 \\\\\n",
    "3\n",
    "\\end{bmatrix}=\n",
    "\\begin{bmatrix}\n",
    "2 \\\\\n",
    "4 \\\\\n",
    "6\n",
    "\\end{bmatrix}\\\\\n",
    "$$\n",
    "$$\n",
    "and\\\\\n",
    "$$\n",
    "$$\n",
    "\\text{multiplying by a scalar is valid} \\\\\n",
    "\\phantom{space}\\\\\n",
    "5 \\times\n",
    "\\begin{bmatrix}\n",
    "1 \\\\\n",
    "2 \\\\\n",
    "3\n",
    "\\end{bmatrix} = \n",
    "\\begin{bmatrix}\n",
    "5 \\\\\n",
    "10 \\\\\n",
    "15\n",
    "\\end{bmatrix}\n",
    "$$"
   ]
  },
  {
   "cell_type": "markdown",
   "metadata": {},
   "source": [
    "In `NumPy` vectors are represented as n-dimensional arrays. To create a vector in $\\mathbb{R^3}$:"
   ]
  },
  {
   "cell_type": "code",
   "execution_count": 2,
   "metadata": {},
   "outputs": [],
   "source": [
    "x = np.array([[1],\n",
    "              [2],\n",
    "              [3]])"
   ]
  },
  {
   "cell_type": "markdown",
   "metadata": {},
   "source": [
    "We can inspect the vector shape by:"
   ]
  },
  {
   "cell_type": "code",
   "execution_count": 3,
   "metadata": {},
   "outputs": [
    {
     "data": {
      "text/plain": [
       "(3, 1)"
      ]
     },
     "execution_count": 3,
     "metadata": {},
     "output_type": "execute_result"
    }
   ],
   "source": [
    "x.shape # (3 dimensions, 1 element on each)"
   ]
  },
  {
   "cell_type": "code",
   "execution_count": 4,
   "metadata": {},
   "outputs": [
    {
     "name": "stdout",
     "output_type": "stream",
     "text": [
      "A 3-dimensional vector:\n",
      "[[1]\n",
      " [2]\n",
      " [3]]\n"
     ]
    }
   ],
   "source": [
    "print(f'A 3-dimensional vector:\\n{x}')"
   ]
  },
  {
   "cell_type": "markdown",
   "metadata": {},
   "source": [
    "## Zero vector, unit vector, and sparse vector"
   ]
  },
  {
   "cell_type": "markdown",
   "metadata": {},
   "source": [
    "There are a couple of  \"special\" vectors worth to remember as they will be mentioned frequently on applied linear algebra: (1) zero vector, (2) unit vector, (3) sparse vectors\n",
    "\n",
    "**Zero vectors**, are vectors composed of zeros, and zeros only. It is common to see this vector denoted as simply $0$, regardless of the dimensionality. Hence, you may see a 3-dimensional or 10-dimensional with all entries equal to 0, refered as \"the 0\" vector. For instance:\n",
    "\n",
    "$$\n",
    "\\bf{0} = \n",
    "\\begin{bmatrix}\n",
    "0\\\\\n",
    "0\\\\\n",
    "0\n",
    "\\end{bmatrix}\n",
    "$$\n",
    "\n",
    "**Unit vectors**, are vectors composed of a single element equal to one, and the rest to zero. Unit vectors are important to understand applications like norms. For instance, $\\bf{x_1}$, $\\bf{x_2}$, and $\\bf{x_3}$ are unit vectors:\n",
    "\n",
    "$$\n",
    "\\bf{x_1} = \n",
    "\\begin{bmatrix}\n",
    "1\\\\\n",
    "0\\\\\n",
    "0\n",
    "\\end{bmatrix},\n",
    "\\bf{x_2} = \n",
    "\\begin{bmatrix}\n",
    "0\\\\\n",
    "1\\\\\n",
    "0\n",
    "\\end{bmatrix},\n",
    "\\bf{x_3} = \n",
    "\\begin{bmatrix}\n",
    "0\\\\\n",
    "0\\\\\n",
    "1\n",
    "\\end{bmatrix}\n",
    "$$\n",
    "\n",
    "**Sparse vectors**, are vectors with most of its elements equal to zero. We denote the number of nonzero elements of a vector $\\bf{x}$ as $nnz(x)$. The sparser possible vector is the zero vector. Sparse vectors are common in machine learning applications and often require some type of method to deal with them effectively.  "
   ]
  },
  {
   "cell_type": "markdown",
   "metadata": {},
   "source": [
    "\n",
    "## Vector dimensions and coordinate system"
   ]
  },
  {
   "cell_type": "markdown",
   "metadata": {},
   "source": [
    "Vectors can have any number of dimensions. The most common are the 2-dimensional cartesian plane, and the 3-dimensional space. Vectors in 2 and 3 dimensions are used often for pedgagogical purposes since we can visualize them as geometric vectors. Nevetheless, most problems in machine learning entail more dimensions, sometiome hundreds or thousands of dimensions. The notation for a vector $\\bf{x}$ of arbitrary dimensions, $n$ is:\n",
    "\n",
    "$$\n",
    "\\bf{x} = \n",
    "\\begin{bmatrix}\n",
    "x_1 \\\\ x_2 \\\\ \\vdots \\\\ x_n\n",
    "\\end{bmatrix}\n",
    "\\in \\mathbb{R}^n\n",
    "$$\n",
    "\n",
    "Vectors dimensions map into **coordinate systems or perpendicular axes**. Coordinate systems have an origin at $(0,0,0)$, hence, when we define a vector:\n",
    "\n",
    "$$\\bf{x} = \\begin{bmatrix} 3 \\\\ 2 \\\\ 1 \\end{bmatrix} \\in \\mathbb{R}^3$$\n",
    "\n",
    "we are saying: starting from the origin, move 3 units in the 1st perpendicular axis, 2 units in the 2nd perpendicular axis, and 1 unit in the 3rd perpendicular axis. We will see later that when we have a set of perpendicular axes we obtain the basis of a vector space."
   ]
  },
  {
   "cell_type": "markdown",
   "metadata": {},
   "source": [
    "<center> Fig. 4: Coordinate systems <center/>"
   ]
  },
  {
   "cell_type": "markdown",
   "metadata": {},
   "source": [
    "<center>\n",
    "<img src=\"./images/b-coordinate-system.svg\">\n",
    "<center/>"
   ]
  },
  {
   "cell_type": "markdown",
   "metadata": {},
   "source": [
    "## Basic vector operations"
   ]
  },
  {
   "cell_type": "markdown",
   "metadata": {},
   "source": [
    "### Vector-vector addition "
   ]
  },
  {
   "cell_type": "markdown",
   "metadata": {},
   "source": [
    "We used vector-vector addition to define vectors without defining vector-vector addition. Vector-vector addition is an element-wise operation, only defined for vectors of the same size (i.e., number of elements). Consider two vectors of the same size, then: \n",
    "\n",
    "$$\n",
    "\\bf{x} + \\bf{y} = \n",
    "\\begin{bmatrix}\n",
    "x_1\\\\\n",
    "\\vdots\\\\\n",
    "x_n\n",
    "\\end{bmatrix}+\n",
    "\\begin{bmatrix}\n",
    "y_1\\\\\n",
    "\\vdots\\\\\n",
    "y_n\n",
    "\\end{bmatrix} =\n",
    "\\begin{bmatrix}\n",
    "x_1 + y_1\\\\\n",
    "\\vdots\\\\\n",
    "x_n + y_n\n",
    "\\end{bmatrix}\n",
    "$$"
   ]
  },
  {
   "cell_type": "markdown",
   "metadata": {},
   "source": [
    "For instance:"
   ]
  },
  {
   "cell_type": "markdown",
   "metadata": {},
   "source": [
    "$$\n",
    "\\bf{x} + \\bf{y} = \n",
    "\\begin{bmatrix}\n",
    "1\\\\\n",
    "2\\\\\n",
    "3\n",
    "\\end{bmatrix}+\n",
    "\\begin{bmatrix}\n",
    "1\\\\\n",
    "2\\\\\n",
    "3\n",
    "\\end{bmatrix} =\n",
    "\\begin{bmatrix}\n",
    "1 + 1\\\\\n",
    "2 + 2\\\\\n",
    "3 + 3\n",
    "\\end{bmatrix} =\n",
    "\\begin{bmatrix}\n",
    "2\\\\\n",
    "4\\\\\n",
    "6\n",
    "\\end{bmatrix}\n",
    "$$"
   ]
  },
  {
   "cell_type": "markdown",
   "metadata": {},
   "source": [
    "Vector addition has a series of **fundamental properties** worth mentioning:\n",
    "\n",
    "1. Commutativity: $x + y = y + x$\n",
    "2. Associativity: $(x + y) + z = x + (y + z)$\n",
    "3. Adding the zero vector has no effect: $x + 0 = 0 + x = x$\n",
    "4. Substracting a vector from itself returns the zero vector: $x - x = 0$"
   ]
  },
  {
   "cell_type": "markdown",
   "metadata": {},
   "source": [
    "In `NumPy`, we add two vectors of the same with the `+` operator or the `add` method:"
   ]
  },
  {
   "cell_type": "code",
   "execution_count": 5,
   "metadata": {},
   "outputs": [],
   "source": [
    "x = y = np.array([[1],\n",
    "                  [2],\n",
    "                  [3]])"
   ]
  },
  {
   "cell_type": "code",
   "execution_count": 6,
   "metadata": {},
   "outputs": [
    {
     "data": {
      "text/plain": [
       "array([[2],\n",
       "       [4],\n",
       "       [6]])"
      ]
     },
     "execution_count": 6,
     "metadata": {},
     "output_type": "execute_result"
    }
   ],
   "source": [
    "x + y"
   ]
  },
  {
   "cell_type": "code",
   "execution_count": 7,
   "metadata": {},
   "outputs": [
    {
     "data": {
      "text/plain": [
       "array([[2],\n",
       "       [4],\n",
       "       [6]])"
      ]
     },
     "execution_count": 7,
     "metadata": {},
     "output_type": "execute_result"
    }
   ],
   "source": [
    "np.add(x,y)"
   ]
  },
  {
   "cell_type": "markdown",
   "metadata": {},
   "source": [
    "### Vector-scalar multiplication"
   ]
  },
  {
   "cell_type": "markdown",
   "metadata": {},
   "source": [
    "Vector-scalar multiplication is an element-wise operation. It's defined as:"
   ]
  },
  {
   "cell_type": "markdown",
   "metadata": {},
   "source": [
    "$$\n",
    "\\alpha \\bf{x} = \n",
    "\\begin{bmatrix}\n",
    "\\alpha \\bf{x_1}\\\\\n",
    "\\vdots \\\\\n",
    "\\alpha \\bf{x_n}\n",
    "\\end{bmatrix}\n",
    "$$"
   ]
  },
  {
   "cell_type": "markdown",
   "metadata": {},
   "source": [
    "Consider $\\alpha = 2$ and $\\bf{x} = \\begin{bmatrix} 1 \\\\ 2 \\\\ 3 \\end{bmatrix}$:"
   ]
  },
  {
   "cell_type": "markdown",
   "metadata": {},
   "source": [
    "$$\n",
    "\\alpha \\bf{x} = \n",
    "\\begin{bmatrix}\n",
    "2 \\times 1\\\\\n",
    "2 \\times 2\\\\\n",
    "2 \\times 3\n",
    "\\end{bmatrix} = \n",
    "\\begin{bmatrix}\n",
    "2\\\\\n",
    "4\\\\\n",
    "6\n",
    "\\end{bmatrix}\n",
    "$$"
   ]
  },
  {
   "cell_type": "markdown",
   "metadata": {},
   "source": [
    "Vector-scalar multiplication satisfies a series of important properties:\n",
    "\n",
    "1. Associativity: $(\\alpha \\beta) \\bf{x} = \\alpha (\\beta \\bf{x})$\n",
    "2. Left-distributive property: $(\\alpha + \\beta) \\bf{x} = \\alpha \\bf{x} + \\beta \\bf{x}$\n",
    "3. Right-distributive property: $\\bf{x} (\\alpha + \\beta) = \\bf{x} \\alpha + \\bf{x} \\beta$\n",
    "4. Right-distributive property for vector addition: $\\alpha (\\bf{x} + \\bf{y}) = \\alpha \\bf{x} + \\alpha \\bf{y}$"
   ]
  },
  {
   "cell_type": "markdown",
   "metadata": {},
   "source": [
    "In `NumPy`, we compute scalar-vector multiplication with the `*` operator:"
   ]
  },
  {
   "cell_type": "code",
   "execution_count": 8,
   "metadata": {},
   "outputs": [],
   "source": [
    "alpha = 2\n",
    "x = np.array([[1],\n",
    "             [2],\n",
    "             [3]])"
   ]
  },
  {
   "cell_type": "code",
   "execution_count": 9,
   "metadata": {},
   "outputs": [
    {
     "data": {
      "text/plain": [
       "array([[2],\n",
       "       [4],\n",
       "       [6]])"
      ]
     },
     "execution_count": 9,
     "metadata": {},
     "output_type": "execute_result"
    }
   ],
   "source": [
    "alpha * x"
   ]
  },
  {
   "cell_type": "markdown",
   "metadata": {},
   "source": [
    "### Linear combinations of vectors"
   ]
  },
  {
   "cell_type": "markdown",
   "metadata": {},
   "source": [
    "There are only two legal operations with vectors in linear algebra: **addition** and **multiplication by numbers**. When we combine those, we get a **linear combination**."
   ]
  },
  {
   "cell_type": "markdown",
   "metadata": {},
   "source": [
    "$$\n",
    "\\alpha \\bf{x} + \\beta \\bf{y} = \n",
    "\\alpha\n",
    "\\begin{bmatrix}\n",
    "x_1 \\\\ \n",
    "x_2\n",
    "\\end{bmatrix}+\n",
    "\\beta\n",
    "\\begin{bmatrix}\n",
    "y_1 \\\\ \n",
    "y_2\n",
    "\\end{bmatrix}=\n",
    "\\begin{bmatrix}\n",
    "\\alpha x_1 + \\alpha x_2\\\\ \n",
    "\\beta y_1 + \\beta y_2\n",
    "\\end{bmatrix}\n",
    "$$"
   ]
  },
  {
   "cell_type": "markdown",
   "metadata": {},
   "source": [
    "Consider $\\alpha = 2$, $\\beta = 3$, $\\bf{x}=\\begin{bmatrix}2 \\\\ 3\\end{bmatrix}$, and $\\begin{bmatrix}4 \\\\ 5\\end{bmatrix}$.\n",
    "\n",
    "We obtain:"
   ]
  },
  {
   "cell_type": "markdown",
   "metadata": {},
   "source": [
    "$$\n",
    "\\alpha \\bf{x} + \\beta \\bf{y} = \n",
    "2\n",
    "\\begin{bmatrix}\n",
    "2 \\\\ \n",
    "3\n",
    "\\end{bmatrix}+\n",
    "3\n",
    "\\begin{bmatrix}\n",
    "4 \\\\ \n",
    "5\n",
    "\\end{bmatrix}=\n",
    "\\begin{bmatrix}\n",
    "2 \\times 2 + 2 \\times 4\\\\ \n",
    "2 \\times 3 + 3 \\times 5\n",
    "\\end{bmatrix}=\n",
    "\\begin{bmatrix}\n",
    "10 \\\\\n",
    "21\n",
    "\\end{bmatrix}\n",
    "$$"
   ]
  },
  {
   "cell_type": "markdown",
   "metadata": {},
   "source": [
    "Another way to express linear combinations you'll see often is with summation notation. Consider a set of vectors $x_1, ..., x_k$ and scalars $\\beta_1, ..., \\beta_k \\in \\mathbb{R}$, then:   "
   ]
  },
  {
   "cell_type": "markdown",
   "metadata": {},
   "source": [
    "$$\n",
    "\\sum_{i=1}^k \\beta_i x_i := \\beta_1x_1 + ... + \\beta_kx_k\n",
    "$$"
   ]
  },
  {
   "cell_type": "markdown",
   "metadata": {},
   "source": [
    "Note that $:=$ means \"*is defined as*\".\n",
    "\n",
    "Linear combinations are the most fundamental operation in linear algebra. Everything in linear algebra results from linear combinations. For instance, linear regression is a linear combination of vectors. **Fig. 2** shows an example of how adding two geometrical vectors looks like for intuition."
   ]
  },
  {
   "cell_type": "markdown",
   "metadata": {},
   "source": [
    "In `NumPy`, we do linear combinations as:"
   ]
  },
  {
   "cell_type": "code",
   "execution_count": 10,
   "metadata": {},
   "outputs": [],
   "source": [
    "a, b = 2, 3\n",
    "x , y = np.array([[2],[3]]), np.array([[4], [5]])"
   ]
  },
  {
   "cell_type": "code",
   "execution_count": 11,
   "metadata": {},
   "outputs": [
    {
     "data": {
      "text/plain": [
       "array([[16],\n",
       "       [21]])"
      ]
     },
     "execution_count": 11,
     "metadata": {},
     "output_type": "execute_result"
    }
   ],
   "source": [
    "a*x + b*y"
   ]
  },
  {
   "cell_type": "markdown",
   "metadata": {},
   "source": [
    "### Vector-vector multiplication: dot product"
   ]
  },
  {
   "cell_type": "markdown",
   "metadata": {},
   "source": [
    "We covered vector addition and multiplication by scalars. Now I will define vector-vector multiplication, commonly known as a **dot product** or **inner product**. The dot product of $\\bf{x}$ and $\\bf{y}$ is defined as: \n",
    "\n",
    "$$\n",
    "\\bf{x} \\cdot \\bf{y} :=\n",
    "\\begin{bmatrix}\n",
    "x_1 \\\\\n",
    "x_2\n",
    "\\end{bmatrix}^T\n",
    "\\begin{bmatrix}\n",
    "y_1 \\\\\n",
    "y_2\n",
    "\\end{bmatrix} =\n",
    "\\begin{bmatrix}\n",
    "x_1 & x_2\n",
    "\\end{bmatrix}\n",
    "\\begin{bmatrix}\n",
    "y_1 \\\\\n",
    "y_2\n",
    "\\end{bmatrix} =\n",
    "x_1 \\times y_1 + x_2 \\times y_2 \n",
    "$$\n",
    "\n",
    "Where the $T$ superscript denotes the transpose of the vector. Transposing a vector just means to \"flip\" the column vector to a row vector counterclockwise. For instance:\n",
    "\n",
    "$$\n",
    "\\bf{x} \\cdot \\bf{y} =\n",
    "\\begin{bmatrix}\n",
    "-2 \\\\\n",
    "2\n",
    "\\end{bmatrix}\n",
    "\\begin{bmatrix}\n",
    "4 \\\\\n",
    "-3\n",
    "\\end{bmatrix} =\n",
    "\\begin{bmatrix}\n",
    "-2 & 2\n",
    "\\end{bmatrix}\n",
    "\\begin{bmatrix}\n",
    "4 \\\\\n",
    "-3\n",
    "\\end{bmatrix} =\n",
    "-2 \\times 4 + 2 \\times -3 = (-8) + (-6) = -14  \n",
    "$$\n",
    "\n",
    "Dot products are so important in machine learning, that after a while they become second nature for practitioners.\n",
    "\n",
    "To multiply two vectors with dimensions (rows=2, cols=1) in `Numpy`, we need to transpose the first vector at using the `@` operator:"
   ]
  },
  {
   "cell_type": "code",
   "execution_count": 12,
   "metadata": {},
   "outputs": [],
   "source": [
    "x, y = np.array([[-2],[2]]), np.array([[4],[-3]])"
   ]
  },
  {
   "cell_type": "code",
   "execution_count": 13,
   "metadata": {},
   "outputs": [
    {
     "data": {
      "text/plain": [
       "array([[-14]])"
      ]
     },
     "execution_count": 13,
     "metadata": {},
     "output_type": "execute_result"
    }
   ],
   "source": [
    "x.T @ y"
   ]
  },
  {
   "cell_type": "markdown",
   "metadata": {},
   "source": [
    "## Vector space, span, and subspace"
   ]
  },
  {
   "cell_type": "markdown",
   "metadata": {},
   "source": [
    "### Vector space"
   ]
  },
  {
   "cell_type": "markdown",
   "metadata": {},
   "source": [
    "In its more general form, a **vector space**, also known as **linear space**, is a collection of objects that follow the rules defined for vectors in $\\mathbb{R}^n$. We mentioned those rules when we defined vectors: they can be added together and multiplied by scalars, and return vectors of the same type. More colloquially, a vector space is the set of proper vectors and all possible linear combinatios of the vector set. In addition, vector addition and multiplication must follow these eight rules: \n",
    "\n",
    "1. commutativity: $x + y = y + x$\n",
    "2. associativity: $x + (y + x) = (y + x) + z$\n",
    "3. unique zero vector such that: $x + 0 = x$ $\\forall$ $x$ \n",
    "4. $\\forall$ $x$ there is a unique vector $x$ such that $x + -x = 0$\n",
    "5. identity element of scalar multiplication: $1x = x$\n",
    "6. distributivity of scalar multiplication w.r.t vector addition: $x(y + z) = xz + zy$\n",
    "7. $x(yz) = (xy)z$\n",
    "8. $(y + z)x = yx + zx$\n",
    "\n",
    "In my experience remembering  these properties is not really important, but it's good to know that such rules exist."
   ]
  },
  {
   "cell_type": "markdown",
   "metadata": {},
   "source": [
    "### Vector span"
   ]
  },
  {
   "cell_type": "markdown",
   "metadata": {},
   "source": [
    "Consider the vectors $\\bf{x}$ and $\\bf{y}$ and the scalars $\\alpha$ and $\\beta$. If we take *all* possible linear combinations of $\\alpha \\bf{x} + \\beta \\bf{y}$ we would obtain the **span** of such vectors. This is easier to grasp when you think about geometric vectors. If our vectors $\\bf{x}$ and $\\bf{y}$ point into **different directions** in the 2-dimensional space, we get that the $span(x,y)$ is equal to **the entire 2-dimensional plane**, as shown in the middle-pane in **Fig. 5**. Just imagine having an unlimited number of two types of sticks: one pointing vertically, and one pointing horizontally. Now, you can reach any point in the 2-dimensional space by simply combining the necessary number of vertical and horizontal sticks (including taking fractions of sticks). "
   ]
  },
  {
   "cell_type": "markdown",
   "metadata": {},
   "source": [
    "<center> Fig. 5: Vector Span <center/>"
   ]
  },
  {
   "cell_type": "markdown",
   "metadata": {},
   "source": [
    "<center>\n",
    "<img src=\"./images/b-vector-span.svg\">\n",
    "<center/>"
   ]
  },
  {
   "cell_type": "markdown",
   "metadata": {},
   "source": [
    "What would happen if the vectors point in the same direction? Now, if you combine them, you just can **span a line**, as shown in the left-pane in **Fig. 5**. If you have ever heard of the term \"multicollinearity\", it's closely related to this issue: when two variables are \"colinear\" they are pointing in the same direction, hence they provide redundant information, so can drop one without information loss.\n",
    "\n",
    "With three vectors pointing into different directions, we can span the entire 3-dimensional space or a **hyper-plane**, as in the right-pane of **Fig. 5**. Note that the sphere is just meant as a 3-D reference, not as a limit.\n",
    "\n",
    "Four vectors pointing into different directions will span the 4-dimensional space, and so on. From here our geometrical intuition can't help us. This is an example of how linear algebra can describe the behavior of vectors beyond our basics intuitions. "
   ]
  },
  {
   "cell_type": "markdown",
   "metadata": {},
   "source": [
    "### Vector subspaces"
   ]
  },
  {
   "cell_type": "markdown",
   "metadata": {},
   "source": [
    "A **vector subspace (or linear subspace) is a vector space that lies within a larger vector space**. These are also known as linear subspaces. Consider a subspace $S$. For a vector to be a valid subspace it has to meet **three conditions**:\n",
    "\n",
    "1. Contains the zero vector, $\\bf{0} \\in S$\n",
    "2. Closure under multiplication, $\\forall \\alpha \\in \\mathbb{R} \\rightarrow  \\alpha \\times s_i \\in S$\n",
    "3. Closure under addition, $\\forall s_i \\in S \\rightarrow  s_1 + s_2 \\in S$\n",
    "\n",
    "Intuitively, you can think in closure as being unable to \"jump out\" from space into another. A pair of vectors laying flat in the 2-dimensional space, can't, by either addition or multiplication, \"jump out\" into the 3-dimensional space. "
   ]
  },
  {
   "cell_type": "markdown",
   "metadata": {},
   "source": [
    "<center> Fig. 6: Vector subspaces <center/>"
   ]
  },
  {
   "cell_type": "markdown",
   "metadata": {},
   "source": [
    "<center>\n",
    "<img src=\"./images/b-vector-subspace.svg\">\n",
    "<center/>"
   ]
  },
  {
   "cell_type": "markdown",
   "metadata": {},
   "source": [
    "Consider the following questions: Is $\\bf{x}=\\begin{bmatrix} 1 \\\\ 1 \\end{bmatrix}$ a valid subspace of $\\mathbb{R^2}$? Let's evaluate $\\bf{x}$ on the three conditions:\n",
    "\n",
    "**Contains the zero vector**: it does. Remember that the span of a vector are all linear combinations of such a vector. Therefore, we can simply multiply by $0$ to get $\\begin{bmatrix}0 \\\\ 0 \\end{bmatrix}$:\n",
    "\n",
    "$$\n",
    "\\bf{x}\\times 0=0\n",
    "\\begin{bmatrix}\n",
    "1 \\\\ \n",
    "1 \n",
    "\\end{bmatrix}\n",
    "=\n",
    "\\begin{bmatrix}\n",
    "0 \\\\ \n",
    "0 \n",
    "\\end{bmatrix}\n",
    "$$"
   ]
  },
  {
   "cell_type": "markdown",
   "metadata": {},
   "source": [
    "**Closure under multiplication** implies that if take any vector belonging to $\\bf{x}$ and multiply by any real scalar $\\alpha$, the resulting vector stays within the span of $\\bf{x}$. Algebraically is easy to see that we can multiply $\\begin{bmatrix} 1 \\\\ 1 \\end{bmatrix}$ by any scalar $\\alpha$, and the resulting vector remains in the 2-dimensional plane (i.e., the span of $\\mathbb{R}^2$)."
   ]
  },
  {
   "cell_type": "markdown",
   "metadata": {},
   "source": [
    "**Closure under addition** implies that if we add together any vectors belonging to $\\bf{x}$, the resulting vector remains within the span of $\\mathbb{R}^2$. Again, algebraically is clear that if we add $\\bf{x}$ + $\\bf{x}$, the resulting vector will remain in $\\mathbb{R}^2$. There is no way to get to $\\mathbb{R^3}$ or $\\mathbb{R^4}$ or any space outside the two-dimensional plane by adding $\\bf{x}$ multiple times. "
   ]
  },
  {
   "cell_type": "markdown",
   "metadata": {},
   "source": [
    "## Linear dependence and independence "
   ]
  },
  {
   "cell_type": "markdown",
   "metadata": {},
   "source": [
    "The left-pane shows a triplet of **linearly dependent** vectors, whereas the right-pane shows a triplet of **linearly independent** vectors."
   ]
  },
  {
   "cell_type": "markdown",
   "metadata": {},
   "source": [
    "<center> Fig. 7: Linear dependence and independence <center/>"
   ]
  },
  {
   "cell_type": "markdown",
   "metadata": {},
   "source": [
    "<center>\n",
    "<img src=\"./images/b-linear-independence.svg\">\n",
    "<center/>"
   ]
  },
  {
   "cell_type": "markdown",
   "metadata": {},
   "source": [
    "A set of vectors is **linearly dependent** if at least one vector can be obtained as a linear combination of other vectors in the set. As you can see in the left pane, we can combine vectors $x$ and $y$ to obtain $z$. \n",
    "\n",
    "There is more rigurous (but slightly harder to grasp) definition of linear dependence. Consider a set of vectors $x_1, ..., x_k$ and scalars $\\beta \\in \\mathbb{R}$. If there is a way to get $0 = \\sum_{i=1}^k \\beta_i x_i$ with at least one $\\beta \\ne 0$, we have linearly dependent vectors. In other words, if we can get the zero vector as a linear combination of the vectors in the set, with weights that *are not* all zero, we have a linearly dependent set.\n",
    "\n",
    "A set of vectors is **linearly independent** if none vector can be obtained as a linear combination of other vectors in the set. As you can see in the right pane, there is no way for us to combine vectors $x$ and $y$ to obtain $z$. Again, consider a set of vectors $x_1, ..., x_k$ and scalars $\\beta \\in \\mathbb{R}$. If the only way to get $0 = \\sum_{i=1}^k \\beta_i x_i$ requires all $\\beta_1, ..., \\beta_k = 0$, the we have linearly independent vectors. In words, the only way to get the zero vectors in by multoplying each vector in the set by $0$.\n",
    "\n",
    "The importance of the concepts of linear dependence and independence will become clearer in more advanced topics. For now, the important points to remember are: linearly dependent vectors contain **redundant information**, whereas linearly independent vectors do not."
   ]
  },
  {
   "cell_type": "markdown",
   "metadata": {},
   "source": [
    "## Vector null space"
   ]
  },
  {
   "cell_type": "markdown",
   "metadata": {},
   "source": [
    "Now that we know what subspaces and linear dependent vectors are, we can introduce the idea of the **null space**. Intuitively, the null space of a set of vectors are **all linear combinations that \"map\" into the zero vector**. Consider a set of geometric vectors $\\bf{w}$, $\\bf{x}$, $\\bf{y}$, and $\\bf{z}$ as in **Fig. 8**. By inspection, we can see that vectors $\\bf{x}$ and $\\bf{z}$ are parallel to each other, hence, independent. On the contrary, vectors $\\bf{w}$ and $\\bf{y}$ can be obtained as linear combinations of $\\bf{x}$ and $\\bf{z}$, therefore, dependent. "
   ]
  },
  {
   "cell_type": "markdown",
   "metadata": {},
   "source": [
    "<center> Fig. 8: Vector null space <center/>"
   ]
  },
  {
   "cell_type": "markdown",
   "metadata": {},
   "source": [
    "<center>\n",
    "<img src=\"./images/b-vector-null-space.svg\">\n",
    "<center/>"
   ]
  },
  {
   "cell_type": "markdown",
   "metadata": {},
   "source": [
    "As result, with this four vectors, we can form the following two combinations that will \"map\" into the origin of the coordinate system, this is, the zero vector $(0,0)$:\n",
    "\n",
    "$$\n",
    "\\begin{matrix}\n",
    "z - y + x = 0 \\\\\n",
    "z - x + w = 0\n",
    "\\end{matrix}\n",
    "$$\n",
    "\n",
    "We will see how this idea of the null space extends naturally in the context of matrices later."
   ]
  },
  {
   "cell_type": "markdown",
   "metadata": {},
   "source": [
    "## Vector norms"
   ]
  },
  {
   "cell_type": "markdown",
   "metadata": {},
   "source": [
    "Measuring vectors is another important operation in machine learning applications. Intuitively, we can think about the **norm** or the **length** of a vector as the distance between its \"origin\" and its \"end\".  \n",
    "\n",
    "Norms \"map\" vectors to non-negative values. In this sense are functions that assign length $\\lVert \\bf{x} \\rVert \\in \\mathbb{R^n}$ to a vector $\\bf{x}$. To be valid, a norm has to satisfy these properties (keep in mind these properties are a bit abstruse to understand):\n",
    "\n",
    "1. **Absolutely homogeneous**: $\\forall \\alpha \\in \\mathbb{R},  \\lVert \\alpha \\bf{x} \\rVert = \\vert \\alpha \\Vert \\lVert \\bf{x} \\rVert$. In words: for all real-valued scalars, the norm scales proportionally with the value of the scalar.\n",
    "2. **Triangle inequality**: $\\lVert \\bf{x} + \\bf{y} \\rVert \\le \\lVert \\bf{x} \\rVert + \\lVert \\bf{y} \\rVert $. In words: in geometric terms, for any triangle the sum of any two sides must be greater or equal to the lenght of the third side. This is easy to see experimentally: grab a piece of rope, form triangles of different sizes, measure all the sides, and test this property.\n",
    "3. **Positive definite**: $\\lVert \\bf{x} \\rVert \\ge 0$ and $ \\lVert \\bf{x} \\rVert = 0 \\Longleftrightarrow \\bf{x}= 0$. In words: the length of any $\\bf{x}$ has to be a positive value (i.e., a vector can't have negative length), and a length of $0$ occurs only of $\\bf{x}=0$ \n",
    "\n",
    "Grasping the meaning of these three properties may be difficult at this point, but they probably become clearer as you improve your understanding of linear algebra."
   ]
  },
  {
   "cell_type": "markdown",
   "metadata": {},
   "source": [
    "<center> Fig. 9: Vector norms <center/>"
   ]
  },
  {
   "cell_type": "markdown",
   "metadata": {},
   "source": [
    "<center>\n",
    "<img src=\"./images/b-l2-norm.svg\">\n",
    "<center/>"
   ]
  },
  {
   "cell_type": "markdown",
   "metadata": {},
   "source": [
    "### Euclidean norm"
   ]
  },
  {
   "cell_type": "markdown",
   "metadata": {},
   "source": [
    "The Euclidean norm is one of the most popular norms in machine learning. It is so widely used that sometimes is refered simply as \"the norm\" of a vector. Is defined as:\n",
    "\n",
    "$$\n",
    "\\lVert \\bf{x} \\rVert_2 := \\sqrt{\\sum_{i=1}^n x_i^2} = \\sqrt{x^Tx} \n",
    "$$\n",
    "\n",
    "Hence, in **two dimensions** the $L_2$ norm is:\n",
    "\n",
    "$$\n",
    "\\lVert \\bf{x} \\rVert_2 \\in \\mathbb{R}^2 = \\sqrt {x_1^2  \\cdot x_2^2 } \n",
    "$$\n",
    "\n",
    "Which is equivalent to the formula for the hypotenuse a triangle with sides $x_1^2$ and $x_2^2$. \n",
    "\n",
    "The same pattern follows for higher dimensions of $\\mathbb{R^n}$\n",
    "\n",
    "In `NumPy`, we can compute the $L_2$ norm as:"
   ]
  },
  {
   "cell_type": "code",
   "execution_count": 14,
   "metadata": {},
   "outputs": [
    {
     "data": {
      "text/plain": [
       "5.0"
      ]
     },
     "execution_count": 14,
     "metadata": {},
     "output_type": "execute_result"
    }
   ],
   "source": [
    "x = np.array([[3],[4]])\n",
    "\n",
    "np.linalg.norm(x, 2)"
   ]
  },
  {
   "cell_type": "markdown",
   "metadata": {},
   "source": [
    "If you remember the first \"Pythagorean triple\", you can confirm that the norm is correct."
   ]
  },
  {
   "cell_type": "markdown",
   "metadata": {},
   "source": [
    "### Manhattan norm"
   ]
  },
  {
   "cell_type": "markdown",
   "metadata": {},
   "source": [
    "The Manhattan or $L_1$ norm gets its name in analogy to measuring distances while moving in Manhattan, NYC. Since Manhattan has a grid-shape, the distance between any two points is measured by moving in vertical and horizontals lines (instead of diagonals as in the Euclidean norm). It is defined as:\n",
    "\n",
    "$$\n",
    "\\lVert \\bf{x} \\rVert_1 := \\sum_{i=1}^n \\vert x_i \\vert \n",
    "$$"
   ]
  },
  {
   "cell_type": "markdown",
   "metadata": {},
   "source": [
    "Where $\\vert x_i \\vert$ is the absolute value. The $L_1$ norm is preferred when discriminating between elements that are exactly zero and elements that are small but not zero.   \n",
    "\n",
    "In `NumPy` we compute the $L_1$ norm as"
   ]
  },
  {
   "cell_type": "code",
   "execution_count": 15,
   "metadata": {},
   "outputs": [
    {
     "data": {
      "text/plain": [
       "7.0"
      ]
     },
     "execution_count": 15,
     "metadata": {},
     "output_type": "execute_result"
    }
   ],
   "source": [
    "x = np.array([[3],[-4]])\n",
    "\n",
    "np.linalg.norm(x, 1)"
   ]
  },
  {
   "cell_type": "markdown",
   "metadata": {},
   "source": [
    "Is easy to confirm that the sum of the absolute values of $3$ and $-4$ is $7$."
   ]
  },
  {
   "cell_type": "markdown",
   "metadata": {},
   "source": [
    "### Max norm"
   ]
  },
  {
   "cell_type": "markdown",
   "metadata": {},
   "source": [
    "The max norm or infinity norm is simply the absolute value of the largest element in the vector. It is defined as:\n",
    "\n",
    "$$\n",
    "\\lVert \\bf{x} \\rVert_\\infty := max_i \\vert x_i \\vert \n",
    "$$"
   ]
  },
  {
   "cell_type": "markdown",
   "metadata": {},
   "source": [
    "Where $\\vert x_i \\vert$  is the absolute value. For instance, for a vector with elements $\\bf{x} = \\begin{bmatrix} 1 & 2 & 3 \\end{bmatrix}$, the $\\lVert \\bf{x} \\rVert_\\infty = 3$\n",
    "\n",
    "In `NumPy` we compute the $L_\\infty$ norm as:"
   ]
  },
  {
   "cell_type": "code",
   "execution_count": 16,
   "metadata": {},
   "outputs": [
    {
     "data": {
      "text/plain": [
       "4.0"
      ]
     },
     "execution_count": 16,
     "metadata": {},
     "output_type": "execute_result"
    }
   ],
   "source": [
    "x = np.array([[3],[-4]])\n",
    "\n",
    "np.linalg.norm(x, np.inf)"
   ]
  },
  {
   "cell_type": "markdown",
   "metadata": {},
   "source": [
    "## Vector inner product, length, and distance."
   ]
  },
  {
   "cell_type": "markdown",
   "metadata": {},
   "source": [
    "For practical purposes, inner product and length are used as equivalent to dot product and norm, although technically are not the same. \n",
    "\n",
    "**Inner products** are a more general concept that dot products, with a series of additional properties (see [here](https://en.wikipedia.org/wiki/Inner_product_space#Elementary_properties)). In other words, every dot product is an inner product, but not every inner product is a dot product. The notation for the inner product is usually a pair of angle brackets as $\\langle  .,. \\rangle$ as. For instance, the scalar inner product is defined as:\n",
    "\n",
    "$$\n",
    "\\langle x,y \\rangle := x\\cdot y\n",
    "$$\n",
    "\n",
    "In $\\mathbb{R}^n$ the inner product is a dot product defined as:\n",
    "\n",
    "$$\n",
    "\\Bigg \\langle\n",
    "\\begin{bmatrix} \n",
    "x_1 \\\\ \n",
    "\\vdots\\\\\n",
    "x_n\n",
    "\\end{bmatrix},\n",
    "\\begin{bmatrix} \n",
    "y_1 \\\\ \n",
    "\\vdots\\\\\n",
    "y_n\n",
    "\\end{bmatrix}\n",
    "\\Bigg \\rangle :=\n",
    "x \\cdot y = \\sum_{i=1}^n x_iy_i\n",
    "$$\n",
    "\n",
    "**Length** is a concept from geometry. We say that geometric vectors have length and that vectors in $\\mathbb{R}^n$ have norm. In practice, many machine learning textbooks use these concepts interchangeably. I've found authors saying things like \"we use the $l_2$ norm to compute the *length* of a vector\". For instance, we can compute the length of a directed segment (i.e., geometrical vector) $\\bf{x}$ by taking the square root of the inner product with itself as:\n",
    "\n",
    "$$\n",
    "\\lVert x \\rVert = \\sqrt{\\langle x,x \\rangle} = \\sqrt{x\\cdot y} = x^2 + y^2  \n",
    "$$\n",
    "\n",
    "**Distance** is a relational concept. It refers to the length (or norm) of the difference between two vectors. Hence, we use norms and lengths to measure the distance between vectors. Consider the vectors $\\bf{x}$ and $\\bf{y}$, we define the distance $d(x,y)$ as:\n",
    "\n",
    "$$\n",
    "d(x,y) := \\lVert x - y \\rVert = \\sqrt{\\langle x - y, x - y \\rangle}\n",
    "$$\n",
    "\n",
    "When the inner product $\\langle x - y, x - y \\rangle$ is the dot product, the distance equals to the Euclidean distance."
   ]
  },
  {
   "cell_type": "markdown",
   "metadata": {},
   "source": [
    "In machine learning, unless made explicit, we can safely assume that an inner product refers to the dot product. We already reviewed how to compute the dot product in `NumPy`:"
   ]
  },
  {
   "cell_type": "code",
   "execution_count": 17,
   "metadata": {},
   "outputs": [
    {
     "data": {
      "text/plain": [
       "array([[-14]])"
      ]
     },
     "execution_count": 17,
     "metadata": {},
     "output_type": "execute_result"
    }
   ],
   "source": [
    "x, y = np.array([[-2],[2]]), np.array([[4],[-3]])\n",
    "x.T @ y "
   ]
  },
  {
   "cell_type": "markdown",
   "metadata": {},
   "source": [
    "As with the inner product, usually, we can safely assume that **distance** stands for the Euclidean distance or $L_2$ norm unless otherwise noted. To compute the $L_2$ distance between a pair of vectors:"
   ]
  },
  {
   "cell_type": "code",
   "execution_count": 18,
   "metadata": {},
   "outputs": [
    {
     "name": "stdout",
     "output_type": "stream",
     "text": [
      "L_2 distance : 7.810249675906656\n"
     ]
    }
   ],
   "source": [
    "distance = np.linalg.norm(x-y, 2)\n",
    "print(f'L_2 distance : {distance}')"
   ]
  },
  {
   "cell_type": "markdown",
   "metadata": {},
   "source": [
    "## Vector angles and orthogonality"
   ]
  },
  {
   "cell_type": "markdown",
   "metadata": {},
   "source": [
    "The concepts of angle and orthogonality are also related to geometrical vectors. We saw that inner products allow for the definition of length and distance. In the same manner, inner products are used to define **angles** and **orthogonality**. \n",
    "\n",
    "In machine learning, the **angle** between a pair of vectors is used as a **measure of vector similarity**. To understand angles let's first look at the **Cauchy–Schwarz inequality**. Consider a pair of non-zero vectors $\\bf{x}$ and $\\bf{y}$ $\\in \\mathbb{R}^n$. The Cauchy–Schwarz inequality states that:\n",
    "\n",
    "$$\n",
    "\\vert \\langle x, y \\rangle \\vert \\leq \\Vert x \\Vert \\Vert y \\Vert\n",
    "$$\n",
    "\n",
    "In words: *the absolute value of the inner product of a pair of vectors is less than or equal to the products of their length*. The only case where both sides of the expression are *equal* is when vectors are colinear, for instance, when $\\bf{x}$ is a scaled version of $\\bf{y}$. In the 2-dimensional case, such vectors would lie along the same line. \n",
    "\n",
    "The definition of the angle between vectors can be thought as a generalization of the **law of cosines** in trigonometry, which defines for a triangle with sides $a$, $b$, and $c$, and an angle $\\theta$ are related as:\n",
    "\n",
    "$$\n",
    "c^2 = a^2 + b^2 - 2ab \\cos \\theta\n",
    "$$"
   ]
  },
  {
   "cell_type": "markdown",
   "metadata": {},
   "source": [
    "<center> Fig. 10: Law of cosines and Angle between vectors <center/>"
   ]
  },
  {
   "cell_type": "markdown",
   "metadata": {},
   "source": [
    "<center>\n",
    "<img src=\"./images/b-vector-angle.svg\">\n",
    "<center/>"
   ]
  },
  {
   "cell_type": "markdown",
   "metadata": {},
   "source": [
    "We can replace this expression with vectors lengths as: \n",
    "\n",
    "$$\n",
    "\\Vert x - y \\Vert^2 = \\Vert x \\Vert^2 + \\Vert y \\Vert^2 - 2(\\Vert x \\Vert \\Vert y \\Vert) \\cos \\theta\n",
    "$$\n",
    "\n",
    "With a bit of algebraic manipulation, we can clear the previous equation to:\n",
    "\n",
    "$$\n",
    "\\cos \\theta = \\frac{\\langle x, y \\rangle}{\\Vert x \\Vert \\Vert y \\Vert} \n",
    "$$\n",
    "\n",
    "And there we have a **definition for (cos) angle $\\theta$**. Further, from the Cauchy–Schwarz inequality we know that $\\cos \\theta$ must be:\n",
    "\n",
    "$$\n",
    "-1 \\leq \\frac{\\langle x, y \\rangle}{\\Vert x \\Vert \\Vert y \\Vert} \\leq 1  \n",
    "$$\n",
    "\n",
    "This is a necessary conclusion (range between $\\{-1, 1\\}$) since the numerator in the equation always is going to be smaller or equal to the denominator."
   ]
  },
  {
   "cell_type": "markdown",
   "metadata": {},
   "source": [
    "In `NumPy`, we can compute the $\\cos \\theta$ between a pair of vectors as: "
   ]
  },
  {
   "cell_type": "code",
   "execution_count": 19,
   "metadata": {},
   "outputs": [
    {
     "name": "stdout",
     "output_type": "stream",
     "text": [
      "cos of the angle = [[0.988]]\n"
     ]
    }
   ],
   "source": [
    "x, y = np.array([[1], [2]]), np.array([[5], [7]])\n",
    "\n",
    "# here we translate the cos(theta) definition\n",
    "cos_theta = (x.T @ y) / (np.linalg.norm(x,2) * np.linalg.norm(y,2))\n",
    "print(f'cos of the angle = {np.round(cos_theta, 3)}')"
   ]
  },
  {
   "cell_type": "markdown",
   "metadata": {},
   "source": [
    "We get that $\\cos \\theta \\approx 0.988$. Finally, to know the exact value of $\\theta$ we need to take the trigonometric inverse of the cosine function as:"
   ]
  },
  {
   "cell_type": "code",
   "execution_count": 20,
   "metadata": {},
   "outputs": [
    {
     "name": "stdout",
     "output_type": "stream",
     "text": [
      "angle in radiants = [[0.157]]\n"
     ]
    }
   ],
   "source": [
    "cos_inverse = np.arccos(cos_theta)\n",
    "print(f'angle in radiants = {np.round(cos_inverse, 3)}')"
   ]
  },
  {
   "cell_type": "markdown",
   "metadata": {},
   "source": [
    "We obtain $\\theta \\approx 0.157 $. To fo from radiants to degrees we can use the following formula:"
   ]
  },
  {
   "cell_type": "code",
   "execution_count": 21,
   "metadata": {},
   "outputs": [
    {
     "name": "stdout",
     "output_type": "stream",
     "text": [
      "angle in degrees = [[8.973]]\n"
     ]
    }
   ],
   "source": [
    "degrees = cos_inverse * ((180)/np.pi)\n",
    "print(f'angle in degrees = {np.round(degrees, 3)}')"
   ]
  },
  {
   "cell_type": "markdown",
   "metadata": {},
   "source": [
    "We obtain $\\theta \\approx 8.973^{\\circ}$"
   ]
  },
  {
   "cell_type": "markdown",
   "metadata": {},
   "source": [
    "**Orthogonality** is often used interchangeably with \"independence\" although they are mathematically different concepts. Orthogonality can be seen as a generalization of perpendicularity to vectors in any number of dimensions.\n",
    "\n",
    "We say that a pair of vectors $\\bf{x}$ and $\\bf{y}$ are **orthogonal** if their inner product is zero, $\\langle x,y \\rangle = 0$. The notation for a pair of orthogonal vectors is $\\bf{x} \\perp \\bf{y}$. In the 2-dimensional plane, this equals to a pair of vectors forming a $90^{\\circ}$ angle.\n",
    "\n",
    "Here is an example of orthogonal vectors"
   ]
  },
  {
   "cell_type": "markdown",
   "metadata": {},
   "source": [
    "<center> Fig. 11: Orthogonal vectors <center/>"
   ]
  },
  {
   "cell_type": "markdown",
   "metadata": {},
   "source": [
    "<center>\n",
    "<img src=\"./images/b-orthogonal-vectors.svg\">\n",
    "<center/>"
   ]
  },
  {
   "cell_type": "code",
   "execution_count": 22,
   "metadata": {},
   "outputs": [
    {
     "name": "stdout",
     "output_type": "stream",
     "text": [
      "cos of the angle = [[0.]]\n"
     ]
    }
   ],
   "source": [
    "x = np.array([[2], [0]])\n",
    "y = np.array([[0], [2]])\n",
    "\n",
    "cos_theta = (x.T @ y) / (np.linalg.norm(x,2) * np.linalg.norm(y,2))\n",
    "print(f'cos of the angle = {np.round(cos_theta, 3)}')"
   ]
  },
  {
   "cell_type": "markdown",
   "metadata": {},
   "source": [
    "We see that this vectors are **orthogonal** as $\\cos \\theta=0$. This is equal to  $\\approx 1.57$ radiants and $\\theta = 90^{\\circ}$"
   ]
  },
  {
   "cell_type": "code",
   "execution_count": 23,
   "metadata": {},
   "outputs": [
    {
     "name": "stdout",
     "output_type": "stream",
     "text": [
      "angle in radiants = [[1.571]]\n",
      "angle in degrees =[[90.]] \n"
     ]
    }
   ],
   "source": [
    "cos_inverse = np.arccos(cos_theta)\n",
    "degrees = cos_inverse * ((180)/np.pi)\n",
    "print(f'angle in radiants = {np.round(cos_inverse, 3)}\\nangle in degrees ={np.round(degrees, 3)} ')"
   ]
  },
  {
   "cell_type": "markdown",
   "metadata": {},
   "source": [
    "## Systems of linear equations"
   ]
  },
  {
   "cell_type": "markdown",
   "metadata": {},
   "source": [
    "The purpose of linear algebra as a tool is to **solve systems of linear equations**. Informally, this means to figure out the right combination of linear segments to obtain an outcome. Even more informally, think about making pancakes: In what proportion ($w_i \\in \\mathbb{R}$) we have to mix ingredients to make pancakes? You can express this as a linear equation: \n",
    "\n",
    "$$\n",
    "f_\\text{flour} \\times w_1 + b_\\text{baking powder}  \\times w_2 + e_\\text{eggs}  \\times w_3 + m_\\text{milk} \\times w_4 = P_\\text{pancakes}\n",
    "$$\n",
    "\n",
    "The above expression describe *a* linear equation. A *system* of linear equations involve multiple equations that have to be solved **simultaneously**. Consider:\n",
    "\n",
    "$$\n",
    "x + 2y = 8 \\\\\n",
    "5x - 3y = 1\n",
    "$$\n",
    "\n",
    "Now we have a system with two unknowns, $x$ and $y$. We'll see general methods to solve systems of linear equations later. For now, I'll give you the answer: $x=2$ and $y=3$. Geometrically, we can see that both equations produce a straight line in the 2-dimensional plane. The point on where both lines encounter is the solution to the linear system."
   ]
  },
  {
   "cell_type": "code",
   "execution_count": 24,
   "metadata": {},
   "outputs": [],
   "source": [
    "df = pd.DataFrame({\"x1\": [0, 2], \"y1\":[8, 3], \"x2\": [0.5, 2], \"y2\": [0, 3]})"
   ]
  },
  {
   "cell_type": "code",
   "execution_count": 25,
   "metadata": {},
   "outputs": [
    {
     "data": {
      "text/html": [
       "\n",
       "<div id=\"altair-viz-bef07b84bfce487d9a3f4f235c81d037\"></div>\n",
       "<script type=\"text/javascript\">\n",
       "  (function(spec, embedOpt){\n",
       "    let outputDiv = document.currentScript.previousElementSibling;\n",
       "    if (outputDiv.id !== \"altair-viz-bef07b84bfce487d9a3f4f235c81d037\") {\n",
       "      outputDiv = document.getElementById(\"altair-viz-bef07b84bfce487d9a3f4f235c81d037\");\n",
       "    }\n",
       "    const paths = {\n",
       "      \"vega\": \"https://cdn.jsdelivr.net/npm//vega@5?noext\",\n",
       "      \"vega-lib\": \"https://cdn.jsdelivr.net/npm//vega-lib?noext\",\n",
       "      \"vega-lite\": \"https://cdn.jsdelivr.net/npm//vega-lite@4.8.1?noext\",\n",
       "      \"vega-embed\": \"https://cdn.jsdelivr.net/npm//vega-embed@6?noext\",\n",
       "    };\n",
       "\n",
       "    function loadScript(lib) {\n",
       "      return new Promise(function(resolve, reject) {\n",
       "        var s = document.createElement('script');\n",
       "        s.src = paths[lib];\n",
       "        s.async = true;\n",
       "        s.onload = () => resolve(paths[lib]);\n",
       "        s.onerror = () => reject(`Error loading script: ${paths[lib]}`);\n",
       "        document.getElementsByTagName(\"head\")[0].appendChild(s);\n",
       "      });\n",
       "    }\n",
       "\n",
       "    function showError(err) {\n",
       "      outputDiv.innerHTML = `<div class=\"error\" style=\"color:red;\">${err}</div>`;\n",
       "      throw err;\n",
       "    }\n",
       "\n",
       "    function displayChart(vegaEmbed) {\n",
       "      vegaEmbed(outputDiv, spec, embedOpt)\n",
       "        .catch(err => showError(`Javascript Error: ${err.message}<br>This usually means there's a typo in your chart specification. See the javascript console for the full traceback.`));\n",
       "    }\n",
       "\n",
       "    if(typeof define === \"function\" && define.amd) {\n",
       "      requirejs.config({paths});\n",
       "      require([\"vega-embed\"], displayChart, err => showError(`Error loading script: ${err.message}`));\n",
       "    } else if (typeof vegaEmbed === \"function\") {\n",
       "      displayChart(vegaEmbed);\n",
       "    } else {\n",
       "      loadScript(\"vega\")\n",
       "        .then(() => loadScript(\"vega-lite\"))\n",
       "        .then(() => loadScript(\"vega-embed\"))\n",
       "        .catch(showError)\n",
       "        .then(() => displayChart(vegaEmbed));\n",
       "    }\n",
       "  })({\"usermeta\": {\"embedOptions\": {\"theme\": \"dark\"}}, \"config\": {\"view\": {\"continuousWidth\": 400, \"continuousHeight\": 300}}, \"layer\": [{\"mark\": \"line\", \"encoding\": {\"x\": {\"type\": \"quantitative\", \"field\": \"x1\"}, \"y\": {\"type\": \"quantitative\", \"field\": \"y1\"}}}, {\"mark\": {\"type\": \"line\", \"color\": \"red\"}, \"encoding\": {\"x\": {\"type\": \"quantitative\", \"field\": \"x2\"}, \"y\": {\"type\": \"quantitative\", \"field\": \"y2\"}}}], \"data\": {\"name\": \"data-57ffab6a26a928c2ff17e40b29b8a272\"}, \"$schema\": \"https://vega.github.io/schema/vega-lite/v4.8.1.json\", \"datasets\": {\"data-57ffab6a26a928c2ff17e40b29b8a272\": [{\"x1\": 0, \"y1\": 8, \"x2\": 0.5, \"y2\": 0}, {\"x1\": 2, \"y1\": 3, \"x2\": 2.0, \"y2\": 3}]}}, {\"mode\": \"vega-lite\"});\n",
       "</script>"
      ],
      "text/plain": [
       "alt.LayerChart(...)"
      ]
     },
     "execution_count": 25,
     "metadata": {},
     "output_type": "execute_result"
    }
   ],
   "source": [
    "equation1 = alt.Chart(df).mark_line().encode(x=\"x1\", y=\"y1\")\n",
    "equation2 = alt.Chart(df).mark_line(color=\"red\").encode(x=\"x2\", y=\"y2\")\n",
    "equation1 + equation2"
   ]
  },
  {
   "cell_type": "markdown",
   "metadata": {},
   "source": [
    "# Matrices"
   ]
  },
  {
   "cell_type": "code",
   "execution_count": 26,
   "metadata": {},
   "outputs": [],
   "source": [
    "# Libraries for this section \n",
    "import numpy as np\n",
    "import pandas as pd\n",
    "import altair as alt"
   ]
  },
  {
   "cell_type": "markdown",
   "metadata": {},
   "source": [
    "Matrices are as fundamental as vectors in machine learning. With vectors, we can represent single variables as sets of numbers or instances. With matrices, we can represent sets of variables. In this sense, a matrix is simply an ordered **collection of vectors**. Conventionally, column vectors, but it's always wise to pay attention to the authors' notation when reading matrices. Since computer screens operate in two dimensions, matrices are the way in which we interact with data in practice.\n",
    "\n",
    "More formally, we represent a matrix with a italicized upper-case letter like $\\textit{A}$. In two dimensions, we say the matrix $\\textit{A}$ has $m$ rows and $n$ columns. Each entry of $\\textit{A}$ is defined as $a_{ij}$, $i=1,..., m,$ and $j=1,...,n$. A matrix $\\textit{A} \\in \\mathbb{R^{m\\times n}}$ is defines as:"
   ]
  },
  {
   "cell_type": "markdown",
   "metadata": {},
   "source": [
    "$$\n",
    "A :=\n",
    "\\begin{bmatrix}\n",
    "a_{11} & a_{12} & \\cdots & a_{1n}\\\\\n",
    "a_{21} & a_{22} & \\cdots & a_{2n}\\\\\n",
    "\\vdots & \\vdots & \\ddots & \\vdots\\\\\n",
    "a_{m1} & a_{m2} & \\cdots & a_{mn}\n",
    "\\end{bmatrix},\n",
    "a_{ij} \\in \\mathbb{R}\n",
    "$$"
   ]
  },
  {
   "cell_type": "markdown",
   "metadata": {},
   "source": [
    "In `Numpy`, we construct matrices with the `array` method: "
   ]
  },
  {
   "cell_type": "code",
   "execution_count": 27,
   "metadata": {},
   "outputs": [
    {
     "name": "stdout",
     "output_type": "stream",
     "text": [
      "a 2x2 Matrix:\n",
      "[[0 2]\n",
      " [1 4]]\n"
     ]
    }
   ],
   "source": [
    "A = np.array([[0,2],  # 1st row\n",
    "              [1,4]]) # 2nd row\n",
    "\n",
    "print(f'a 2x2 Matrix:\\n{A}')"
   ]
  },
  {
   "cell_type": "markdown",
   "metadata": {},
   "source": [
    "## Basic Matrix operations"
   ]
  },
  {
   "cell_type": "markdown",
   "metadata": {},
   "source": [
    "### Matrix-matrix addition "
   ]
  },
  {
   "cell_type": "markdown",
   "metadata": {},
   "source": [
    "We add matrices in a element-wise fashion. The sum of $\\textit{A} \\in \\mathbb{R}^{m\\times n}$ and $\\textit{B} \\in \\mathbb{R}^{m\\times n}$ is defined as:\n",
    "\n",
    "$$\n",
    "\\textit{A} + \\textit{B} := \n",
    "\\begin{bmatrix}\n",
    "a_{11} + b_{11} & \\cdots & a_{1n} + b_{1n} \\\\\n",
    "\\vdots & \\ddots & \\vdots \\\\\n",
    "a_{m1} + b_{m1} & \\cdots & a_{mn} + b_{mn}\n",
    "\\end{bmatrix}\n",
    "\\in \\mathbb{R^{m\\times n}}\n",
    "$$"
   ]
  },
  {
   "cell_type": "markdown",
   "metadata": {},
   "source": [
    "For instance: \n",
    "$$\n",
    "\\textit{A} = \n",
    "\\begin{bmatrix}\n",
    "0 & 2 \\\\\n",
    "1 & 4\n",
    "\\end{bmatrix} + \n",
    "\\textit{B} = \n",
    "\\begin{bmatrix}\n",
    "3 & 1 \\\\\n",
    "-3 & 2\n",
    "\\end{bmatrix}=\n",
    "\\begin{bmatrix}\n",
    "0+3 & 2+1 \\\\\n",
    "3+(-3) & 2+2\n",
    "\\end{bmatrix}=\n",
    "\\begin{bmatrix}\n",
    "3 & 3 \\\\\n",
    "-2 & 6\n",
    "\\end{bmatrix}\n",
    "$$ "
   ]
  },
  {
   "cell_type": "markdown",
   "metadata": {},
   "source": [
    "In `Numpy`, we add matrices with the `+` operator or `add` method:"
   ]
  },
  {
   "cell_type": "code",
   "execution_count": 28,
   "metadata": {},
   "outputs": [],
   "source": [
    "A = np.array([[0,2],\n",
    "              [1,4]])\n",
    "B = np.array([[3,1],\n",
    "              [-3,2]])"
   ]
  },
  {
   "cell_type": "code",
   "execution_count": 29,
   "metadata": {},
   "outputs": [
    {
     "data": {
      "text/plain": [
       "array([[ 3,  3],\n",
       "       [-2,  6]])"
      ]
     },
     "execution_count": 29,
     "metadata": {},
     "output_type": "execute_result"
    }
   ],
   "source": [
    "A + B"
   ]
  },
  {
   "cell_type": "code",
   "execution_count": 30,
   "metadata": {},
   "outputs": [
    {
     "data": {
      "text/plain": [
       "array([[ 3,  3],\n",
       "       [-2,  6]])"
      ]
     },
     "execution_count": 30,
     "metadata": {},
     "output_type": "execute_result"
    }
   ],
   "source": [
    "np.add(A, B)"
   ]
  },
  {
   "cell_type": "markdown",
   "metadata": {},
   "source": [
    "### Matrix-scalar multiplication"
   ]
  },
  {
   "cell_type": "markdown",
   "metadata": {},
   "source": [
    "Matrix-scalar multiplication is an element-wise operation. Each element of the matrix $\\textit{A}$ is multiplied by the scalar $\\alpha$. Is defined as:\n",
    "\n",
    "$$\n",
    "a_{ij} \\times \\alpha, \\text{such that } (\\alpha \\textit{A})_{ij} = \\alpha(\\textit{A})_{ij}\n",
    "$$\n",
    "\n",
    "Consider $\\alpha=2$ and $\\textit{A}=\\begin{bmatrix}1 & 2 \\\\ 3 & 4\\end{bmatrix}$, then:"
   ]
  },
  {
   "cell_type": "markdown",
   "metadata": {},
   "source": [
    "$$\n",
    "\\alpha \\textit{A} =\n",
    "2\n",
    "\\begin{bmatrix}\n",
    "1 & 2 \\\\\n",
    "3 & 4\n",
    "\\end{bmatrix}=\n",
    "\\begin{bmatrix}\n",
    "2\\times 1 & 2\\times 2 \\\\\n",
    "2\\times 3 & 2 \\times4 \n",
    "\\end{bmatrix}=\n",
    "\\begin{bmatrix}\n",
    "2 & 4 \\\\\n",
    "6 & 8 \n",
    "\\end{bmatrix}\n",
    "$$"
   ]
  },
  {
   "cell_type": "markdown",
   "metadata": {},
   "source": [
    "In `NumPy`, we compute matrix-scalar multiplication with the `*` operator or `multiply` method:"
   ]
  },
  {
   "cell_type": "code",
   "execution_count": 31,
   "metadata": {},
   "outputs": [],
   "source": [
    "alpha = 2\n",
    "A = np.array([[1,2],\n",
    "              [3,4]])"
   ]
  },
  {
   "cell_type": "code",
   "execution_count": 32,
   "metadata": {},
   "outputs": [
    {
     "data": {
      "text/plain": [
       "array([[2, 4],\n",
       "       [6, 8]])"
      ]
     },
     "execution_count": 32,
     "metadata": {},
     "output_type": "execute_result"
    }
   ],
   "source": [
    "alpha * A"
   ]
  },
  {
   "cell_type": "code",
   "execution_count": 33,
   "metadata": {},
   "outputs": [
    {
     "data": {
      "text/plain": [
       "array([[2, 4],\n",
       "       [6, 8]])"
      ]
     },
     "execution_count": 33,
     "metadata": {},
     "output_type": "execute_result"
    }
   ],
   "source": [
    "np.multiply(alpha, A)"
   ]
  },
  {
   "cell_type": "markdown",
   "metadata": {},
   "source": [
    "### Matrix-vector multiplication: dot product"
   ]
  },
  {
   "cell_type": "markdown",
   "metadata": {},
   "source": [
    "Matrix-vector multiplication equals to taking the dot product of each column $n$ of a $\\textit{A}$ with each element $\\bf{x}$ resulting in a vector $\\bf{y}$. Is defined as: "
   ]
  },
  {
   "cell_type": "markdown",
   "metadata": {},
   "source": [
    "$$\n",
    "\\textit{A}\\cdot\\bf{x}:=\n",
    "\\begin{bmatrix}\n",
    "a_{11} & \\cdots & a_{1n}\\\\\n",
    "\\vdots & \\ddots & \\vdots\\\\\n",
    "a_{m1} & \\cdots & a_{mn}\n",
    "\\end{bmatrix}\n",
    "\\begin{bmatrix}\n",
    "x_1\\\\\n",
    "\\vdots\\\\\n",
    "x_n\n",
    "\\end{bmatrix}=\n",
    "x_1\n",
    "\\begin{bmatrix}\n",
    "a_{11}\\\\\n",
    "\\vdots\\\\\n",
    "a_{m1}\n",
    "\\end{bmatrix}+\n",
    "x_2\n",
    "\\begin{bmatrix}\n",
    "a_{12}\\\\\n",
    "\\vdots\\\\\n",
    "a_{m2}\n",
    "\\end{bmatrix}+\n",
    "x_n\n",
    "\\begin{bmatrix}\n",
    "a_{1n}\\\\\n",
    "\\vdots\\\\\n",
    "a_{mn}\n",
    "\\end{bmatrix}=\n",
    "\\begin{bmatrix}\n",
    "y_1\\\\\n",
    "\\vdots\\\\\n",
    "y_{mn}\n",
    "\\end{bmatrix}\n",
    "$$"
   ]
  },
  {
   "cell_type": "markdown",
   "metadata": {},
   "source": [
    "For instance:"
   ]
  },
  {
   "cell_type": "markdown",
   "metadata": {},
   "source": [
    "$$\n",
    "\\textit{A}\\cdot\\bf{x}=\n",
    "\\begin{bmatrix}\n",
    "0 & 2\\\\\n",
    "1 & 4\n",
    "\\end{bmatrix}\n",
    "\\begin{bmatrix}\n",
    "1\\\\\n",
    "2\n",
    "\\end{bmatrix}=\n",
    "1\n",
    "\\begin{bmatrix}\n",
    "0 \\\\\n",
    "1\n",
    "\\end{bmatrix}+\n",
    "2\n",
    "\\begin{bmatrix}\n",
    "2 \\\\\n",
    "4\n",
    "\\end{bmatrix}=\n",
    "\\begin{bmatrix}\n",
    "1\\times0 + 2\\times2 \\\\\n",
    "1\\times1 + 2\\times4\n",
    "\\end{bmatrix}=\n",
    "\\begin{bmatrix}\n",
    "4 \\\\\n",
    "9\n",
    "\\end{bmatrix}\n",
    "$$"
   ]
  },
  {
   "cell_type": "markdown",
   "metadata": {},
   "source": [
    "In numpy, we compute the matrix-vector product with the `@` operator or `dot` method:"
   ]
  },
  {
   "cell_type": "code",
   "execution_count": 34,
   "metadata": {},
   "outputs": [],
   "source": [
    "A = np.array([[0,2],\n",
    "              [1,4]])\n",
    "x = np.array([[1],\n",
    "              [2]])"
   ]
  },
  {
   "cell_type": "code",
   "execution_count": 35,
   "metadata": {},
   "outputs": [
    {
     "data": {
      "text/plain": [
       "array([[4],\n",
       "       [9]])"
      ]
     },
     "execution_count": 35,
     "metadata": {},
     "output_type": "execute_result"
    }
   ],
   "source": [
    "A @ x"
   ]
  },
  {
   "cell_type": "code",
   "execution_count": 36,
   "metadata": {},
   "outputs": [
    {
     "data": {
      "text/plain": [
       "array([[4],\n",
       "       [9]])"
      ]
     },
     "execution_count": 36,
     "metadata": {},
     "output_type": "execute_result"
    }
   ],
   "source": [
    "np.dot(A, x)"
   ]
  },
  {
   "cell_type": "markdown",
   "metadata": {},
   "source": [
    "### Matrix-matrix multiplication"
   ]
  },
  {
   "cell_type": "markdown",
   "metadata": {},
   "source": [
    "Matrix-matrix multiplication is a dot produt as well. To work, the number of columns in the first matrix $\\textit{A}$ has to be equal to the number of rows in the second matrix $\\textit{B}$. Hence, $\\textit{A} \\in \\mathbb{R^{m\\times n}}$ times $\\textit{B} \\in \\mathbb{R^{n\\times p}}$ to be valid. One way to see matrix-matrix multiplication is by taking a series of dot products: the 1st column of $\\textit{A}$ times the 1st row of $\\textit{B}$, the 2nd column of $\\textit{A}$ times the 2nd row of $\\textit{B}$, until the $n_{th}$ column of $\\textit{A}$ times the $n_{th}$ row of $\\textit{B}$. \n",
    "\n",
    "We define $\\textit{A} \\in \\mathbb{R^{n\\times p}} \\cdot \\textit{B} \\in \\mathbb{R^{n\\times p}} = \\textit{C} \\in \\mathbb{R^{m\\times p}}$: "
   ]
  },
  {
   "cell_type": "markdown",
   "metadata": {},
   "source": [
    "$$\n",
    "\\textit{A}\\cdot\\textit{B}:=\n",
    "\\begin{bmatrix}\n",
    "a_{11} & \\cdots & a_{1n}\\\\\n",
    "\\vdots & \\ddots & \\vdots\\\\\n",
    "a_{m1} & \\cdots & a_{mn}\n",
    "\\end{bmatrix}\n",
    "\\begin{bmatrix}\n",
    "b_{11} & \\cdots & b_{1p}\\\\\n",
    "\\vdots & \\ddots & \\vdots\\\\\n",
    "b_{n1} & \\cdots & b_{np}\n",
    "\\end{bmatrix}=\n",
    "\\begin{bmatrix}\n",
    "c_{11} & \\cdots & c_{1p}\\\\\n",
    "\\vdots & \\ddots & \\vdots\\\\\n",
    "c_{m1} & \\cdots & c_{mp}\n",
    "\\end{bmatrix}\n",
    "$$"
   ]
  },
  {
   "cell_type": "markdown",
   "metadata": {},
   "source": [
    "A compact way to define the matrix-matrix product is:"
   ]
  },
  {
   "cell_type": "markdown",
   "metadata": {},
   "source": [
    "$$\n",
    "c_{ij} := \\sum_{l=1}^n a_{il}b_{lj}, \\text{  with   }i=1,...m, \\text{ and}, j=1,...,p\n",
    "$$"
   ]
  },
  {
   "cell_type": "markdown",
   "metadata": {},
   "source": [
    "For instance"
   ]
  },
  {
   "cell_type": "markdown",
   "metadata": {},
   "source": [
    "$$\n",
    "\\textit{A}\\cdot\\textit{B}=\n",
    "\\begin{bmatrix}\n",
    "0 & 2\\\\\n",
    "1 & 4\n",
    "\\end{bmatrix}\n",
    "\\begin{bmatrix}\n",
    "1 & 3\\\\\n",
    "2 & 1\n",
    "\\end{bmatrix}=\n",
    "\\begin{bmatrix}\n",
    "1\\times0 + 2\\times2 & 3\\times0 + 1\\times2 \\\\\n",
    "1\\times1 + 2\\times4 & 3\\times1 + 1\\times4\n",
    "\\end{bmatrix}=\n",
    "\\begin{bmatrix}\n",
    "4 & 2\\\\\n",
    "9 & 7\n",
    "\\end{bmatrix}\n",
    "$$"
   ]
  },
  {
   "cell_type": "markdown",
   "metadata": {},
   "source": [
    "Matrix-matrix multiplication has a series of important properties:\n",
    "\n",
    "- Associativity: $(\\textit{A}\\textit{B}) \\textit{C} = \\textit{A}(\\textit{B}\\textit{C})$\n",
    "- Associativity with scalar multiplication: $\\alpha (\\textit{A}\\textit{B}) = (\\alpha \\textit{A}) \\textit{B}$\n",
    "- Distributivity with addition: $\\textit{A}(\\textit{B}+\\textit{C}) = A+B + AC$\n",
    "- Transpose of product: $(\\textit{A}\\textit{B})^T = \\textit{B}^T\\textit{A}^T$\n",
    "\n",
    "It's also important to remember that **matrix-matrix multiplication orders matter**, this is, it is **not commutative**. Hence, in general, $AB \\ne BA$.\n",
    "\n",
    "In `NumPy`, we obtan the matrix-matrix product with the `@` operator or `dot` method: "
   ]
  },
  {
   "cell_type": "code",
   "execution_count": 37,
   "metadata": {},
   "outputs": [],
   "source": [
    "A = np.array([[0,2],\n",
    "              [1,4]])\n",
    "B = np.array([[1,3],\n",
    "              [2,1]])"
   ]
  },
  {
   "cell_type": "code",
   "execution_count": 38,
   "metadata": {},
   "outputs": [
    {
     "data": {
      "text/plain": [
       "array([[4, 2],\n",
       "       [9, 7]])"
      ]
     },
     "execution_count": 38,
     "metadata": {},
     "output_type": "execute_result"
    }
   ],
   "source": [
    "A @ B"
   ]
  },
  {
   "cell_type": "code",
   "execution_count": 39,
   "metadata": {},
   "outputs": [
    {
     "data": {
      "text/plain": [
       "array([[4, 2],\n",
       "       [9, 7]])"
      ]
     },
     "execution_count": 39,
     "metadata": {},
     "output_type": "execute_result"
    }
   ],
   "source": [
    "np.dot(A, B)"
   ]
  },
  {
   "cell_type": "markdown",
   "metadata": {},
   "source": [
    "### Matrix identity"
   ]
  },
  {
   "cell_type": "markdown",
   "metadata": {},
   "source": [
    "An identity matrix is a square matrix with ones on the diagonal from the upper left to the bottom right, and zeros everywhere else. We denote the identity matrix as $\\textit{I}_n$. We define $\\textit{I} \\in \\mathbb{R}^{n \\times n}$ as:\n",
    "\n",
    "$$\n",
    "\\textit{I}_n := \n",
    "\\begin{bmatrix}\n",
    "1 & 0 & \\cdots & 0 & 0 \\\\\n",
    "0 & 1 & \\cdots & 0 & 0 \\\\\n",
    "0 & 0 & \\ddots & 0 & 0 \\\\\n",
    "0 & 0 & \\cdots & 1 & 0 \\\\\n",
    "0 & 0 & \\cdots & 0 & 1\n",
    "\\end{bmatrix}\n",
    "\\in \\mathbb{R}^{n \\times n}\n",
    "$$\n",
    "\n",
    "For example:\n",
    "\n",
    "$$\n",
    "\\textit{I}_3 =\n",
    "\\begin{bmatrix}\n",
    "1 & 0 & 0 \\\\\n",
    "0 & 1 & 0 \\\\\n",
    "0 & 0 & 1\n",
    "\\end{bmatrix}\n",
    "$$\n",
    "\n",
    "You can think in the inverse as playing the same role than $1$ in operations with real numbers. The inverse matrix does not look very interesting in itself, but it plays an important role in some proofs and for the inverse matrix (which can be used to solve system of linear equations). "
   ]
  },
  {
   "cell_type": "markdown",
   "metadata": {},
   "source": [
    "### Matrix inverse"
   ]
  },
  {
   "cell_type": "markdown",
   "metadata": {},
   "source": [
    "In the context of real numbers, the *multiplicative inverse (or reciprocal)* of a number $x$, is the number that when multiplied by $x$ yields $1$. We denote this by $x^{-1}$ or $\\frac{1}{x}$. Take the number $5$. Its multiplicative inverse equals to $5 \\times \\frac{1}{5} = 1$.\n",
    "\n",
    "If you recall the matrix identity section, we said that the identity plays a similar role than the number one but for matrices. Again, by analogy, we can see the *inverse* of a matrix as playing the same role than the multiplicative inverse for numbers but for matrices. Hence, the *inverse matrix* is a matrix than when multiplies another matrix *from either the right or the left side*, returns the identity matrix. \n",
    "\n",
    "More formally, consider the square matrix $\\textit{A} \\in \\mathbb{R}^{n \\times n}$. We define $\\textit{A}^{-1}$ as matrix with the property:\n",
    "\n",
    "$$\n",
    "\\textit{A}^{-1}\\textit{A} = \\textit{I}_n = \\textit{A}\\textit{A}^{-1}\n",
    "$$\n",
    "\n",
    "The main reason we care about the inverse, is because it allows to **solve systems of linear equations** in certain situations. Consider a system of linear equations as:\n",
    "\n",
    "$$\n",
    "\\textit{A}\\bf{x} = \\bf{y}\n",
    "$$\n",
    "\n",
    "Assuming $\\textit{A}$ has an inverse, we can multiply by the inverse on both sides:\n",
    "\n",
    "$$\n",
    "\\textit{A}^{-1}\\textit{A}\\bf{x} = \\textit{A}^{-1}\\bf{y}\n",
    "$$\n",
    "\n",
    "And get: \n",
    "\n",
    "$$\n",
    "\\textit{I}\\bf{x} = \\textit{A}^{-1}\\bf{y}\n",
    "$$\n",
    "\n",
    "Since the $\\textit{I}$ does not affect $\\bf{x}$ at all, our final expression becomes:\n",
    "\n",
    "$$\n",
    "\\bf{x} = \\textit{A}^{-1}\\bf{y}\n",
    "$$\n",
    "\n",
    "This means that we just need to know the inverse of $\\textit{A}$, multiply by the target vector $\\bf{y}$, and we obtain the solution for our system. I mentioned that this works only in *certain situations*. By this I meant: **if and only if $\\textit{A}$ happens to have an inverse**. Not all matrices have an inverse. When $\\textit{A}^{-1}$ exist, we say $\\textit{A}$ is *nonsingular* or *invertible*, otherwise, we say it is *noninvertible* or *singular*.\n",
    "\n",
    "The lingering question is how to find the inverse of a matrix. We can do it by reducing $\\textit{A}$ to its *reduced row echelon form* by using Gauss-Jordan Elimination. If $\\textit{A}$ has an inverse, we will obtain the identity matrix as the row echelon form of $\\textit{A}$. I haven't introduced either just yet. You can jump to the *Solving systems of linear equations with matrices* if you are eager to learn about it now. For now, we relie on `NumPy`. "
   ]
  },
  {
   "cell_type": "markdown",
   "metadata": {},
   "source": [
    "In `NumPy`, we can compute the inverse of a matrix with the `.linalg.inv` method:"
   ]
  },
  {
   "cell_type": "code",
   "execution_count": 40,
   "metadata": {},
   "outputs": [],
   "source": [
    "A = np.array([[1, 2, 1],\n",
    "              [4, 4, 5],\n",
    "              [6, 7, 7]])"
   ]
  },
  {
   "cell_type": "code",
   "execution_count": 41,
   "metadata": {},
   "outputs": [
    {
     "name": "stdout",
     "output_type": "stream",
     "text": [
      "A inverse:\n",
      "[[-7. -7.  6.]\n",
      " [ 2.  1. -1.]\n",
      " [ 4.  5. -4.]]\n"
     ]
    }
   ],
   "source": [
    "A_i = np.linalg.inv(A)\n",
    "print(f'A inverse:\\n{A_i}')"
   ]
  },
  {
   "cell_type": "markdown",
   "metadata": {},
   "source": [
    "We can check the $\\textit{A}^{-1}$ is correct by multiplying. If so, we should obtain the identity $\\textit{I}_3$"
   ]
  },
  {
   "cell_type": "code",
   "execution_count": 42,
   "metadata": {},
   "outputs": [
    {
     "name": "stdout",
     "output_type": "stream",
     "text": [
      "A_i times A resulsts in I_3:\n",
      "[[ 1.  0.  0.]\n",
      " [ 0.  1. -0.]\n",
      " [ 0. -0.  1.]]\n"
     ]
    }
   ],
   "source": [
    "I = np.round(A_i @ A)\n",
    "print(f'A_i times A resulsts in I_3:\\n{I}')"
   ]
  },
  {
   "cell_type": "markdown",
   "metadata": {},
   "source": [
    "### Matrix transpose "
   ]
  },
  {
   "cell_type": "markdown",
   "metadata": {},
   "source": [
    "Consider a matrix $\\textit{A} \\in \\mathbb{R}^{m \\times n}$. The **transpose** of $\\textit{A}$ is denoted as $\\textit{A}^T \\in \\mathbb{R}^{m \\times n}$. We obtain $\\textit{A}^T$ as:\n",
    "\n",
    "$$\n",
    "(\\textit{A}^T)_{ij} = \\textit{A}_ji  \n",
    "$$\n",
    "\n",
    "In other words, we get the $\\textit{A}^T$ by switching the columns by the rows of $\\textit{A}$. For instance:\n",
    "\n",
    "$$\n",
    "\\begin{bmatrix}\n",
    "1 & 2 \\\\\n",
    "3 & 4 \\\\\n",
    "5 & 6\n",
    "\\end{bmatrix}^T\n",
    "= \n",
    "\\begin{bmatrix}\n",
    "1 & 3 & 5 \\\\\n",
    "2 & 4 & 6\n",
    "\\end{bmatrix}\n",
    "$$"
   ]
  },
  {
   "cell_type": "markdown",
   "metadata": {},
   "source": [
    "In `NumPy`, we obtain the transpose with the `T` method:"
   ]
  },
  {
   "cell_type": "code",
   "execution_count": 43,
   "metadata": {},
   "outputs": [],
   "source": [
    "A = np.array([[1, 2],\n",
    "              [3, 4],\n",
    "              [5, 6]])"
   ]
  },
  {
   "cell_type": "code",
   "execution_count": 44,
   "metadata": {},
   "outputs": [
    {
     "data": {
      "text/plain": [
       "array([[1, 3, 5],\n",
       "       [2, 4, 6]])"
      ]
     },
     "execution_count": 44,
     "metadata": {},
     "output_type": "execute_result"
    }
   ],
   "source": [
    "A.T"
   ]
  },
  {
   "cell_type": "markdown",
   "metadata": {},
   "source": [
    "### Hadamard product"
   ]
  },
  {
   "cell_type": "markdown",
   "metadata": {},
   "source": [
    "It is tempting to think in matrix-matrix multiplication as an element-wise operation, as multiplying each overlapping element of $\\textit{A}$ and $\\textit{B}$. *It is not*. Such operation is called **Hadamard product**. I'm introducing this to avoid confusion. The Hadamard product is defined as \n",
    "\n",
    "$$a_{ij} \\cdot b_{ij} := c_{ij}$$\n",
    "\n",
    "For instance:"
   ]
  },
  {
   "cell_type": "markdown",
   "metadata": {},
   "source": [
    "$$\n",
    "\\textit{A}\\odot\\textit{B}=\n",
    "\\begin{bmatrix}\n",
    "0 & 2\\\\\n",
    "1 & 4\n",
    "\\end{bmatrix}\n",
    "\\begin{bmatrix}\n",
    "1 & 3\\\\\n",
    "2 & 1\n",
    "\\end{bmatrix}=\n",
    "\\begin{bmatrix}\n",
    "0\\times1 & 2\\times3\\\\\n",
    "1\\times2 & 4\\times 1\\\\\n",
    "\\end{bmatrix}=\n",
    "\\begin{bmatrix}\n",
    "0 & 6\\\\\n",
    "2 & 4\\\\\n",
    "\\end{bmatrix}\n",
    "$$"
   ]
  },
  {
   "cell_type": "markdown",
   "metadata": {},
   "source": [
    "In `numpy`, we compute the Hadamard product with the `*` operator or `multiply` method:"
   ]
  },
  {
   "cell_type": "code",
   "execution_count": 45,
   "metadata": {},
   "outputs": [],
   "source": [
    "A = np.array([[0,2],\n",
    "              [1,4]])\n",
    "B = np.array([[1,3],\n",
    "              [2,1]])"
   ]
  },
  {
   "cell_type": "code",
   "execution_count": 46,
   "metadata": {},
   "outputs": [
    {
     "data": {
      "text/plain": [
       "array([[0, 6],\n",
       "       [2, 4]])"
      ]
     },
     "execution_count": 46,
     "metadata": {},
     "output_type": "execute_result"
    }
   ],
   "source": [
    "A * B"
   ]
  },
  {
   "cell_type": "code",
   "execution_count": 47,
   "metadata": {},
   "outputs": [
    {
     "data": {
      "text/plain": [
       "array([[0, 6],\n",
       "       [2, 4]])"
      ]
     },
     "execution_count": 47,
     "metadata": {},
     "output_type": "execute_result"
    }
   ],
   "source": [
    "np.multiply(A, B)"
   ]
  },
  {
   "cell_type": "markdown",
   "metadata": {},
   "source": [
    "## Special matrices"
   ]
  },
  {
   "cell_type": "markdown",
   "metadata": {},
   "source": [
    "There are several matrices with special names that are commonly found in machine learning theory and applications. Knowing these matrices beforehand can improve your linear algebra fluency, so we will briefly review a selection of 12 common matrices. For an extended list of special matrices see [here](https://en.wikipedia.org/wiki/List_of_named_matrices) and [here](http://www.ee.ic.ac.uk/hp/staff/dmb/matrix/special.html)."
   ]
  },
  {
   "cell_type": "markdown",
   "metadata": {},
   "source": [
    "### Rectangular matrix"
   ]
  },
  {
   "cell_type": "markdown",
   "metadata": {},
   "source": [
    "Matrices are said to be *rectangular* when the number of rows is $\\ne$ to the number of columns, i.e.,  $\\textit{A}^{m \\times n}$ with $m \\ne n$. For instance: \n",
    "\n",
    "$$\n",
    "\\begin{bmatrix}\n",
    "1 & 2 & 3 \\\\\n",
    "4 & 5 & 6\n",
    "\\end{bmatrix}\n",
    "$$"
   ]
  },
  {
   "cell_type": "markdown",
   "metadata": {},
   "source": [
    "### Square matrix"
   ]
  },
  {
   "cell_type": "markdown",
   "metadata": {},
   "source": [
    "Matrices are said to be **square** when the number of rows $=$ the number of columns, i.e., $\\textit{A}^{n \\times n}$. For instance:\n",
    "\n",
    "$$\n",
    "\\begin{bmatrix}\n",
    "1 & 2 & 3 \\\\\n",
    "4 & 5 & 6 \\\\\n",
    "7 & 8 & 9\n",
    "\\end{bmatrix}\n",
    "$$"
   ]
  },
  {
   "cell_type": "markdown",
   "metadata": {},
   "source": [
    "### Diagonal matrix"
   ]
  },
  {
   "cell_type": "markdown",
   "metadata": {},
   "source": [
    "Square matrices are said to be **diagonal** when each of its non-diagonal elements is zero, i.e., For $\\textit{D} = (d_{i,j})$, we have $\\forall i,j \\in n, i \\ne j \\implies d_{i,j} = 0$. For instance:\n",
    "\n",
    "$$\n",
    "\\begin{bmatrix}\n",
    "1 & 0 & 0 \\\\\n",
    "0 & 5 & 0 \\\\\n",
    "0 & 0 & 9\n",
    "\\end{bmatrix}\n",
    "$$"
   ]
  },
  {
   "cell_type": "markdown",
   "metadata": {},
   "source": [
    "### Upper triangular matrix"
   ]
  },
  {
   "cell_type": "markdown",
   "metadata": {},
   "source": [
    "Square matrices are said to be **upper triangular** when the elements below the main diagonal are zero, i.e., For $\\textit{D} = (d_{i,j})$, we have $d_{i,j} = 0, \\text{for } i>j$. For instance:\n",
    "\n",
    "$$\n",
    "\\begin{bmatrix}\n",
    "1 & 2 & 3 \\\\\n",
    "0 & 5 & 6 \\\\\n",
    "0 & 0 & 9\n",
    "\\end{bmatrix}\n",
    "$$"
   ]
  },
  {
   "cell_type": "markdown",
   "metadata": {},
   "source": [
    "### Lower triangular matrix"
   ]
  },
  {
   "cell_type": "markdown",
   "metadata": {},
   "source": [
    "Square matrices are said to be **lower triangular** when the elements above the main diagonal are zero, i.e., For $\\textit{D} = (d_{i,j})$, we have $d_{i,j} = 0, \\text{for } i<j$. For instance:\n",
    "\n",
    "$$\n",
    "\\begin{bmatrix}\n",
    "1 & 0 & 0 \\\\\n",
    "4 & 5 & 0 \\\\\n",
    "7 & 8 & 9\n",
    "\\end{bmatrix}\n",
    "$$"
   ]
  },
  {
   "cell_type": "markdown",
   "metadata": {},
   "source": [
    "### Symmetric matrix"
   ]
  },
  {
   "cell_type": "markdown",
   "metadata": {},
   "source": [
    "Square matrices are said to be symmetric its equal to its transpose, i.e., $\\textit{A} = \\textit{A}^T$. For instance:\n",
    "\n",
    "$$\n",
    "\\begin{bmatrix}\n",
    "1 & 2 & 3 \\\\\n",
    "2 & 1 & 6 \\\\\n",
    "3 & 6 & 1\n",
    "\\end{bmatrix}\n",
    "$$"
   ]
  },
  {
   "cell_type": "markdown",
   "metadata": {},
   "source": [
    "### Identity matrix"
   ]
  },
  {
   "cell_type": "markdown",
   "metadata": {},
   "source": [
    "A diagonal matrix is said to be the identity when the elements along its main diagonal are equal to one. For instance:\n",
    "\n",
    "$$\n",
    "\\begin{bmatrix}\n",
    "1 & 0 & 0 \\\\\n",
    "0 & 1 & 0 \\\\\n",
    "0 & 0 & 1\n",
    "\\end{bmatrix}\n",
    "$$"
   ]
  },
  {
   "cell_type": "markdown",
   "metadata": {},
   "source": [
    "### Scalar matrix"
   ]
  },
  {
   "cell_type": "markdown",
   "metadata": {},
   "source": [
    "Diagonal matrices are said to be scalar when all the elements along its main diaonal are equal, i.e., $\\textit{D} = \\alpha\\textit{I}$.  For instance:\n",
    "\n",
    "$$\n",
    "\\begin{bmatrix}\n",
    "2 & 0 & 0 \\\\\n",
    "0 & 2 & 0 \\\\\n",
    "0 & 0 & 2\n",
    "\\end{bmatrix}\n",
    "$$\n"
   ]
  },
  {
   "cell_type": "markdown",
   "metadata": {},
   "source": [
    "### Null or zero matrix"
   ]
  },
  {
   "cell_type": "markdown",
   "metadata": {},
   "source": [
    "Matrices are said to be null or zero matrices when all its elements equal to zero, wich is denoted as $0_{m \\times n}$. For instance:\n",
    "\n",
    "$$\n",
    "\\begin{bmatrix}\n",
    "0 & 0 & 0 \\\\\n",
    "0 & 0 & 0 \\\\\n",
    "0 & 0 & 0\n",
    "\\end{bmatrix}\n",
    "$$"
   ]
  },
  {
   "cell_type": "markdown",
   "metadata": {},
   "source": [
    "### Echelon matrix"
   ]
  },
  {
   "cell_type": "markdown",
   "metadata": {},
   "source": [
    "Matrices are said to be on **echelon form** when it has undergone the process of Gaussian elimination. More specifically:\n",
    "\n",
    "- Zero rows are at the bottom of the matrix\n",
    "- The leading entry (pivot) of each nonzero row is to the right of the leading entry of the row above it \n",
    "- Each leading entry is the only nonzero entry in its column\n",
    "\n",
    "For instance: \n",
    "\n",
    "$$\n",
    "\\begin{bmatrix}\n",
    "1 & 3 & 5 \\\\\n",
    "2 & 2 & -1 \\\\\n",
    "1 & 3 & 2 \n",
    "\\end{bmatrix}\n",
    "$$\n",
    "\n",
    "In echelon form after Gaussian Elimination becomes:\n",
    "\n",
    "$$\n",
    "\\begin{bmatrix}\n",
    "1 & 3 & 5 \\\\\n",
    "0 & -4 & -11 \\\\\n",
    "0 & 0 & -3 \n",
    "\\end{bmatrix}\n",
    "$$"
   ]
  },
  {
   "cell_type": "markdown",
   "metadata": {},
   "source": [
    "### Antidiagonal matrix"
   ]
  },
  {
   "cell_type": "markdown",
   "metadata": {},
   "source": [
    "Matrices are said to be **antidiagonal** when all the entries are zero but the antidiagonal (i.e., the diagonal starting from the bottom left corner to the upper right corner). For instance:\n",
    "\n",
    "$$\n",
    "\\begin{bmatrix}\n",
    "0 & 0 & 3 \\\\\n",
    "0 & 5 & 0 \\\\\n",
    "7 & 0 & 0\n",
    "\\end{bmatrix}\n",
    "$$"
   ]
  },
  {
   "cell_type": "markdown",
   "metadata": {},
   "source": [
    "### Design matrix"
   ]
  },
  {
   "cell_type": "markdown",
   "metadata": {},
   "source": [
    "**Design matrix** is a special name for matrices containing explanatory variables or features in the context of statistics and machine learning. Some authors favor this name to refer to the set of variables or features in a model."
   ]
  },
  {
   "cell_type": "markdown",
   "metadata": {},
   "source": [
    "## Matrices as systems of linear equations"
   ]
  },
  {
   "cell_type": "markdown",
   "metadata": {},
   "source": [
    "I introduced the idea of systems of linear equations as a way to figure out the right combination of linear segments to obtain an outcome. I did this in the context of vectors, now we can extend this to the context of matrices. \n",
    "\n",
    "Matrices are ideal to represent systems of linear equations. Consider the matrix $\\textit{M}$ and vectors $w$ and $y$ in $\\in \\mathbb{R}^3$. We can set up a system of linear equations as $\\textit{M}w = y$ as:\n",
    "\n",
    "$$\n",
    "\\begin{bmatrix}\n",
    "m_{11} & m_{12} & m_{13} \\\\\n",
    "m_{21} & m_{22} & m_{23} \\\\\n",
    "m_{31} & m_{32} & m_{33} \\\\\n",
    "\\end{bmatrix}\n",
    "\\begin{bmatrix}\n",
    "w_{1} \\\\\n",
    "w_{2} \\\\\n",
    "w_{3}\n",
    "\\end{bmatrix}=\n",
    "\\begin{bmatrix}\n",
    "y_{1} \\\\\n",
    "y_{2} \\\\\n",
    "y_{3}\n",
    "\\end{bmatrix}\n",
    "$$\n",
    "\n",
    "This is equivalent to:\n",
    "$$\n",
    "\\begin{matrix}\n",
    "m_{11}w_{1} + m_{12}w_{2} + m_{13}w_{3} =y_{1} \\\\\n",
    "m_{21}w_{1} + m_{22}w_{2} + m_{23}w_{3} =y_{2} \\\\\n",
    "m_{31}w_{1} + m_{32}w_{2} + m_{33}w_{3} =y_{3}\n",
    "\\end{matrix}\n",
    "$$\n",
    "\n",
    "Geometrically, the solution for this representation equals to plot a **set of planes in 3-dimensional space**, one for each equation, and to find the segment where the planes intersect."
   ]
  },
  {
   "cell_type": "markdown",
   "metadata": {},
   "source": [
    "<center> Fig. 12: Visualiation system of equations as planes <center/>"
   ]
  },
  {
   "cell_type": "markdown",
   "metadata": {},
   "source": [
    "<center>\n",
    "<img src=\"./images/b-planes-intersection.svg\">\n",
    "<center/>"
   ]
  },
  {
   "cell_type": "markdown",
   "metadata": {},
   "source": [
    "An alternative way, which I personally prefer to use, is to represent the system as a **linear combination of the column vectors times a scaling term**:\n",
    "\n",
    "$$\n",
    "w_1\n",
    "\\begin{bmatrix}\n",
    "m_{11}\\\\\n",
    "m_{21}\\\\\n",
    "m_{31}\n",
    "\\end{bmatrix}+\n",
    "w_2\n",
    "\\begin{bmatrix}\n",
    "m_{12}\\\\\n",
    "m_{22}\\\\\n",
    "m_{32}\n",
    "\\end{bmatrix}+\n",
    "w_3\n",
    "\\begin{bmatrix}\n",
    "m_{13}\\\\\n",
    "m_{23}\\\\\n",
    "m_{33}\n",
    "\\end{bmatrix}=\n",
    "\\begin{bmatrix}\n",
    "y_{1} \\\\\n",
    "y_{2} \\\\\n",
    "y_{3}\n",
    "\\end{bmatrix}\n",
    "$$\n",
    "\n",
    "Geometrically, the solution for this representation equals to plot a set of **vectors in 3-dimensional** space, one for each column vector, then scale them by $w_i$ and add them up, tip to tail, to find the resulting vector $y$."
   ]
  },
  {
   "cell_type": "markdown",
   "metadata": {},
   "source": [
    "<center> Fig. 13: System of equations as linear combination of vectors <center/>"
   ]
  },
  {
   "cell_type": "markdown",
   "metadata": {},
   "source": [
    "<center>\n",
    "<img src=\"./images/b-vectors-combination.svg\">\n",
    "<center/>"
   ]
  },
  {
   "cell_type": "markdown",
   "metadata": {},
   "source": [
    "## The four fundamental matrix subsapces"
   ]
  },
  {
   "cell_type": "markdown",
   "metadata": {},
   "source": [
    "Let's recall the definition of a subspace in the context of vectors:\n",
    "\n",
    "1. Contains the zero vector, $\\bf{0} \\in S$\n",
    "2. Closure under multiplication, $\\forall \\alpha \\in \\mathbb{R} \\rightarrow  \\alpha \\times s_i \\in S$\n",
    "3. Closure under addition, $\\forall s_i \\in S \\rightarrow  s_1 + s_2 \\in S$ \n",
    "\n",
    "These conditions carry on to matrices since matrices are simply collections of vectors. Thus, now we can ask what are all possible subspaces that can be \"covered\" by a collection of vectors in a matrix. Turns out, there are four fundamental subspaces that can be \"covered\" by a matrix of valid vectors: (1) the column space, (2) the row space, (3) the null space, and (4) the left null space or null space of the transpose. \n",
    "\n",
    "These subspaces are considered fundamental because they express many important properties of matrices in linear algebra."
   ]
  },
  {
   "cell_type": "markdown",
   "metadata": {},
   "source": [
    "### The column space"
   ]
  },
  {
   "cell_type": "markdown",
   "metadata": {},
   "source": [
    "The column space of a matrix $\\textit{A}$ is composed by **all linear combinations of the columns of $\\textit{A}$**. We denote the column space as $C(\\textit{A})$. In other words, $C(\\textit{A})$ equals to the **span of the columns of $\\textit{A}$**. This view of a matrix is what we represented in **Fig. 12**: vectors in $\\mathbb{R}^n$ scaled by real numbers. \n",
    "\n",
    "For a matrix $\\textit{A} \\in \\mathbb{R}^{m\\times n}$ and a vector $\\bf{v} \\in \\mathbb{R}^m$, the column space is defined as:\n",
    "\n",
    "$$\n",
    "C(\\textit{A}) := \\{ \\bf{w} \\in \\mathbb{R}^n \\vert \\bf{w} = \\textit{A}\\bf{v} \\text{ for some } \\bf{v}\\in \\mathbb{R}^m \\}\n",
    "$$\n",
    "\n",
    "In words: all linear combinations of the column vectors of $\\textit{A}$ and entries of an $n$ dimensional vector $\\bf{v}$."
   ]
  },
  {
   "cell_type": "markdown",
   "metadata": {},
   "source": [
    "### The row space"
   ]
  },
  {
   "cell_type": "markdown",
   "metadata": {},
   "source": [
    "The row space of a matrix $\\textit{A}$ is composed of all linear combinations of the rows of a matrix. We denote\n",
    "the row space as $R(\\textit{A})$. In other words, $R(\\textit{A})$ equals to the **span of the rows** of $\\textit{A}$. Geometrically, this is the way we represented a matrix in **Fig. 11**: each row equation represented as planes. Now, a different way to see the row space, is by transposing $\\textit{A}^T$. Now, we can define the row space simply as $R(\\textit{A}^T)$\n",
    "\n",
    "For a matrix $\\textit{A} \\in \\mathbb{R}^{m\\times n}$ and a vector $\\bf{w} \\in \\mathbb{R}^m$, the row space is defined as:\n",
    "\n",
    "$$\n",
    "R(\\textit{A}) := \\{ \\bf{v} \\in \\mathbb{R}^m \\vert \\bf{v} = \\textit{A}\\bf{w}^T \\text{ for some } \\bf{w}\\in \\mathbb{R}^n \\}\n",
    "$$\n",
    "\n",
    "In words: all linear combinations of the row vectors of $\\textit{A}$ and entries of an $m$ dimensional vector $\\bf{w}$."
   ]
  },
  {
   "cell_type": "markdown",
   "metadata": {},
   "source": [
    "### The null space"
   ]
  },
  {
   "cell_type": "markdown",
   "metadata": {},
   "source": [
    "The null space of a matrix $\\textit{A}$ is composed of all vectors that are map into the zero vector when multiplied by $\\textit{A}$. We denote the null space as $N(\\textit{A})$. \n",
    "\n",
    "For a matrix $\\textit{A} \\in \\mathbb{R}^{m\\times n}$ and a vector $\\bf{v} \\in \\mathbb{R}^n$, the null space is defined as:\n",
    "\n",
    "$$\n",
    "N(\\textit{A}) := \\{ \\bf{v} \\in \\mathbb{R}^m \\vert \\textit{A}\\bf{v} = 0\\}\n",
    "$$"
   ]
  },
  {
   "cell_type": "markdown",
   "metadata": {},
   "source": [
    "### The null space of the transpose"
   ]
  },
  {
   "cell_type": "markdown",
   "metadata": {},
   "source": [
    "The left null space of a matrix $\\textit{A}$ is composed of all vectors that are map into the zero vector when multiplied by $\\textit{A}$ from the left. By \"from the left\", the vectors on the left of $\\textit{A}$. We denote the left null space as $N(\\textit{A}^T)$\n",
    "\n",
    "For a matrix $\\textit{A} \\in \\mathbb{R}^{m\\times n}$ and a vector $\\bf{w} \\in \\mathbb{R}^m$, the null space is defined as:\n",
    "\n",
    "$$\n",
    "N(\\textit{A}^T) := \\{ \\bf{w} \\in \\mathbb{R}^n \\vert \\bf{v^T} \\textit{A} = 0^T\\}\n",
    "$$"
   ]
  },
  {
   "cell_type": "markdown",
   "metadata": {},
   "source": [
    "## Solving systems of linear equations with Matrices"
   ]
  },
  {
   "cell_type": "markdown",
   "metadata": {},
   "source": [
    "### Gaussian Elimination"
   ]
  },
  {
   "cell_type": "markdown",
   "metadata": {},
   "source": [
    "When I was in high school, I learned to solve systems of two or three equations by the methods of elimination and substitution. Nevertheless, as systems of equations get larger and more complicated, such inspection-based methods become impractical. By inspection-based, I mean \"just by looking at the equations and using common sense\". Thus, to approach such kind of systems we can use the method of **Gaussian Elimination**.   \n",
    "\n",
    "**Gaussian Elimination**, is a robust algorithm to solve linear systems. We say is robust, because it works in general, it all possible circumstances. It works by *eliminating* terms from a system of equations, such that it is simplified to the point where we obtain the **row echelon form** of the matrix. A matrix is in row echelon form when all rows contain zeros at the bottom left of the matrix. For instance:\n",
    "\n",
    "$$\n",
    "\\begin{bmatrix}\n",
    "p_1 & a & b \\\\\n",
    "0 & p_2 & c \\\\\n",
    "0 & 0 & p_3 \n",
    "\\end{bmatrix}\n",
    "$$\n",
    "\n",
    "The $p$ values along the diagonal are the **pivots** also known as basic variables of the matrix. An important remark about the pivots, is that they indicate which vectors are linearly independent in the matrix, once the matrix has been reduced to the row echelon form.\n",
    "\n",
    "There are three *elementary transformations* in Gaussian Elimination that when combined, allow simplifying any system to its row echelon form:\n",
    "\n",
    "1. Addition and subtraction of two equations (rows) \n",
    "2. Multiplication of an equation (rows) by a number \n",
    "3. Switching equations (rows)\n",
    "\n",
    "Consider the following system $\\textit{A} \\bf{w} = \\bf{y}$:\n",
    "\n",
    "$$\n",
    "\\begin{bmatrix}\n",
    "1 & 3 & 5 \\\\\n",
    "2 & 2 & -1 \\\\\n",
    "1 & 3 & 2 \n",
    "\\end{bmatrix}\n",
    "\\begin{bmatrix}\n",
    "w_{1} \\\\\n",
    "w_{2} \\\\\n",
    "w_{3}\n",
    "\\end{bmatrix}=\n",
    "\\begin{bmatrix}\n",
    "-1 \\\\\n",
    "1 \\\\\n",
    "2\n",
    "\\end{bmatrix}\n",
    "$$\n",
    "\n",
    "We want to know what combination of columns of $\\textit{A}$ will generate the target vector $\\bf{y}$. Alternatively, we can see this as a decomposition problem, as how can we decompose $\\bf{y}$ into columns of $\\textit{A}$. To aid the application of Gaussian Elimination, we can generate an **augmented matrix** $(\\textit{A} \\vert \\bf{y})$, this is, appending $\\bf{y}$ to $\\textit{A}$ on this manner:\n",
    "\n",
    "$$\n",
    "\\left[\n",
    "\\begin{matrix}\n",
    "1 & 3 & 5 \\\\\n",
    "2 & 2 & -1 \\\\\n",
    "1 & 3 & 2 \n",
    "\\end{matrix}\n",
    "  \\left|\n",
    "    \\,\n",
    "\\begin{matrix}\n",
    "-1 \\\\\n",
    "1 \\\\\n",
    "2\n",
    "\\end{matrix}\n",
    "  \\right.\n",
    "\\right]\n",
    "$$\n"
   ]
  },
  {
   "cell_type": "markdown",
   "metadata": {},
   "source": [
    "We start by multiplying row 1 by and substracting it from row 2 as $R_2 - 2R_1$ to obtain:\n",
    "\n",
    "$$\n",
    "\\left[\n",
    "\\begin{matrix}\n",
    "1 & 3 & 5 \\\\\n",
    "0 & -4 & -11 \\\\\n",
    "1 & 3 & 2 \n",
    "\\end{matrix}\n",
    "  \\left|\n",
    "    \\,\n",
    "\\begin{matrix}\n",
    "-1 \\\\\n",
    "3 \\\\\n",
    "2\n",
    "\\end{matrix}\n",
    "  \\right.\n",
    "\\right]\n",
    "$$"
   ]
  },
  {
   "cell_type": "markdown",
   "metadata": {},
   "source": [
    "If we substract row 1 from row 3 as $R_3 - R_1$ we get:\n",
    "\n",
    "$$\n",
    "\\left[\n",
    "\\begin{matrix}\n",
    "1 & 3 & 5 \\\\\n",
    "0 & -4 & -11 \\\\\n",
    "0 & 0 & -3 \n",
    "\\end{matrix}\n",
    "  \\left|\n",
    "    \\,\n",
    "\\begin{matrix}\n",
    "-1 \\\\\n",
    "3 \\\\\n",
    "3\n",
    "\\end{matrix}\n",
    "  \\right.\n",
    "\\right]\n",
    "$$"
   ]
  },
  {
   "cell_type": "markdown",
   "metadata": {},
   "source": [
    "At this point, we have found the row echelon form of $\\textit{A}$. If we divide row 3 by -3, We know that $w_3 = -1$. By **backsubsitution**, we can solve for $w_2$ as:\n",
    "\n",
    "$$\n",
    "\\begin{matrix}\n",
    "-4w_2 + -11(-1) = 3 \\\\\n",
    "-4w_2 = -8 \\\\\n",
    "w_2 = 2\n",
    "\\end{matrix}\n",
    "$$\n",
    "\n",
    "Again, taking $w_2=2$ and $w_3=-1$ we can solve for $w_1$ as:\n",
    "\n",
    "$$\n",
    "w_1 + 3(2) + 5(-1) = -1 \\\\\n",
    "w_1 + 6 - 5 = -1 \\\\\n",
    "w_1 = -2\n",
    "$$"
   ]
  },
  {
   "cell_type": "markdown",
   "metadata": {},
   "source": [
    "In this manner, we have found that the solution for our system is $w_1 = -2$, $w_2=2$, and $w_3 = -1$.  \n",
    "\n",
    "In `NumPy`, we can solve a system of equations with Gaussian Elimination with the `linalg.solve` method as:"
   ]
  },
  {
   "cell_type": "code",
   "execution_count": 48,
   "metadata": {},
   "outputs": [],
   "source": [
    "A = np.array([[1, 3, 5],\n",
    "              [2, 2, -1],\n",
    "              [1, 3, 2]])\n",
    "y = np.array([[-1],\n",
    "              [1],\n",
    "              [2]])"
   ]
  },
  {
   "cell_type": "code",
   "execution_count": 49,
   "metadata": {},
   "outputs": [
    {
     "data": {
      "text/plain": [
       "array([[-2.],\n",
       "       [ 2.],\n",
       "       [-1.]])"
      ]
     },
     "execution_count": 49,
     "metadata": {},
     "output_type": "execute_result"
    }
   ],
   "source": [
    "np.linalg.solve(A, y)"
   ]
  },
  {
   "cell_type": "markdown",
   "metadata": {},
   "source": [
    "Which confirms our solution is correct."
   ]
  },
  {
   "cell_type": "markdown",
   "metadata": {},
   "source": [
    "### Gauss-Jordan Elimination"
   ]
  },
  {
   "cell_type": "markdown",
   "metadata": {},
   "source": [
    "The only difference between **Gaussian Elimination** and **Gauss-Jordan Elimination**, is that this time we \"keep going\" with the elemental row operations until we obtain the **reduced row echelon form**. The *reduced* part means two additionak things: (1) the pivots must be $1$, (2) and the entries above the pivots must be $0$. This is simplest form a system of linear equations can take. For instance, for a 3x3 matrix:\n",
    "\n",
    "$$\n",
    "\\begin{bmatrix}\n",
    "1 & 0 & 0 \\\\\n",
    "0 & 1 & 0 \\\\\n",
    "0 & 0 & 1 \n",
    "\\end{bmatrix}\n",
    "$$"
   ]
  },
  {
   "cell_type": "markdown",
   "metadata": {},
   "source": [
    "Let's retake from where we left Gaussian elimination in the above section. If we divide row 3 by -3 and row 2 by -4 as $\\frac{R_3}{-3}$ and $\\frac{R_2}{-4}$, we get:"
   ]
  },
  {
   "cell_type": "markdown",
   "metadata": {},
   "source": [
    "$$\n",
    "\\left[\n",
    "\\begin{matrix}\n",
    "1 & 3 & 5 \\\\\n",
    "0 & 1 & 2.75 \\\\\n",
    "0 & 0 & 1 \n",
    "\\end{matrix}\n",
    "  \\left|\n",
    "    \\,\n",
    "\\begin{matrix}\n",
    "-1 \\\\\n",
    "-0.75 \\\\\n",
    "-1\n",
    "\\end{matrix}\n",
    "  \\right.\n",
    "\\right]\n",
    "$$"
   ]
  },
  {
   "cell_type": "markdown",
   "metadata": {},
   "source": [
    "Again, by this point we we know $w_3 = -1$. If we multiply row 2 by 3 and substract from row 1 as $R_1 - 3R_2$:"
   ]
  },
  {
   "cell_type": "markdown",
   "metadata": {},
   "source": [
    "$$\n",
    "\\left[\n",
    "\\begin{matrix}\n",
    "1 & 0 & -3.25 \\\\\n",
    "0 & 1 & 2.75 \\\\\n",
    "0 & 0 & 1 \n",
    "\\end{matrix}\n",
    "  \\left|\n",
    "    \\,\n",
    "\\begin{matrix}\n",
    "1.25 \\\\\n",
    "-0.75 \\\\\n",
    "-1\n",
    "\\end{matrix}\n",
    "  \\right.\n",
    "\\right]\n",
    "$$"
   ]
  },
  {
   "cell_type": "markdown",
   "metadata": {},
   "source": [
    "Finally, we can add 3.25 times row 3 to row 1, and substract 2.75 times row 3 to row 2, as $R_1 + 3.25R_3$ and $R_2 - 2.75R_3$ to get the **reduced row echelon form** as:\n",
    "\n",
    "$$\n",
    "\\left[\n",
    "\\begin{matrix}\n",
    "1 & 0 & 0 \\\\\n",
    "0 & 1 & 0 \\\\\n",
    "0 & 0 & 1 \n",
    "\\end{matrix}\n",
    "  \\left|\n",
    "    \\,\n",
    "\\begin{matrix}\n",
    "-2 \\\\\n",
    "2 \\\\\n",
    "-1\n",
    "\\end{matrix}\n",
    "  \\right.\n",
    "\\right]\n",
    "$$\n"
   ]
  },
  {
   "cell_type": "markdown",
   "metadata": {},
   "source": [
    "Now, by simply following the rules of matrix-vector multiplication, we get =\n",
    "\n",
    "$$\n",
    "w_1\n",
    "\\begin{bmatrix}\n",
    "1\\\\\n",
    "0\\\\\n",
    "0\n",
    "\\end{bmatrix}+\n",
    "w_2\n",
    "\\begin{bmatrix}\n",
    "0\\\\\n",
    "1\\\\\n",
    "0\n",
    "\\end{bmatrix}+\n",
    "w_3\n",
    "\\begin{bmatrix}\n",
    "0\\\\\n",
    "0\\\\\n",
    "1\n",
    "\\end{bmatrix}=\n",
    "\\begin{bmatrix}\n",
    "w_1\\\\\n",
    "w_2\\\\\n",
    "w_3\n",
    "\\end{bmatrix}=\n",
    "\\begin{bmatrix}\n",
    "-2 \\\\\n",
    "2 \\\\\n",
    "-1\n",
    "\\end{bmatrix}\n",
    "$$\n",
    "\n",
    "There you go, we obtained that $w_1 = -2$, $w_2 = 2$, and $w_3 = -1$."
   ]
  },
  {
   "cell_type": "markdown",
   "metadata": {},
   "source": [
    "## Matrix basis and rank"
   ]
  },
  {
   "cell_type": "markdown",
   "metadata": {},
   "source": [
    "A set of $n$ linearly independent column vectors with $n$ elements forms a **basis**. For instance, the column vectors of $\\textit{A}$ are a basis:\n",
    "\n",
    "$$\\textit{A}=\n",
    "\\begin{bmatrix}\n",
    "1 & 0 \\\\\n",
    "0 & 1\n",
    "\\end{bmatrix}\n",
    "$$\n",
    "\n",
    "\"A basis for what?\" You may be wondering. In the case of $\\textit{A}$, for any vector $\\bf{y} \\in \\mathbb{R}^2$. On the contrary, the column vectors for $\\textit{B}$ *do not* form a basis for $\\mathbb{R}^2$:\n",
    "\n",
    "$$\\textit{B}=\n",
    "\\begin{bmatrix}\n",
    "1 & 0 & 1\\\\\n",
    "0 & 1 & 1\n",
    "\\end{bmatrix}\n",
    "$$\n",
    "\n",
    "In the case of $\\textit{B}$, the third column vector is a linear combination of first and second column vectors. \n",
    "\n",
    "The definition of a *basis* depends on the **independence-dimension inequality**, which states that a *linearly independent set of $n$ vectors can have at most $n$ elements*. Alternatively, we say that any set of $n$ vectors with $n+1$ elements is, *necessarily*, linearly dependent. Given that each vector in a *basis* is linearly independent, we say that any vector $\\bf{y}$ with $n$ elements, can be generated in a unique linear combination of the *basis* vectors. Hence, any matrix more columns than rows (as in $\\textit{B}$) will have dependent vectors. *Basis* are sometimes referred to as the *minimal generating set*.\n",
    "\n",
    "An important question is how to find the *basis* for a matrix. Another way to put the same question is to found out which vectors are linearly independent of each other. Hence, we need to solve:\n",
    "\n",
    "$$\n",
    "\\sum_{i=1}^k \\beta_i a_i = 0\n",
    "$$\n",
    "\n",
    "Where $a_i$ are the column vectors of $\\textit{A}$. We can approach this by using **Gaussian Elimination** or **Gauss-Jordan Elimination** and reducing $\\textit{A}$ to its **row echelon form** or **reduced row echelon form**. In either case, recall that the *pivots* of the echelon form indicate the set of linearly independent vectors in a matrix.\n"
   ]
  },
  {
   "cell_type": "markdown",
   "metadata": {},
   "source": [
    "`NumPy` does not have a method to obtain the row echelon form of a matrix. But, we can use `Sympy`, a Python library for symbolic mathematics that counts with a module for Matrices operations.`SymPy` has a method to obtain the reduced row echelon form and the pivots, `rref`. "
   ]
  },
  {
   "cell_type": "code",
   "execution_count": 50,
   "metadata": {},
   "outputs": [],
   "source": [
    "from sympy import Matrix "
   ]
  },
  {
   "cell_type": "code",
   "execution_count": 51,
   "metadata": {},
   "outputs": [],
   "source": [
    "A = Matrix([[1, 0, 1],\n",
    "            [0, 1, 1]])"
   ]
  },
  {
   "cell_type": "code",
   "execution_count": 52,
   "metadata": {},
   "outputs": [],
   "source": [
    "B = Matrix([[1, 2, 3, -1],\n",
    "            [2, -1, -4, 8],\n",
    "            [-1, 1, 3, -5],\n",
    "            [-1, 2, 5, -6],\n",
    "            [-1, -2, -3, 1]])"
   ]
  },
  {
   "cell_type": "code",
   "execution_count": 53,
   "metadata": {},
   "outputs": [],
   "source": [
    "A_rref, A_pivots = A.rref()"
   ]
  },
  {
   "cell_type": "code",
   "execution_count": 54,
   "metadata": {},
   "outputs": [
    {
     "name": "stdout",
     "output_type": "stream",
     "text": [
      "Reduced row echelon form of A:\n"
     ]
    }
   ],
   "source": [
    "print('Reduced row echelon form of A:')"
   ]
  },
  {
   "cell_type": "markdown",
   "metadata": {},
   "source": [
    "$$\n",
    "\\begin{bmatrix}\n",
    "1 & 0 & 1\\\\\n",
    "0 & 1 & 1\n",
    "\\end{bmatrix}\n",
    "$$"
   ]
  },
  {
   "cell_type": "code",
   "execution_count": 55,
   "metadata": {},
   "outputs": [
    {
     "name": "stdout",
     "output_type": "stream",
     "text": [
      "Column pivots of A: (0, 1)\n"
     ]
    }
   ],
   "source": [
    "print(f'Column pivots of A: {A_pivots}')"
   ]
  },
  {
   "cell_type": "code",
   "execution_count": 56,
   "metadata": {},
   "outputs": [],
   "source": [
    "B_rref, B_pivots = B.rref()"
   ]
  },
  {
   "cell_type": "code",
   "execution_count": 57,
   "metadata": {},
   "outputs": [
    {
     "name": "stdout",
     "output_type": "stream",
     "text": [
      "Reduced row echelon form of B:\n"
     ]
    }
   ],
   "source": [
    "print('Reduced row echelon form of B:')"
   ]
  },
  {
   "cell_type": "markdown",
   "metadata": {},
   "source": [
    "$$\n",
    "\\begin{bmatrix}\n",
    "1 & 0 & -1 & 0\\\\\n",
    "0 & 1 & 2 & 0\\\\\n",
    "0 & 0 & 0 & 1\\\\\n",
    "0 & 0 & 0 & 0\\\\\n",
    "0 & 0 & 0 & 0\n",
    "\\end{bmatrix}\n",
    "$$"
   ]
  },
  {
   "cell_type": "code",
   "execution_count": 58,
   "metadata": {},
   "outputs": [
    {
     "name": "stdout",
     "output_type": "stream",
     "text": [
      "Column pivots of A: (0, 1, 3)\n"
     ]
    }
   ],
   "source": [
    "print(f'Column pivots of A: {B_pivots}')"
   ]
  },
  {
   "cell_type": "markdown",
   "metadata": {},
   "source": [
    "For $\\textit{A}$, we found that the first and second column vectors are the *basis*, whereas for $\\textit{B}$ is the first, second, and fourth.\n",
    "\n",
    "Now that we know about a *basis* and how to find it, understanding the concept of *rank* is simpler. The **rank** of a matrix $\\textit{A}$ is the dimensionality of the vector space generated by its number of linearly independent column vectors. This happens to be identical to the dimensionality of the vector space generated by its row vectors. We denote the *rank* of matrix as $rk(\\textit{A})$ or $rank(\\textit{A})$.\n",
    "\n",
    "For an square matrix $\\mathbb{R}^{m\\times n}$ (i.e., $m=n$), we say is **full rank** when every column and/or row is linearly independent. For a non-square matrix with $m>n$ (i.e., more rows than columns), we say is **full rank** when every row is linearly independent. When $m<n$ (i.e., more columns than rows), we say is **full rank** when every column is linearly independent.\n",
    "\n",
    "From an applied machine learning perspective, the *rank* of a matrix is relevant as a measure of the [information content of the matrix](https://math.stackexchange.com/questions/21100/importance-of-matrix-rank). Take matrix $\\textit{B}$ from the example above. Although the original matrix has 5 columns, we know is rank 4, hence, it has less information than it appears at first glance. "
   ]
  },
  {
   "cell_type": "markdown",
   "metadata": {},
   "source": [
    "## Matrix norm"
   ]
  },
  {
   "cell_type": "markdown",
   "metadata": {},
   "source": [
    "As with vectors, we can measure the size of a matrix by computing its **norm**. There are multiple ways to define the norm for a matrix, as long it satisfies the same properties defined for vectors norms: (1) absolutely homogeneous, (2) triangle inequality, (3) positive definite (see vector norms section). For our purposes, I'll cover two of the most commonly used norms in machine learning: (1) **Frobenius norm**, (2) **max norm**, (3) **spectral norm**.\n",
    "\n",
    "\n",
    "**Note**: I won't cover the spectral norm just yet, because it depends on concepts that I have not introduced at this point. "
   ]
  },
  {
   "cell_type": "markdown",
   "metadata": {},
   "source": [
    "### Frobenius norm"
   ]
  },
  {
   "cell_type": "markdown",
   "metadata": {},
   "source": [
    "The **Frobenius norm** is an element-wise norm named after the German mathematician Ferdinand Georg Frobenius. We denote this norm as $\\Vert \\textit{A} \\Vert_F$. You can thing about this norm as flattening out the matrix into a long vector. For instance, a $3 \\times 3$ matrix would become a vector with $n=9$ entries. We define the Frobenius norm as:\n",
    "\n",
    "$$\n",
    "\\Vert \\textit{A} \\Vert_F := \\sqrt{\\sum_{i=1}^m \\sum_{j=1}^n a_{ij}^2} \n",
    "$$\n",
    "\n",
    "In words: square each entry of $\\textit{A}$, add them together, and then take the square root. \n",
    "\n",
    "In `NumPy`, we can compute the Frobenius norm as with the `linal.norm` method ant `fro` as the argument:"
   ]
  },
  {
   "cell_type": "code",
   "execution_count": 59,
   "metadata": {},
   "outputs": [],
   "source": [
    "A = np.array([[1, 2, 3],\n",
    "              [4, 5, 6], \n",
    "              [7, 8, 9]])"
   ]
  },
  {
   "cell_type": "code",
   "execution_count": 60,
   "metadata": {},
   "outputs": [
    {
     "data": {
      "text/plain": [
       "16.881943016134134"
      ]
     },
     "execution_count": 60,
     "metadata": {},
     "output_type": "execute_result"
    }
   ],
   "source": [
    "np.linalg.norm(A, 'fro')"
   ]
  },
  {
   "cell_type": "markdown",
   "metadata": {},
   "source": [
    "### Max norm"
   ]
  },
  {
   "cell_type": "markdown",
   "metadata": {},
   "source": [
    "The **max norm** or **infinity norm** of a matrix equals to the largest sum of the absolute value of row vectors. We denote the max norm as $\\Vert \\textit{A} \\Vert_max$. Consider $\\textit{A} \\in \\mathbb{R}^{m \\times n}$. We define the max norm for $\\textit{A}$ as:\n",
    "\n",
    "$$\n",
    "\\Vert \\textit{A} \\Vert_{max} := \\text{max}_{i} \\sum_{j=1}^n\\vert a_{ij} \\vert\n",
    "$$\n",
    "\n",
    "This equals to go row by row, adding the absolute value of each entry, and then selecting the largest sum.\n",
    "\n",
    "In `Numpy`, we compute the max norm as:"
   ]
  },
  {
   "cell_type": "code",
   "execution_count": 61,
   "metadata": {},
   "outputs": [],
   "source": [
    "A = np.array([[1, 2, 3],\n",
    "              [4, 5, 6], \n",
    "              [7, 8, 9]])"
   ]
  },
  {
   "cell_type": "code",
   "execution_count": 62,
   "metadata": {},
   "outputs": [
    {
     "data": {
      "text/plain": [
       "24.0"
      ]
     },
     "execution_count": 62,
     "metadata": {},
     "output_type": "execute_result"
    }
   ],
   "source": [
    "np.linalg.norm(A, np.inf)"
   ]
  },
  {
   "cell_type": "markdown",
   "metadata": {},
   "source": [
    "In this case, is easy to see that the third row has the largest absolute value."
   ]
  },
  {
   "cell_type": "markdown",
   "metadata": {},
   "source": [
    "# Linear and affine mappings"
   ]
  },
  {
   "cell_type": "code",
   "execution_count": 63,
   "metadata": {},
   "outputs": [
    {
     "data": {
      "text/plain": [
       "ThemeRegistry.enable('dark')"
      ]
     },
     "execution_count": 63,
     "metadata": {},
     "output_type": "execute_result"
    }
   ],
   "source": [
    "# Libraries for this section \n",
    "import numpy as np\n",
    "import pandas as pd\n",
    "import altair as alt\n",
    "alt.themes.enable('dark')"
   ]
  },
  {
   "cell_type": "markdown",
   "metadata": {},
   "source": [
    "## Linear mappings"
   ]
  },
  {
   "cell_type": "markdown",
   "metadata": {},
   "source": [
    "Now we have covered the basics of vectors and matrices, we are ready to introduce the idea of a linear mapping. **Linear mappings**, also known as *linear transformations* and *linear functions*, indicate the correspondence between vectors in a vector space $\\textit{V}$ and the same vectors in a different vector space $\\textit{W}$. This is an abstract idea. I like to think about this in the following manner: imagine there is a multiverse as in Marvel comics, but instead of humans, aliens, gods, stars, galaxies, and superheroes, we have *vectors*. In this context, a linear mapping would indicate the *correspondence* of entities (i.e., planets, humans, superheroes, etc) *between universes*. Just imagine us, placidly existing in our own universe, and suddenly a *linear mapping* happens: our entire universe would be transformed into a different one, according to whatever rules the linear mapping has enforced. Now, switch *universes* for *vector spaces* and *us* by vectors, and you'll get the full picture. \n",
    "\n",
    "So, linear mappings transform vector spaces into others. Yet, such transformations are constrained to a spefic kind: **linear ones**. Consider a linear mapping $\\textit{T}$ and a pair of vectors $\\bf{x}$ and $\\bf{y}$. To be valid, a linear mapping must satisfies these rules:\n",
    "\n",
    "$$\n",
    "\\begin{matrix}\n",
    "\\begin{align*}\n",
    "\\textit{T}(\\bf{x} + \\bf{y}) &= \\textit{T}(\\bf{x}) + \\textit{T}(\\bf{y}) \\\\\n",
    "\\text{T}(\\alpha \\bf{x}) &= \\alpha\\textit{T} (\\bf{x}) \\text{, } \\forall \\alpha\n",
    "\\end{align*}\n",
    "\\end{matrix}\n",
    "$$\n",
    "\n",
    "In words: \n",
    "- The transformation of the sum of the vectors must be equal to taking the transformation of each vector individually and then adding them up.\n",
    "- The transformation of a scaled version of a vector must be equal to taking the transformation of the vector first and then scaling the result.\n",
    "\n",
    "The two properties above can be condenced into one, the **superposition property**:\n",
    "\n",
    "$$\n",
    "\\textit{T}(\\alpha \\bf{x} + \\beta \\bf{y}) = \\alpha \\textit{T}(\\bf{x}) + \\beta \\textit{T}(\\bf{y})\n",
    "$$\n",
    "\n",
    "As a result of satisfying those properties, linear mappings **preserve the structure of the original vector space**. Imagine a vector space $\\in \\mathbb{R}^2$, like a grid on lines in a cartesian plane. Visually, preserving the structure of the vector space after a mapping means to: (1) the origin of the coordinate space remains fixed, and (2) the lines remain lines and parallel to each other.\n",
    "\n",
    "In linear algebra, linear mappings are represented as matrices and performed by matrix multiplication. Take a vector $\\bf{x}$ and a matrix $\\textit{A}$. We say that when $\\textit{A}$ multiplies $\\bf{x}$, the matrix transform the vector into another one: \n",
    "\n",
    "$$\n",
    "\\textit{T}(\\bf{x}) = \\textit{A}\\bf{x}\n",
    "$$\n",
    "\n",
    "The typicall notation for a linear mapping is the same we used for functions. For the vector spaces $\\textit{V}$ and $\\textit{W}$, we indicate the linear mapping as $\\textit{T}: \\textit{V} \\rightarrow \\textit{W}$  \n"
   ]
  },
  {
   "cell_type": "markdown",
   "metadata": {},
   "source": [
    "## Examples of linear mappings"
   ]
  },
  {
   "cell_type": "markdown",
   "metadata": {},
   "source": [
    "Let's examine a couple of examples of proper linear mappings. In general, *dot products are linear mappings*. This should come as no surprise since dot products are linear operations by definition. Dot products sometimes take special names, when they have a well-known effect on a linear space. I'll examine two simple cases: **negation** and **reversal**. Keep in mind that although we will test this for one vector, this mapping work on the entire vector space (i.e., the span) of a given dimensionality."
   ]
  },
  {
   "cell_type": "markdown",
   "metadata": {},
   "source": [
    "### Negation matrix"
   ]
  },
  {
   "cell_type": "markdown",
   "metadata": {},
   "source": [
    "A **negation matrix** returns the opposite sign of each element of a vector. It can be defined as:\n",
    "\n",
    "$$\n",
    "\\textit{T} := \\textit{A} := \\textit{-I}\n",
    "$$\n",
    "\n",
    "This is, the negative identity matrix. Consider a pair of vectors $\\bf{x} \\in \\mathbb{R}^3$ and $\\bf{x} \\in \\mathbb{y}^3$, and the negation matrix $\\textit{-I} \\in \\mathbb{R}^{3 \\times 3}$. Let's test the linear mapping properties with `NumPy`: "
   ]
  },
  {
   "cell_type": "code",
   "execution_count": 64,
   "metadata": {},
   "outputs": [],
   "source": [
    "x = np.array([[-1],\n",
    "              [0],\n",
    "              [1]])\n",
    "\n",
    "y = np.array([[-3],\n",
    "              [0],\n",
    "              [2]])\n",
    "\n",
    "T = np.array([[-1,0,0],\n",
    "              [0,-1,0],\n",
    "              [0,0,-1]])"
   ]
  },
  {
   "cell_type": "markdown",
   "metadata": {},
   "source": [
    "We first test $\\textit{T}(\\bf{x} + \\bf{y}) = \\textit{T}(\\bf{x}) + \\textit{T}(\\bf{y})$:"
   ]
  },
  {
   "cell_type": "code",
   "execution_count": 65,
   "metadata": {},
   "outputs": [
    {
     "name": "stdout",
     "output_type": "stream",
     "text": [
      "Left side of the equation:\n",
      "[[ 4]\n",
      " [ 0]\n",
      " [-3]]\n",
      "Right side of the equation:\n",
      "[[ 4]\n",
      " [ 0]\n",
      " [-3]]\n"
     ]
    }
   ],
   "source": [
    "left_side_1 = T @ (x+y)\n",
    "right_side_1 = (T @ x) + (T @ y)\n",
    "print(f\"Left side of the equation:\\n{left_side_1}\")\n",
    "print(f\"Right side of the equation:\\n{right_side_1}\")"
   ]
  },
  {
   "cell_type": "markdown",
   "metadata": {},
   "source": [
    "Hence, we confirm we get the same results.\n",
    "\n",
    "Let's check the second property $\\text{T}(\\alpha \\bf{x}) = \\alpha\\textit{T} (\\bf{x}) \\text{, } \\forall \\alpha$"
   ]
  },
  {
   "cell_type": "code",
   "execution_count": 66,
   "metadata": {},
   "outputs": [
    {
     "name": "stdout",
     "output_type": "stream",
     "text": [
      "Left side of the equation:\n",
      "[[ 2]\n",
      " [ 0]\n",
      " [-2]]\n",
      "Right side of the equation:\n",
      "[[ 2]\n",
      " [ 0]\n",
      " [-2]]\n"
     ]
    }
   ],
   "source": [
    "alpha = 2\n",
    "left_side_2 = T @ (alpha * x)\n",
    "right_side_2 = alpha * (T @ x)\n",
    "print(f\"Left side of the equation:\\n{left_side_2}\")\n",
    "print(f\"Right side of the equation:\\n{right_side_2}\")"
   ]
  },
  {
   "cell_type": "markdown",
   "metadata": {},
   "source": [
    "Again, we confirm we get the same results for both sides of the equation"
   ]
  },
  {
   "cell_type": "markdown",
   "metadata": {},
   "source": [
    "### Reversal matrix"
   ]
  },
  {
   "cell_type": "markdown",
   "metadata": {},
   "source": [
    "A **reversal matrix** returns reverses the order of the elements of a vector. This is, the last become the first, the second to last becomes the second, and so on. For a matrix in $\\mathbb{R}^{3 \\times 3}$ is defined as:\n",
    "\n",
    "$$\n",
    "\\textit{T} := \n",
    "\\begin{bmatrix}\n",
    "0 & 0 & 1 \\\\\n",
    "0 & 1 & 0 \\\\\n",
    "1 & 0 & 0\n",
    "\\end{bmatrix}\n",
    "$$\n",
    "\n",
    "In general, it is the *identity matrix but backwards*, with ones from the bottom left corner to the top right corern. Consider a pair of vectors $\\bf{x} \\in \\mathbb{R}^3$ and $\\bf{x} \\in \\mathbb{y}^3$, and the reversal matrix $\\textit{T} \\in \\mathbb{R}^{3 \\times 3}$. Let's test the linear mapping properties with `NumPy`: "
   ]
  },
  {
   "cell_type": "code",
   "execution_count": 67,
   "metadata": {},
   "outputs": [],
   "source": [
    "x = np.array([[-1],\n",
    "              [0],\n",
    "              [1]])\n",
    "\n",
    "y = np.array([[-3],\n",
    "              [0],\n",
    "              [2]])\n",
    "\n",
    "T = np.array([[0,0,1],\n",
    "              [0,1,0],\n",
    "              [1,0,0]])"
   ]
  },
  {
   "cell_type": "markdown",
   "metadata": {},
   "source": [
    "We first test $\\textit{T}(\\bf{x} + \\bf{y}) = \\textit{T}(\\bf{x}) + \\textit{T}(\\bf{y})$:"
   ]
  },
  {
   "cell_type": "code",
   "execution_count": 68,
   "metadata": {},
   "outputs": [
    {
     "name": "stdout",
     "output_type": "stream",
     "text": [
      "x before reversal:\n",
      "[[-1]\n",
      " [ 0]\n",
      " [ 1]]\n",
      "x after reversal \n",
      "[[ 1]\n",
      " [ 0]\n",
      " [-1]]\n",
      "y before reversal:\n",
      "[[-3]\n",
      " [ 0]\n",
      " [ 2]]\n",
      "y after reversal \n",
      "[[ 2]\n",
      " [ 0]\n",
      " [-3]]\n",
      "Left side of the equation (add reversed vectors):\n",
      "[[ 3]\n",
      " [ 0]\n",
      " [-4]]\n",
      "Right side of the equation (add reversed vectors):\n",
      "[[ 3]\n",
      " [ 0]\n",
      " [-4]]\n"
     ]
    }
   ],
   "source": [
    "x_reversal = T @ x\n",
    "y_reversal = T @ y\n",
    "left_side_1 = T @ (x+y)\n",
    "right_side_1 = (T @ x) + (T @ y)\n",
    "print(f\"x before reversal:\\n{x}\\nx after reversal \\n{x_reversal}\")\n",
    "print(f\"y before reversal:\\n{y}\\ny after reversal \\n{y_reversal}\")\n",
    "print(f\"Left side of the equation (add reversed vectors):\\n{left_side_1}\")\n",
    "print(f\"Right side of the equation (add reversed vectors):\\n{right_side_1}\")"
   ]
  },
  {
   "cell_type": "markdown",
   "metadata": {},
   "source": [
    "This works fine. Let's check the second property $\\text{T}(\\alpha \\bf{x}) = \\alpha\\textit{T} (\\bf{x}) \\text{, } \\forall \\alpha$"
   ]
  },
  {
   "cell_type": "code",
   "execution_count": 69,
   "metadata": {},
   "outputs": [
    {
     "name": "stdout",
     "output_type": "stream",
     "text": [
      "Left side of the equation:\n",
      "[[ 2]\n",
      " [ 0]\n",
      " [-2]]\n",
      "Right side of the equation:\n",
      "[[ 2]\n",
      " [ 0]\n",
      " [-2]]\n"
     ]
    }
   ],
   "source": [
    "alpha = 2\n",
    "left_side_2 = T @ (alpha * x)\n",
    "right_side_2 = alpha * (T @ x)\n",
    "print(f\"Left side of the equation:\\n{left_side_2}\")\n",
    "print(f\"Right side of the equation:\\n{right_side_2}\")"
   ]
  },
  {
   "cell_type": "markdown",
   "metadata": {},
   "source": [
    "## Examples of nonlinear mappings"
   ]
  },
  {
   "cell_type": "markdown",
   "metadata": {},
   "source": [
    "As with most subjects, examining examples of *what things are not* can be enlightening. Let's take a couple of non-linear mappings: **norms** and **translation**. "
   ]
  },
  {
   "cell_type": "markdown",
   "metadata": {},
   "source": [
    "### Norms "
   ]
  },
  {
   "cell_type": "markdown",
   "metadata": {},
   "source": [
    "This may come as a surprise, but norms are not linear transformations. Not \"some\" norms, but all norms. This is because of the very definition of a norm, in particular, the **triangle inequality** and **positive definite** properties, colliding with the requirements of linear mappings.  \n",
    "\n",
    "First, the triangle inequality defines: $\\lVert \\bf{x} + \\bf{y} \\rVert \\le \\lVert \\bf{x} \\rVert + \\lVert \\bf{y} \\rVert$. Whereas the first requirement for linear mappings demands: $\\textit{T}(\\bf{x} + \\bf{y}) = \\textit{T}(\\bf{x}) + \\textit{T}(\\bf{y})$. The problem here is in the $\\le$ condition, which means adding two vectors and then taking the norm *can* be less than the sum of the norms of the individual vectors. Such condition is, by defnition, not allowed for linear mappings.\n",
    "\n",
    "Second, the positive definite defines: $\\lVert \\bf{x} \\rVert \\ge 0$ and $ \\lVert \\bf{x} \\rVert = 0 \\Longleftrightarrow \\bf{x}= 0$. Put simply, norms *have to* be a postive value. For instance, the norm of $\\Vert - x \\Vert = \\Vert x \\Vert$, instead of $\\Vert - x \\Vert$. But, the second property for linear mappings requires $\\Vert -\\alpha \\bf{x} \\Vert = -\\alpha \\Vert \\bf{x} \\Vert$. Hence, it fails when we multiply by a negative number (i.e., it can preserve the negative sign)."
   ]
  },
  {
   "cell_type": "markdown",
   "metadata": {},
   "source": [
    "### Translation"
   ]
  },
  {
   "cell_type": "markdown",
   "metadata": {},
   "source": [
    "Translation is a geometric transformation that moves every vector in a vector space by the same distance in a given direction. Translation is an operation that matches our everyday life intuitions: move a cup of coffee from your left to your right, and you would have performed translation in $\\mathbb{R}^3$ space.\n",
    "\n",
    "Contrary to what we have seen so far, the translation matrix is represented with **homogeneous coordinates** instead of cartesian coordinates. Put simply, the homogeneous coordinate system adds a extra $1$ at the end of vectros. For instance, the vector in $\\mathbb{R}^2$ cartesian coordinates:\n",
    "\n",
    "$$\n",
    "\\bf{x} = \n",
    "\\begin{bmatrix}\n",
    "2 \\\\\n",
    "2 \\\\\n",
    "\\end{bmatrix}\n",
    "$$\n",
    "\n",
    "Becomes the following in $\\mathbb{R}^2$ homogeneous coordinates:\n",
    "\n",
    "$$\n",
    "\\bf{x} = \n",
    "\\begin{bmatrix}\n",
    "2 \\\\\n",
    "2 \\\\\n",
    "1\n",
    "\\end{bmatrix}\n",
    "$$\n",
    "\n",
    "\n",
    "In fact, the translation matrix for the general case can't be represented with cartesian coordinates. Homogeneous coordinates are the standard in fields like computer graphics since they allow us to better represent a series of transformations (or mappings) like scaling, translation, rotation, etc. \n",
    "\n",
    "\n",
    "A translation matrix in $\\mathbb{R}^3$ can be denoted as:\n",
    "\n",
    "$$\\textit{T}_v =\n",
    "\\begin{bmatrix}\n",
    "1 & 0 & v_1 \\\\\n",
    "0 & 1 & v_2 \\\\\n",
    "0 & 0 & 1\n",
    "\\end{bmatrix}\n",
    "$$\n",
    "\n",
    "Where $v_1$ and $v_2$ are the values added to each dimension for translation. For instance, consider $\\bf{x} = \\begin{bmatrix} 2 & 2 \\end{bmatrix}^T \\in \\mathbb{R}^2$. If we want translate this $3$ units in the first dimension, and $1$ units in the second dimension, we first transfor the vector to homogeneous coordinates $\\bf{x} = \\begin{bmatrix} 2 & 2 & 1 \\end{bmatrix}^T$ , and then perfom matrix-vector multiplication as usual:\n",
    "\n",
    "$$\\textit{T}_v =\n",
    "\\begin{bmatrix}\n",
    "1 & 0 & 3 \\\\\n",
    "0 & 1 & 1 \\\\\n",
    "0 & 0 & 1\n",
    "\\end{bmatrix}\n",
    "\\begin{bmatrix}\n",
    "2 \\\\\n",
    "2 \\\\\n",
    "1\n",
    "\\end{bmatrix}=\n",
    "\\begin{bmatrix}\n",
    "5 \\\\\n",
    "3 \\\\\n",
    "1\n",
    "\\end{bmatrix}\n",
    "$$\n",
    "\n",
    "The first two vectors in the translation matrix simple reproduce the original vector (i.e., the identity), and the third vector is the one actually \"moving\" the vectors.\n",
    "\n",
    "Translation is **not a linear mapping** simply because $\\textit{T}(\\bf{x} + \\bf{y}) = \\textit{T}(\\bf{x}) + \\textit{T}(\\bf{y})$ **does not hold**. In the case of translation $\\textit{T}(\\bf{x} + \\bf{y})  = \\textit{T}(\\bf{x} + v_1) + \\textit{T}(\\bf{y} + + v_1)$, which invalidates the operation as a linear mapping. This type of mapping is known as an **affine mapping or transformation**, which is the topic I'll review next."
   ]
  },
  {
   "cell_type": "markdown",
   "metadata": {},
   "source": [
    "## Affine mappings"
   ]
  },
  {
   "cell_type": "markdown",
   "metadata": {},
   "source": [
    "The simplest way to describe affine mappings (or transformations) is as a *linear mapping* + *translation*. Hence, an affine mapping $\\textit{M}$ takes the form of:\n",
    "\n",
    "$$\n",
    "\\textit{M}(\\textbf{x}) = \\textit{A}\\textbf{x} + \\textbf{b}\n",
    "$$\n",
    "\n",
    "Where $\\textit{A}$ is a linear mapping or transformation and $\\textbf{b}$ is the translation vector.\n",
    "\n",
    "If you are familiar with linear regression, you would notice that the above expression is its matrix form. Linear regression is usually analyzed as a linear mapping plus noise, but it can also be seen as an affine mapping. Alternative, we can say that $\\textit{A}\\textbf{x} + \\textbf{b}$ is a linear mapping *if and only if* $\\textbf{b}=0$.\n",
    "\n",
    "From a geometrical perspective, affine mappings displace spaces (lines or hyperplanes) from the origin of the coordinate space. Consequently, affine mappings do not operate over *vector spaces* as the zero vector condition $\\bf{0} \\in S$ does not hold anymore. Affine mappings act onto *affine subspaces*, that I'll define later in this section."
   ]
  },
  {
   "cell_type": "markdown",
   "metadata": {},
   "source": [
    "<center> Fig. 14: Affine mapping <center/>"
   ]
  },
  {
   "cell_type": "markdown",
   "metadata": {},
   "source": [
    "<center>\n",
    "<img src=\"./images/b-affine-mapping.svg\">\n",
    "<center/>"
   ]
  },
  {
   "cell_type": "markdown",
   "metadata": {},
   "source": [
    "## Affine combination of vectors"
   ]
  },
  {
   "cell_type": "markdown",
   "metadata": {},
   "source": [
    "We can think in affine combinations of vectors, as linear combinations with an added constraint. \n",
    "Let's recall de definitoon for a linear combination. Consider a set of vectors $x_1, ..., x_k$ and scalars $\\beta_1, ..., \\beta_k \\in \\mathbb{R}$, then a linear combination is:   \n",
    "\n",
    "$$\n",
    "\\sum_{j=1}^k \\beta_j x_j := \\beta_1x_1 + ... + \\beta_kx_k\n",
    "$$\n",
    "\n",
    "For affine combinations, we add the condition:\n",
    "\n",
    "$$\n",
    "\\sum_{j=1}^k \\beta_j = 1\n",
    "$$\n",
    "\n",
    "In words, we constrain the sum of the weights $\\beta$ to $1$. In practice, this defines a *weighted average of the vectors*. This restriction has a palpable effect which is easier to grasp from a geometric perspective."
   ]
  },
  {
   "cell_type": "markdown",
   "metadata": {},
   "source": [
    "<center> Fig. 15: Affine combinations <center/>"
   ]
  },
  {
   "cell_type": "markdown",
   "metadata": {},
   "source": [
    "<center>\n",
    "<img src=\"./images/b-affine-combination.svg\">\n",
    "<center/>"
   ]
  },
  {
   "cell_type": "markdown",
   "metadata": {},
   "source": [
    "Fig. 15 shows two affine combinations. The first combination with weights $\\beta_1 = \\frac{1}{2}$ and $\\beta_2 = \\frac{1}{2}$, which yields the midpoint between vectors $\\bf{x}$ and $\\bf{y}$. The second combination with weights $\\beta_1 = 3$ and $\\beta_2 =-1$ (add up to $1$), which yield a point over the vector $\\bf{z}$. In both cases, we have that the resulting vector lies on the same line. This is a general consequence of constraining the sum of the weights to $1$: *every affine combination of the same set of vectors will map onto the same space*. "
   ]
  },
  {
   "cell_type": "markdown",
   "metadata": {},
   "source": [
    "## Affine span"
   ]
  },
  {
   "cell_type": "markdown",
   "metadata": {},
   "source": [
    "The set of all linear combinations, define the the vector span. Similarly, the set of all affine combinations determine the **affine span**. As we saw in Fig. 15, every affine of vectors $\\textbf{x}$ and $\\textbf{y}$ maps onto the line $\\textbf{z}$. More generally, we say that the **affine span** of vectors $\\textbf{x}_1, \\cdots, \\textbf{x}_k$ is:\n",
    "\n",
    "$$\n",
    "\\textbf{x}_1, \\cdots, \\textbf{x}_k := \\sum_{j=1}^k \\beta_j \\textbf{x}_j, \\vert  \\sum_{j=1} \\beta_j = 1 \\in \\mathbb{R} \\forall \\beta\n",
    "$$\n",
    "\n",
    "Again, in words: the affine span is the set of all linear combinations of the vector set, such that the weights add up to $1$ and all weights are real numbers. Hence, the fundamental difference between vector spaces and affine spaces, is the former will span the entire $\\mathbb{R}^n$ space (assuming independent vectors), whereas the latter will span a line.\n",
    "\n",
    "Let's consider three cases in $\\mathbb{R}^3$: (1) three linearly independent vectors; (2) two linearly independent vectors and one dependent vector; (3) three linearly dependent vectors. In case (1), the affine span is the 2-dimensional plane containing those vectors. In case (2), the affine space is a line. Finally, in case (3), the span a single point. This may not be entirely obvious, so I encourage you to draw and the three cases, take the affine combinations and see what happens. "
   ]
  },
  {
   "cell_type": "markdown",
   "metadata": {},
   "source": [
    "## Affine space and subspace"
   ]
  },
  {
   "cell_type": "markdown",
   "metadata": {},
   "source": [
    "In simple terms, **affine spaces** are *translates* of vector spaces, this is, vector spaces that have been offset from the origin of the coordinate system. Such a notion makes sound affine spaces as a special case of vector spaces, but they are actually more general. Indeed, affine spaces provide a more general framework to do geometric manipulation, as they work independently of the choice of the coordinate system (i.e., it is not constrained to the origin). For instance, the set of solutions of the system of linear equations $\\textit{A}\\textbf{x}=\\textbf{y}$ (i.e., linear regression), is an affine space, not a linear vector space. \n",
    "\n",
    "Consider a vector space $\\textit{V}$, a vector $\\textbf{x}_0 \\in \\textit{V}$, and a subset $\\textit{U} \\subseteq \\textit{V}$. We define an affine subspace $\\textit{L}$ as:\n",
    "\n",
    "$$\\textit{L} =\n",
    "\\textbf{x}_0 + \\textit{U} := \\{ \\textbf{x}_0 + \\textbf{u}: \\textbf{u} \\in \\textit{U} \\}  \n",
    "$$\n",
    "\n",
    "Further, any point, line, plane, or hyperplane in $\\mathbb{R}^n$ that does not go through the origin, is an affine subspace."
   ]
  },
  {
   "cell_type": "markdown",
   "metadata": {},
   "source": [
    "## Affine mappings using the augmented matrix"
   ]
  },
  {
   "cell_type": "markdown",
   "metadata": {},
   "source": [
    "Consider the matrix $\\textit{A} \\in \\mathbb{R}^{m \\times n}$, and vectors $\\textbf{x}, \\textbf{b}, \\textbf{y} \\in  \\mathbb{R}^n$\n",
    "\n",
    "We can represent the system of linear equations:\n",
    "\n",
    "$$\n",
    "\\textit{A}\\textbf{x} + \\textbf{b}  = \\textbf{y} \n",
    "$$\n",
    "\n",
    "As a single matrix vector multiplication, by using an **augmented matrix** of the form:\n",
    "\n",
    "$$\n",
    "\\left[\n",
    "\\begin{matrix}\n",
    "& \\textit{} &\\\\\n",
    "& \\textit{A} &\\\\\n",
    "& \\textit{} &\\\\\n",
    "0 & \\cdots & 1 \n",
    "\\end{matrix}\n",
    "  \\left|\n",
    "    \\,\n",
    "\\begin{matrix}\n",
    "x_1 \\\\\n",
    "\\vdots \\\\\n",
    "x_n \\\\\n",
    "1\n",
    "\\end{matrix}\n",
    "  \\right.\n",
    "\\right] =\n",
    "\\begin{bmatrix}\n",
    "y_1 \\\\\n",
    "\\vdots \\\\\n",
    "y_n \\\\\n",
    "1\n",
    "\\end{bmatrix}\n",
    "$$\n",
    "\n",
    "This form is known as the **affine transformation matrix**. We made use of this form when we exemplified *translation*, which happens to be an affine mapping. "
   ]
  },
  {
   "cell_type": "markdown",
   "metadata": {},
   "source": [
    "## Special linear mappings"
   ]
  },
  {
   "cell_type": "markdown",
   "metadata": {},
   "source": [
    "There are several important linear mappings (or transformations) that can be expressed as matrix-vector multiplications of the form $\\textbf{y} = \\textit{A}\\textbf{x}$. Such mappings are common in image processing, computer vision, and other linear applications. Further, combinations of linear and nonlinear mappings are what complex models as neural networks do to learn mappings from inputs to outputs. Here we briefly review six of the most important linear mappings."
   ]
  },
  {
   "cell_type": "markdown",
   "metadata": {},
   "source": [
    "### Scaling"
   ]
  },
  {
   "cell_type": "markdown",
   "metadata": {},
   "source": [
    "**Scaling** is a mapping of the form $\\textbf{y} = \\textit{A}\\textbf{x}$, with $\\textit{A} = \\alpha \\textit{I}$. Scaling *stretches* $\\textbf{x}$ by a factor $\\vert \\alpha \\vert$ when $\\alpha < 1$, *shrinks* $\\textbf{x}$ when $\\alpha < 1$, and *reverses* the direction of the vector when $\\alpha < 0$. For geometrical objects in Euclidean space, scaling changes the size but not the shape of objects. An scaling matrix in $\\mathbb{R}^2$ takes the form:\n",
    "\n",
    "$$\n",
    "\\begin{bmatrix}\n",
    "s_1 & 0 \\\\\n",
    "0   & s_2\n",
    "\\end{bmatrix}\n",
    "$$\n",
    "\n",
    "Where $s_1, s_2$ are the scaling factors. \n",
    "\n",
    "Let's scale a vector using `NumPy`. We will define a scaling matrix $\\textit{A}$, a vector $\\textbf{x}$ to scale, and then plot the original and scaled vectors with Altair."
   ]
  },
  {
   "cell_type": "code",
   "execution_count": 70,
   "metadata": {},
   "outputs": [],
   "source": [
    "A = np.array([[2.0, 0],\n",
    "              [0, 2.0]])\n",
    "\n",
    "x = np.array([[0, 2.0,],\n",
    "              [0, 4.0,]])"
   ]
  },
  {
   "cell_type": "markdown",
   "metadata": {},
   "source": [
    "To scale $\\textbf{x}$, we perform matrix-vector multiplication as usual"
   ]
  },
  {
   "cell_type": "code",
   "execution_count": 71,
   "metadata": {},
   "outputs": [],
   "source": [
    "y = A @ x"
   ]
  },
  {
   "cell_type": "code",
   "execution_count": 72,
   "metadata": {},
   "outputs": [],
   "source": [
    "z = np.column_stack((y,x))"
   ]
  },
  {
   "cell_type": "code",
   "execution_count": 73,
   "metadata": {},
   "outputs": [],
   "source": [
    "df = pd.DataFrame({'dim-1': z[0], 'dim-2':z[1], 'type': ['tran', 'tran', 'base', 'base']})"
   ]
  },
  {
   "cell_type": "code",
   "execution_count": 74,
   "metadata": {},
   "outputs": [
    {
     "data": {
      "text/html": [
       "<div>\n",
       "<style scoped>\n",
       "    .dataframe tbody tr th:only-of-type {\n",
       "        vertical-align: middle;\n",
       "    }\n",
       "\n",
       "    .dataframe tbody tr th {\n",
       "        vertical-align: top;\n",
       "    }\n",
       "\n",
       "    .dataframe thead th {\n",
       "        text-align: right;\n",
       "    }\n",
       "</style>\n",
       "<table border=\"1\" class=\"dataframe\">\n",
       "  <thead>\n",
       "    <tr style=\"text-align: right;\">\n",
       "      <th></th>\n",
       "      <th>dim-1</th>\n",
       "      <th>dim-2</th>\n",
       "      <th>type</th>\n",
       "    </tr>\n",
       "  </thead>\n",
       "  <tbody>\n",
       "    <tr>\n",
       "      <th>0</th>\n",
       "      <td>0.0</td>\n",
       "      <td>0.0</td>\n",
       "      <td>tran</td>\n",
       "    </tr>\n",
       "    <tr>\n",
       "      <th>1</th>\n",
       "      <td>4.0</td>\n",
       "      <td>8.0</td>\n",
       "      <td>tran</td>\n",
       "    </tr>\n",
       "    <tr>\n",
       "      <th>2</th>\n",
       "      <td>0.0</td>\n",
       "      <td>0.0</td>\n",
       "      <td>base</td>\n",
       "    </tr>\n",
       "    <tr>\n",
       "      <th>3</th>\n",
       "      <td>2.0</td>\n",
       "      <td>4.0</td>\n",
       "      <td>base</td>\n",
       "    </tr>\n",
       "  </tbody>\n",
       "</table>\n",
       "</div>"
      ],
      "text/plain": [
       "   dim-1  dim-2  type\n",
       "0    0.0    0.0  tran\n",
       "1    4.0    8.0  tran\n",
       "2    0.0    0.0  base\n",
       "3    2.0    4.0  base"
      ]
     },
     "execution_count": 74,
     "metadata": {},
     "output_type": "execute_result"
    }
   ],
   "source": [
    "df"
   ]
  },
  {
   "cell_type": "markdown",
   "metadata": {},
   "source": [
    "We see that the resulting scaled vector ('tran') is indeed two times the original vector ('base'). Now let's plot. The light blue line solid line represents the original vector, whereas the dashed orange line represents the scaled vector. "
   ]
  },
  {
   "cell_type": "code",
   "execution_count": 75,
   "metadata": {},
   "outputs": [
    {
     "data": {
      "text/html": [
       "\n",
       "<div id=\"altair-viz-ca289a0eb8fa486a89fe96dccdc7e3c0\"></div>\n",
       "<script type=\"text/javascript\">\n",
       "  (function(spec, embedOpt){\n",
       "    let outputDiv = document.currentScript.previousElementSibling;\n",
       "    if (outputDiv.id !== \"altair-viz-ca289a0eb8fa486a89fe96dccdc7e3c0\") {\n",
       "      outputDiv = document.getElementById(\"altair-viz-ca289a0eb8fa486a89fe96dccdc7e3c0\");\n",
       "    }\n",
       "    const paths = {\n",
       "      \"vega\": \"https://cdn.jsdelivr.net/npm//vega@5?noext\",\n",
       "      \"vega-lib\": \"https://cdn.jsdelivr.net/npm//vega-lib?noext\",\n",
       "      \"vega-lite\": \"https://cdn.jsdelivr.net/npm//vega-lite@4.8.1?noext\",\n",
       "      \"vega-embed\": \"https://cdn.jsdelivr.net/npm//vega-embed@6?noext\",\n",
       "    };\n",
       "\n",
       "    function loadScript(lib) {\n",
       "      return new Promise(function(resolve, reject) {\n",
       "        var s = document.createElement('script');\n",
       "        s.src = paths[lib];\n",
       "        s.async = true;\n",
       "        s.onload = () => resolve(paths[lib]);\n",
       "        s.onerror = () => reject(`Error loading script: ${paths[lib]}`);\n",
       "        document.getElementsByTagName(\"head\")[0].appendChild(s);\n",
       "      });\n",
       "    }\n",
       "\n",
       "    function showError(err) {\n",
       "      outputDiv.innerHTML = `<div class=\"error\" style=\"color:red;\">${err}</div>`;\n",
       "      throw err;\n",
       "    }\n",
       "\n",
       "    function displayChart(vegaEmbed) {\n",
       "      vegaEmbed(outputDiv, spec, embedOpt)\n",
       "        .catch(err => showError(`Javascript Error: ${err.message}<br>This usually means there's a typo in your chart specification. See the javascript console for the full traceback.`));\n",
       "    }\n",
       "\n",
       "    if(typeof define === \"function\" && define.amd) {\n",
       "      requirejs.config({paths});\n",
       "      require([\"vega-embed\"], displayChart, err => showError(`Error loading script: ${err.message}`));\n",
       "    } else if (typeof vegaEmbed === \"function\") {\n",
       "      displayChart(vegaEmbed);\n",
       "    } else {\n",
       "      loadScript(\"vega\")\n",
       "        .then(() => loadScript(\"vega-lite\"))\n",
       "        .then(() => loadScript(\"vega-embed\"))\n",
       "        .catch(showError)\n",
       "        .then(() => displayChart(vegaEmbed));\n",
       "    }\n",
       "  })({\"usermeta\": {\"embedOptions\": {\"theme\": \"dark\"}}, \"config\": {\"view\": {\"continuousWidth\": 400, \"continuousHeight\": 300}}, \"data\": {\"name\": \"data-9f7a3cb65390d8e1f055fe5dbda17177\"}, \"mark\": {\"type\": \"line\", \"opacity\": 0.8}, \"encoding\": {\"color\": {\"type\": \"nominal\", \"field\": \"type\"}, \"strokeDash\": {\"type\": \"nominal\", \"field\": \"type\"}, \"x\": {\"type\": \"quantitative\", \"field\": \"dim-1\"}, \"y\": {\"type\": \"quantitative\", \"field\": \"dim-2\"}}, \"$schema\": \"https://vega.github.io/schema/vega-lite/v4.8.1.json\", \"datasets\": {\"data-9f7a3cb65390d8e1f055fe5dbda17177\": [{\"dim-1\": 0.0, \"dim-2\": 0.0, \"type\": \"tran\"}, {\"dim-1\": 4.0, \"dim-2\": 8.0, \"type\": \"tran\"}, {\"dim-1\": 0.0, \"dim-2\": 0.0, \"type\": \"base\"}, {\"dim-1\": 2.0, \"dim-2\": 4.0, \"type\": \"base\"}]}}, {\"mode\": \"vega-lite\"});\n",
       "</script>"
      ],
      "text/plain": [
       "alt.Chart(...)"
      ]
     },
     "execution_count": 75,
     "metadata": {},
     "output_type": "execute_result"
    }
   ],
   "source": [
    "chart = alt.Chart(df).mark_line(opacity=0.8).encode(\n",
    "    x='dim-1',\n",
    "    y='dim-2',\n",
    "    color='type',\n",
    "    strokeDash='type')\n",
    "\n",
    "chart"
   ]
  },
  {
   "cell_type": "markdown",
   "metadata": {},
   "source": [
    "### Reflection"
   ]
  },
  {
   "cell_type": "markdown",
   "metadata": {},
   "source": [
    "**Reflection** is the mirror image of an object in Euclidean space. For the general case, reflection of a vector $\\textbf{x}$ through a line that passes through the origin is obtained as:\n",
    "\n",
    "$$\n",
    "\\begin{bmatrix}\n",
    "\\cos (2 \\theta) & \\sin (2 \\theta) \\\\\n",
    "\\sin (2 \\theta) & -\\cos (2 \\theta)\n",
    "\\end{bmatrix} \\textbf{x}\n",
    "$$\n",
    "\n",
    "where $\\theta$ are radians of inclination with respect to the horizontal axis. I've been purposely avoiding trigonometric functions, so let's examine a couple of special cases for a vector $\\textbf{x}$ in $\\mathbb{R}^2$ (that can be extended to an arbitrary number of dimensions). \n",
    "\n",
    "Reflection along the horizontal axis, or around the line at $0^{\\circ}$ from the origin:\n",
    "\n",
    "$$\n",
    "\\begin{bmatrix}\n",
    "1 & 0 \\\\\n",
    "0 & -1\n",
    "\\end{bmatrix}\n",
    "$$\n",
    "\n",
    "Reflection along the vertical axis, or around the line at $90^{\\circ}$ from the origin:\n",
    "\n",
    "$$\n",
    "\\begin{bmatrix}\n",
    "-1 & 0 \\\\\n",
    "0 & 1\n",
    "\\end{bmatrix}\n",
    "$$\n",
    "\n",
    "Reflection along the line where the horizontal axis equals the vertical axis, or around the line at $45^{\\circ}$ from the origin:\n",
    "\n",
    "$$\n",
    "\\begin{bmatrix}\n",
    "0 & 1 \\\\\n",
    "1 & 0\n",
    "\\end{bmatrix}\n",
    "$$\n",
    "\n",
    "Reflection along the line where the horizontal axis equals the negative of the vertical axis, or around the line at $-45^{\\circ}$ from the origin:\n",
    "\n",
    "$$\n",
    "\\begin{bmatrix}\n",
    "0 & -1 \\\\\n",
    "-1 & 0\n",
    "\\end{bmatrix}\n",
    "$$\n",
    "\n",
    "Let's reflect a vector using `NumPy`. We will define a reflection matrix $\\textit{A}$, a vector $\\textbf{x}$ to reflect, and then plot the original and reflected vectors with Altair."
   ]
  },
  {
   "cell_type": "code",
   "execution_count": 76,
   "metadata": {},
   "outputs": [],
   "source": [
    "# rotation along the horiontal axis\n",
    "A1 = np.array([[1.0, 0],\n",
    "               [0, -1.0]])\n",
    "\n",
    "# rotation along the vertical axis\n",
    "A2 = np.array([[-1.0, 0],\n",
    "               [0, 1.0]])\n",
    "\n",
    "# rotation along the line at 45 degrees from the origin\n",
    "A3 = np.array([[0, 1.0],\n",
    "               [1.0, 0]])\n",
    "\n",
    "# rotation along the line at -45 degrees from the origin\n",
    "A4 = np.array([[0, -1.0],\n",
    "               [-1.0, 0]])\n",
    "\n",
    "x = np.array([[0, 2.0,],\n",
    "              [0, 4.0,]])"
   ]
  },
  {
   "cell_type": "code",
   "execution_count": 77,
   "metadata": {},
   "outputs": [],
   "source": [
    "y1 = A1 @ x\n",
    "y2 = A2 @ x\n",
    "y3 = A3 @ x\n",
    "y4 = A4 @ x"
   ]
  },
  {
   "cell_type": "code",
   "execution_count": 78,
   "metadata": {},
   "outputs": [],
   "source": [
    "z = np.column_stack((x, y1, y2, y3, y4))"
   ]
  },
  {
   "cell_type": "code",
   "execution_count": 79,
   "metadata": {},
   "outputs": [],
   "source": [
    "df = pd.DataFrame({'dim-1': z[0], 'dim-2':z[1],\n",
    "                   'reflection': ['original', 'original',\n",
    "                                  '0-degrees', '0-degrees',\n",
    "                                  '90-degrees', '90-degrees', \n",
    "                                  '45-degrees', '45-degrees', \n",
    "                                  'neg-45-degrees', 'neg-45-degrees']})"
   ]
  },
  {
   "cell_type": "code",
   "execution_count": 80,
   "metadata": {},
   "outputs": [
    {
     "data": {
      "text/html": [
       "<div>\n",
       "<style scoped>\n",
       "    .dataframe tbody tr th:only-of-type {\n",
       "        vertical-align: middle;\n",
       "    }\n",
       "\n",
       "    .dataframe tbody tr th {\n",
       "        vertical-align: top;\n",
       "    }\n",
       "\n",
       "    .dataframe thead th {\n",
       "        text-align: right;\n",
       "    }\n",
       "</style>\n",
       "<table border=\"1\" class=\"dataframe\">\n",
       "  <thead>\n",
       "    <tr style=\"text-align: right;\">\n",
       "      <th></th>\n",
       "      <th>dim-1</th>\n",
       "      <th>dim-2</th>\n",
       "      <th>reflection</th>\n",
       "    </tr>\n",
       "  </thead>\n",
       "  <tbody>\n",
       "    <tr>\n",
       "      <th>0</th>\n",
       "      <td>0.0</td>\n",
       "      <td>0.0</td>\n",
       "      <td>original</td>\n",
       "    </tr>\n",
       "    <tr>\n",
       "      <th>1</th>\n",
       "      <td>2.0</td>\n",
       "      <td>4.0</td>\n",
       "      <td>original</td>\n",
       "    </tr>\n",
       "    <tr>\n",
       "      <th>2</th>\n",
       "      <td>0.0</td>\n",
       "      <td>0.0</td>\n",
       "      <td>0-degrees</td>\n",
       "    </tr>\n",
       "    <tr>\n",
       "      <th>3</th>\n",
       "      <td>2.0</td>\n",
       "      <td>-4.0</td>\n",
       "      <td>0-degrees</td>\n",
       "    </tr>\n",
       "    <tr>\n",
       "      <th>4</th>\n",
       "      <td>0.0</td>\n",
       "      <td>0.0</td>\n",
       "      <td>90-degrees</td>\n",
       "    </tr>\n",
       "    <tr>\n",
       "      <th>5</th>\n",
       "      <td>-2.0</td>\n",
       "      <td>4.0</td>\n",
       "      <td>90-degrees</td>\n",
       "    </tr>\n",
       "    <tr>\n",
       "      <th>6</th>\n",
       "      <td>0.0</td>\n",
       "      <td>0.0</td>\n",
       "      <td>45-degrees</td>\n",
       "    </tr>\n",
       "    <tr>\n",
       "      <th>7</th>\n",
       "      <td>4.0</td>\n",
       "      <td>2.0</td>\n",
       "      <td>45-degrees</td>\n",
       "    </tr>\n",
       "    <tr>\n",
       "      <th>8</th>\n",
       "      <td>0.0</td>\n",
       "      <td>0.0</td>\n",
       "      <td>neg-45-degrees</td>\n",
       "    </tr>\n",
       "    <tr>\n",
       "      <th>9</th>\n",
       "      <td>-4.0</td>\n",
       "      <td>-2.0</td>\n",
       "      <td>neg-45-degrees</td>\n",
       "    </tr>\n",
       "  </tbody>\n",
       "</table>\n",
       "</div>"
      ],
      "text/plain": [
       "   dim-1  dim-2      reflection\n",
       "0    0.0    0.0        original\n",
       "1    2.0    4.0        original\n",
       "2    0.0    0.0       0-degrees\n",
       "3    2.0   -4.0       0-degrees\n",
       "4    0.0    0.0      90-degrees\n",
       "5   -2.0    4.0      90-degrees\n",
       "6    0.0    0.0      45-degrees\n",
       "7    4.0    2.0      45-degrees\n",
       "8    0.0    0.0  neg-45-degrees\n",
       "9   -4.0   -2.0  neg-45-degrees"
      ]
     },
     "execution_count": 80,
     "metadata": {},
     "output_type": "execute_result"
    }
   ],
   "source": [
    "df"
   ]
  },
  {
   "cell_type": "code",
   "execution_count": 81,
   "metadata": {},
   "outputs": [],
   "source": [
    "def base_coor(ran1: float, ran2: float):\n",
    "    '''return base chart with coordinate space'''\n",
    "    df_base = pd.DataFrame({'horizontal': np.linspace(ran1, ran2, num=2), 'vertical': np.zeros(2)})\n",
    "\n",
    "    h = alt.Chart(df_base).mark_line(color='white').encode(\n",
    "        x='horizontal',\n",
    "        y='vertical')\n",
    "    v = alt.Chart(df_base).mark_line(color='white').encode(\n",
    "        y='horizontal',\n",
    "        x='vertical')\n",
    "    base = h + v\n",
    "\n",
    "    return base"
   ]
  },
  {
   "cell_type": "code",
   "execution_count": 82,
   "metadata": {},
   "outputs": [
    {
     "data": {
      "text/html": [
       "\n",
       "<div id=\"altair-viz-487619ecdd58489f936d2d7b85fcd5cd\"></div>\n",
       "<script type=\"text/javascript\">\n",
       "  (function(spec, embedOpt){\n",
       "    let outputDiv = document.currentScript.previousElementSibling;\n",
       "    if (outputDiv.id !== \"altair-viz-487619ecdd58489f936d2d7b85fcd5cd\") {\n",
       "      outputDiv = document.getElementById(\"altair-viz-487619ecdd58489f936d2d7b85fcd5cd\");\n",
       "    }\n",
       "    const paths = {\n",
       "      \"vega\": \"https://cdn.jsdelivr.net/npm//vega@5?noext\",\n",
       "      \"vega-lib\": \"https://cdn.jsdelivr.net/npm//vega-lib?noext\",\n",
       "      \"vega-lite\": \"https://cdn.jsdelivr.net/npm//vega-lite@4.8.1?noext\",\n",
       "      \"vega-embed\": \"https://cdn.jsdelivr.net/npm//vega-embed@6?noext\",\n",
       "    };\n",
       "\n",
       "    function loadScript(lib) {\n",
       "      return new Promise(function(resolve, reject) {\n",
       "        var s = document.createElement('script');\n",
       "        s.src = paths[lib];\n",
       "        s.async = true;\n",
       "        s.onload = () => resolve(paths[lib]);\n",
       "        s.onerror = () => reject(`Error loading script: ${paths[lib]}`);\n",
       "        document.getElementsByTagName(\"head\")[0].appendChild(s);\n",
       "      });\n",
       "    }\n",
       "\n",
       "    function showError(err) {\n",
       "      outputDiv.innerHTML = `<div class=\"error\" style=\"color:red;\">${err}</div>`;\n",
       "      throw err;\n",
       "    }\n",
       "\n",
       "    function displayChart(vegaEmbed) {\n",
       "      vegaEmbed(outputDiv, spec, embedOpt)\n",
       "        .catch(err => showError(`Javascript Error: ${err.message}<br>This usually means there's a typo in your chart specification. See the javascript console for the full traceback.`));\n",
       "    }\n",
       "\n",
       "    if(typeof define === \"function\" && define.amd) {\n",
       "      requirejs.config({paths});\n",
       "      require([\"vega-embed\"], displayChart, err => showError(`Error loading script: ${err.message}`));\n",
       "    } else if (typeof vegaEmbed === \"function\") {\n",
       "      displayChart(vegaEmbed);\n",
       "    } else {\n",
       "      loadScript(\"vega\")\n",
       "        .then(() => loadScript(\"vega-lite\"))\n",
       "        .then(() => loadScript(\"vega-embed\"))\n",
       "        .catch(showError)\n",
       "        .then(() => displayChart(vegaEmbed));\n",
       "    }\n",
       "  })({\"usermeta\": {\"embedOptions\": {\"theme\": \"dark\"}}, \"config\": {\"view\": {\"continuousWidth\": 400, \"continuousHeight\": 300}}, \"layer\": [{\"mark\": {\"type\": \"line\", \"color\": \"white\"}, \"encoding\": {\"x\": {\"type\": \"quantitative\", \"field\": \"horizontal\"}, \"y\": {\"type\": \"quantitative\", \"field\": \"vertical\"}}}, {\"mark\": {\"type\": \"line\", \"color\": \"white\"}, \"encoding\": {\"x\": {\"type\": \"quantitative\", \"field\": \"vertical\"}, \"y\": {\"type\": \"quantitative\", \"field\": \"horizontal\"}}}, {\"data\": {\"name\": \"data-d6c1c641e6407b304d469e8de4bf7492\"}, \"mark\": \"line\", \"encoding\": {\"color\": {\"type\": \"nominal\", \"field\": \"reflection\"}, \"x\": {\"type\": \"quantitative\", \"axis\": {\"title\": \"horizontal-axis\"}, \"field\": \"dim-1\"}, \"y\": {\"type\": \"quantitative\", \"axis\": {\"title\": \"vertical-axis\"}, \"field\": \"dim-2\"}}}], \"data\": {\"name\": \"data-dc621955550350bfc1b0624dd9983169\"}, \"$schema\": \"https://vega.github.io/schema/vega-lite/v4.8.1.json\", \"datasets\": {\"data-dc621955550350bfc1b0624dd9983169\": [{\"horizontal\": -5.0, \"vertical\": 0.0}, {\"horizontal\": 5.0, \"vertical\": 0.0}], \"data-d6c1c641e6407b304d469e8de4bf7492\": [{\"dim-1\": 0.0, \"dim-2\": 0.0, \"reflection\": \"original\"}, {\"dim-1\": 2.0, \"dim-2\": 4.0, \"reflection\": \"original\"}, {\"dim-1\": 0.0, \"dim-2\": 0.0, \"reflection\": \"0-degrees\"}, {\"dim-1\": 2.0, \"dim-2\": -4.0, \"reflection\": \"0-degrees\"}, {\"dim-1\": 0.0, \"dim-2\": 0.0, \"reflection\": \"90-degrees\"}, {\"dim-1\": -2.0, \"dim-2\": 4.0, \"reflection\": \"90-degrees\"}, {\"dim-1\": 0.0, \"dim-2\": 0.0, \"reflection\": \"45-degrees\"}, {\"dim-1\": 4.0, \"dim-2\": 2.0, \"reflection\": \"45-degrees\"}, {\"dim-1\": 0.0, \"dim-2\": 0.0, \"reflection\": \"neg-45-degrees\"}, {\"dim-1\": -4.0, \"dim-2\": -2.0, \"reflection\": \"neg-45-degrees\"}]}}, {\"mode\": \"vega-lite\"});\n",
       "</script>"
      ],
      "text/plain": [
       "alt.LayerChart(...)"
      ]
     },
     "execution_count": 82,
     "metadata": {},
     "output_type": "execute_result"
    }
   ],
   "source": [
    "chart = alt.Chart(df).mark_line().encode(\n",
    "    x=alt.X('dim-1', axis=alt.Axis(title='horizontal-axis')),\n",
    "    y=alt.Y('dim-2', axis=alt.Axis(title='vertical-axis')),\n",
    "    color='reflection')\n",
    "\n",
    "base_coor(-5.0, 5.0) + chart"
   ]
  },
  {
   "cell_type": "markdown",
   "metadata": {},
   "source": [
    "### Shear"
   ]
  },
  {
   "cell_type": "markdown",
   "metadata": {},
   "source": [
    "**Shear** mappings are hard to describe in words but easy to understand with images. I recommend to look at the shear mapping below and then read this description: a shear mapping displaces points of an object in a given direction (e.g., all points to the right), in a proportion equal to their perpendicular distance from an axis (e.g., the line on the $x$ axis) that remains fixed. A \"proportion equal to their perpendicular distance\" means that points further away from the reference axis displace more than points near to the axis. \n",
    "\n",
    "For an object in $\\mathbb{R}^2$, a **horizontal shear** matrix (i.e., paraller to the horizontal axis) takes the form:\n",
    "\n",
    "$$\n",
    "\\begin{bmatrix}\n",
    "1 & m \\\\\n",
    "0 & 1\n",
    "\\end{bmatrix}\n",
    "$$\n",
    "\n",
    "Where $m$ is the *shear factor*, that essentially determines how pronounced is the shear.\n",
    "\n",
    "For an object in $\\mathbb{R}^2$, a **vertical shear** matrix (i.e., paraller to the vertical axis) takes the form:\n",
    "\n",
    "$$\n",
    "\\begin{bmatrix}\n",
    "1 & 0 \\\\\n",
    "m & 1\n",
    "\\end{bmatrix}\n",
    "$$\n",
    "\n",
    "Let's shear a vector using `NumPy`. We will define a shear matrix $\\textit{A}$, a pair of vectors $\\textbf{x}$ and $\\textbf{u}$ to shear, and then plot the original and shear vectors with Altair. The reason we define two vectors, is that shear mappings are easier to appreciate with planes or multiple sides figures than single lines."
   ]
  },
  {
   "cell_type": "code",
   "execution_count": 83,
   "metadata": {},
   "outputs": [],
   "source": [
    "# shear along the horiontal axis\n",
    "A1 = np.array([[1.0, 1.5],\n",
    "               [0, 1.0]])\n",
    "\n",
    "x = np.array([[0, 2.0,],\n",
    "              [0, 4.0,]])\n",
    "\n",
    "u = np.array([[2, 4.0,],\n",
    "              [0, 4.0,]])"
   ]
  },
  {
   "cell_type": "code",
   "execution_count": 84,
   "metadata": {},
   "outputs": [],
   "source": [
    "y1 = A1 @ x\n",
    "v1 = A1 @ u\n",
    "\n",
    "z = np.column_stack((x, y1, u, v1))"
   ]
  },
  {
   "cell_type": "code",
   "execution_count": 85,
   "metadata": {},
   "outputs": [],
   "source": [
    "df = pd.DataFrame({'dim-1': z[0], 'dim-2':z[1],\n",
    "                   'shear': ['original', 'original',\n",
    "                             'horizontal', 'horizontal',\n",
    "                             'original-2', 'original-2',\n",
    "                             'horizontal-2', 'horizontal-2'\n",
    "                            ]})"
   ]
  },
  {
   "cell_type": "code",
   "execution_count": 86,
   "metadata": {},
   "outputs": [
    {
     "data": {
      "text/html": [
       "\n",
       "<div id=\"altair-viz-4df504d4605a4d3d9d7688bcf5204008\"></div>\n",
       "<script type=\"text/javascript\">\n",
       "  (function(spec, embedOpt){\n",
       "    let outputDiv = document.currentScript.previousElementSibling;\n",
       "    if (outputDiv.id !== \"altair-viz-4df504d4605a4d3d9d7688bcf5204008\") {\n",
       "      outputDiv = document.getElementById(\"altair-viz-4df504d4605a4d3d9d7688bcf5204008\");\n",
       "    }\n",
       "    const paths = {\n",
       "      \"vega\": \"https://cdn.jsdelivr.net/npm//vega@5?noext\",\n",
       "      \"vega-lib\": \"https://cdn.jsdelivr.net/npm//vega-lib?noext\",\n",
       "      \"vega-lite\": \"https://cdn.jsdelivr.net/npm//vega-lite@4.8.1?noext\",\n",
       "      \"vega-embed\": \"https://cdn.jsdelivr.net/npm//vega-embed@6?noext\",\n",
       "    };\n",
       "\n",
       "    function loadScript(lib) {\n",
       "      return new Promise(function(resolve, reject) {\n",
       "        var s = document.createElement('script');\n",
       "        s.src = paths[lib];\n",
       "        s.async = true;\n",
       "        s.onload = () => resolve(paths[lib]);\n",
       "        s.onerror = () => reject(`Error loading script: ${paths[lib]}`);\n",
       "        document.getElementsByTagName(\"head\")[0].appendChild(s);\n",
       "      });\n",
       "    }\n",
       "\n",
       "    function showError(err) {\n",
       "      outputDiv.innerHTML = `<div class=\"error\" style=\"color:red;\">${err}</div>`;\n",
       "      throw err;\n",
       "    }\n",
       "\n",
       "    function displayChart(vegaEmbed) {\n",
       "      vegaEmbed(outputDiv, spec, embedOpt)\n",
       "        .catch(err => showError(`Javascript Error: ${err.message}<br>This usually means there's a typo in your chart specification. See the javascript console for the full traceback.`));\n",
       "    }\n",
       "\n",
       "    if(typeof define === \"function\" && define.amd) {\n",
       "      requirejs.config({paths});\n",
       "      require([\"vega-embed\"], displayChart, err => showError(`Error loading script: ${err.message}`));\n",
       "    } else if (typeof vegaEmbed === \"function\") {\n",
       "      displayChart(vegaEmbed);\n",
       "    } else {\n",
       "      loadScript(\"vega\")\n",
       "        .then(() => loadScript(\"vega-lite\"))\n",
       "        .then(() => loadScript(\"vega-embed\"))\n",
       "        .catch(showError)\n",
       "        .then(() => displayChart(vegaEmbed));\n",
       "    }\n",
       "  })({\"usermeta\": {\"embedOptions\": {\"theme\": \"dark\"}}, \"config\": {\"view\": {\"continuousWidth\": 400, \"continuousHeight\": 300}}, \"layer\": [{\"mark\": {\"type\": \"line\", \"color\": \"white\"}, \"encoding\": {\"x\": {\"type\": \"quantitative\", \"field\": \"horizontal\"}, \"y\": {\"type\": \"quantitative\", \"field\": \"vertical\"}}}, {\"mark\": {\"type\": \"line\", \"color\": \"white\"}, \"encoding\": {\"x\": {\"type\": \"quantitative\", \"field\": \"vertical\"}, \"y\": {\"type\": \"quantitative\", \"field\": \"horizontal\"}}}, {\"data\": {\"name\": \"data-d2b6d700081f3dc3271961cd2c42922c\"}, \"mark\": \"line\", \"encoding\": {\"color\": {\"type\": \"nominal\", \"field\": \"shear\"}, \"x\": {\"type\": \"quantitative\", \"axis\": {\"title\": \"horizontal-axis\"}, \"field\": \"dim-1\"}, \"y\": {\"type\": \"quantitative\", \"axis\": {\"title\": \"vertical-axis\"}, \"field\": \"dim-2\"}}}], \"data\": {\"name\": \"data-29b144b3d9944f86f2a8e5d58a2cc2b0\"}, \"$schema\": \"https://vega.github.io/schema/vega-lite/v4.8.1.json\", \"datasets\": {\"data-29b144b3d9944f86f2a8e5d58a2cc2b0\": [{\"horizontal\": -5.0, \"vertical\": 0.0}, {\"horizontal\": 10.0, \"vertical\": 0.0}], \"data-d2b6d700081f3dc3271961cd2c42922c\": [{\"dim-1\": 0.0, \"dim-2\": 0.0, \"shear\": \"original\"}, {\"dim-1\": 2.0, \"dim-2\": 4.0, \"shear\": \"original\"}, {\"dim-1\": 0.0, \"dim-2\": 0.0, \"shear\": \"horizontal\"}, {\"dim-1\": 8.0, \"dim-2\": 4.0, \"shear\": \"horizontal\"}, {\"dim-1\": 2.0, \"dim-2\": 0.0, \"shear\": \"original-2\"}, {\"dim-1\": 4.0, \"dim-2\": 4.0, \"shear\": \"original-2\"}, {\"dim-1\": 2.0, \"dim-2\": 0.0, \"shear\": \"horizontal-2\"}, {\"dim-1\": 10.0, \"dim-2\": 4.0, \"shear\": \"horizontal-2\"}]}}, {\"mode\": \"vega-lite\"});\n",
       "</script>"
      ],
      "text/plain": [
       "alt.LayerChart(...)"
      ]
     },
     "execution_count": 86,
     "metadata": {},
     "output_type": "execute_result"
    }
   ],
   "source": [
    "chart = alt.Chart(df).mark_line().encode(\n",
    "    x=alt.X('dim-1', axis=alt.Axis(title='horizontal-axis')),\n",
    "    y=alt.Y('dim-2', axis=alt.Axis(title='vertical-axis')),\n",
    "    color='shear')\n",
    "\n",
    "base_coor(-5.0, 10.0) + chart"
   ]
  },
  {
   "cell_type": "markdown",
   "metadata": {},
   "source": [
    "### Rotation"
   ]
  },
  {
   "cell_type": "markdown",
   "metadata": {},
   "source": [
    "**Rotation** mappings do exactly what their name indicates: they move objects (by convection) counterclockwise in Euclidean space. For the general case in $\\mathbb{R}^2$, counterclockwise of vector $\\textbf{x}$ by $\\theta$ radiants rotations is obtained as:\n",
    "\n",
    "$$\n",
    "\\begin{bmatrix}\n",
    "\\cos \\theta & -\\sin \\theta \\\\\n",
    "\\sin \\theta & \\cos \\theta \n",
    "\\end{bmatrix} \\textbf{x}\n",
    "$$\n",
    "\n",
    "Again, let's examine a couple of special cases.\n",
    "\n",
    "A $90^{\\circ}$ rotation matrix in $\\mathbb{R}^2$ :\n",
    "\n",
    "$$\n",
    "\\begin{bmatrix}\n",
    "0 & -1 \\\\\n",
    "1 & 0\n",
    "\\end{bmatrix} \\textbf{x}\n",
    "$$\n",
    "\n",
    "A $180^{\\circ}$ rotation matrix in $\\mathbb{R}^2$:\n",
    "\n",
    "$$\n",
    "\\begin{bmatrix}\n",
    "-1 & 0 \\\\\n",
    "0 & -1\n",
    "\\end{bmatrix} \\textbf{x}\n",
    "$$\n",
    "\n",
    "A $270^{\\circ}$ rotation matrix in $\\mathbb{R}^2$:\n",
    "\n",
    "$$\n",
    "\\begin{bmatrix}\n",
    "0 & 1 \\\\\n",
    "-1 & 0\n",
    "\\end{bmatrix} \\textbf{x}\n",
    "$$\n",
    "\n",
    "Let's rotate a vector using `NumPy`. We will define a rotation matrix $\\textit{A}$, a vector $\\textbf{x}$, and then plot the original and rotated vectors with Altair."
   ]
  },
  {
   "cell_type": "code",
   "execution_count": 87,
   "metadata": {},
   "outputs": [],
   "source": [
    "# 90-degrees roration \n",
    "A1 = np.array([[0, -1.0],\n",
    "               [1, 0]])\n",
    "\n",
    "# 180-degrees roration \n",
    "A2 = np.array([[-1.0, 0],\n",
    "               [0, -1.0]])\n",
    "\n",
    "# 270-degrees roration \n",
    "A3 = np.array([[0, 1.0],\n",
    "               [-1.0, 0]])\n",
    "\n",
    "x = np.array([[0, 2.0,],\n",
    "              [0, 4.0,]])"
   ]
  },
  {
   "cell_type": "code",
   "execution_count": 88,
   "metadata": {},
   "outputs": [],
   "source": [
    "y1 = A1 @ x\n",
    "y2 = A2 @ x\n",
    "y3 = A3 @ x\n",
    "\n",
    "z = np.column_stack((x, y1, y2, y3))"
   ]
  },
  {
   "cell_type": "code",
   "execution_count": 89,
   "metadata": {},
   "outputs": [],
   "source": [
    "df = pd.DataFrame({'dim-1': z[0], 'dim-2':z[1],\n",
    "                   'rotation': ['original', 'original',\n",
    "                             '90-degrees', '90-degrees',\n",
    "                             '180-degrees', '180-degrees',\n",
    "                             '270-degrees', '270-degrees'\n",
    "                            ]})"
   ]
  },
  {
   "cell_type": "code",
   "execution_count": 90,
   "metadata": {},
   "outputs": [
    {
     "data": {
      "text/html": [
       "<div>\n",
       "<style scoped>\n",
       "    .dataframe tbody tr th:only-of-type {\n",
       "        vertical-align: middle;\n",
       "    }\n",
       "\n",
       "    .dataframe tbody tr th {\n",
       "        vertical-align: top;\n",
       "    }\n",
       "\n",
       "    .dataframe thead th {\n",
       "        text-align: right;\n",
       "    }\n",
       "</style>\n",
       "<table border=\"1\" class=\"dataframe\">\n",
       "  <thead>\n",
       "    <tr style=\"text-align: right;\">\n",
       "      <th></th>\n",
       "      <th>dim-1</th>\n",
       "      <th>dim-2</th>\n",
       "      <th>rotation</th>\n",
       "    </tr>\n",
       "  </thead>\n",
       "  <tbody>\n",
       "    <tr>\n",
       "      <th>0</th>\n",
       "      <td>0.0</td>\n",
       "      <td>0.0</td>\n",
       "      <td>original</td>\n",
       "    </tr>\n",
       "    <tr>\n",
       "      <th>1</th>\n",
       "      <td>2.0</td>\n",
       "      <td>4.0</td>\n",
       "      <td>original</td>\n",
       "    </tr>\n",
       "    <tr>\n",
       "      <th>2</th>\n",
       "      <td>0.0</td>\n",
       "      <td>0.0</td>\n",
       "      <td>90-degrees</td>\n",
       "    </tr>\n",
       "    <tr>\n",
       "      <th>3</th>\n",
       "      <td>-4.0</td>\n",
       "      <td>2.0</td>\n",
       "      <td>90-degrees</td>\n",
       "    </tr>\n",
       "    <tr>\n",
       "      <th>4</th>\n",
       "      <td>0.0</td>\n",
       "      <td>0.0</td>\n",
       "      <td>180-degrees</td>\n",
       "    </tr>\n",
       "    <tr>\n",
       "      <th>5</th>\n",
       "      <td>-2.0</td>\n",
       "      <td>-4.0</td>\n",
       "      <td>180-degrees</td>\n",
       "    </tr>\n",
       "    <tr>\n",
       "      <th>6</th>\n",
       "      <td>0.0</td>\n",
       "      <td>0.0</td>\n",
       "      <td>270-degrees</td>\n",
       "    </tr>\n",
       "    <tr>\n",
       "      <th>7</th>\n",
       "      <td>4.0</td>\n",
       "      <td>-2.0</td>\n",
       "      <td>270-degrees</td>\n",
       "    </tr>\n",
       "  </tbody>\n",
       "</table>\n",
       "</div>"
      ],
      "text/plain": [
       "   dim-1  dim-2     rotation\n",
       "0    0.0    0.0     original\n",
       "1    2.0    4.0     original\n",
       "2    0.0    0.0   90-degrees\n",
       "3   -4.0    2.0   90-degrees\n",
       "4    0.0    0.0  180-degrees\n",
       "5   -2.0   -4.0  180-degrees\n",
       "6    0.0    0.0  270-degrees\n",
       "7    4.0   -2.0  270-degrees"
      ]
     },
     "execution_count": 90,
     "metadata": {},
     "output_type": "execute_result"
    }
   ],
   "source": [
    "df"
   ]
  },
  {
   "cell_type": "code",
   "execution_count": 91,
   "metadata": {},
   "outputs": [
    {
     "data": {
      "text/html": [
       "\n",
       "<div id=\"altair-viz-952305492b47418fbc43d6afd793c9c9\"></div>\n",
       "<script type=\"text/javascript\">\n",
       "  (function(spec, embedOpt){\n",
       "    let outputDiv = document.currentScript.previousElementSibling;\n",
       "    if (outputDiv.id !== \"altair-viz-952305492b47418fbc43d6afd793c9c9\") {\n",
       "      outputDiv = document.getElementById(\"altair-viz-952305492b47418fbc43d6afd793c9c9\");\n",
       "    }\n",
       "    const paths = {\n",
       "      \"vega\": \"https://cdn.jsdelivr.net/npm//vega@5?noext\",\n",
       "      \"vega-lib\": \"https://cdn.jsdelivr.net/npm//vega-lib?noext\",\n",
       "      \"vega-lite\": \"https://cdn.jsdelivr.net/npm//vega-lite@4.8.1?noext\",\n",
       "      \"vega-embed\": \"https://cdn.jsdelivr.net/npm//vega-embed@6?noext\",\n",
       "    };\n",
       "\n",
       "    function loadScript(lib) {\n",
       "      return new Promise(function(resolve, reject) {\n",
       "        var s = document.createElement('script');\n",
       "        s.src = paths[lib];\n",
       "        s.async = true;\n",
       "        s.onload = () => resolve(paths[lib]);\n",
       "        s.onerror = () => reject(`Error loading script: ${paths[lib]}`);\n",
       "        document.getElementsByTagName(\"head\")[0].appendChild(s);\n",
       "      });\n",
       "    }\n",
       "\n",
       "    function showError(err) {\n",
       "      outputDiv.innerHTML = `<div class=\"error\" style=\"color:red;\">${err}</div>`;\n",
       "      throw err;\n",
       "    }\n",
       "\n",
       "    function displayChart(vegaEmbed) {\n",
       "      vegaEmbed(outputDiv, spec, embedOpt)\n",
       "        .catch(err => showError(`Javascript Error: ${err.message}<br>This usually means there's a typo in your chart specification. See the javascript console for the full traceback.`));\n",
       "    }\n",
       "\n",
       "    if(typeof define === \"function\" && define.amd) {\n",
       "      requirejs.config({paths});\n",
       "      require([\"vega-embed\"], displayChart, err => showError(`Error loading script: ${err.message}`));\n",
       "    } else if (typeof vegaEmbed === \"function\") {\n",
       "      displayChart(vegaEmbed);\n",
       "    } else {\n",
       "      loadScript(\"vega\")\n",
       "        .then(() => loadScript(\"vega-lite\"))\n",
       "        .then(() => loadScript(\"vega-embed\"))\n",
       "        .catch(showError)\n",
       "        .then(() => displayChart(vegaEmbed));\n",
       "    }\n",
       "  })({\"usermeta\": {\"embedOptions\": {\"theme\": \"dark\"}}, \"config\": {\"view\": {\"continuousWidth\": 400, \"continuousHeight\": 300}}, \"layer\": [{\"mark\": {\"type\": \"line\", \"color\": \"white\"}, \"encoding\": {\"x\": {\"type\": \"quantitative\", \"field\": \"horizontal\"}, \"y\": {\"type\": \"quantitative\", \"field\": \"vertical\"}}}, {\"mark\": {\"type\": \"line\", \"color\": \"white\"}, \"encoding\": {\"x\": {\"type\": \"quantitative\", \"field\": \"vertical\"}, \"y\": {\"type\": \"quantitative\", \"field\": \"horizontal\"}}}, {\"data\": {\"name\": \"data-fdd0ac9e41bb6cb891458e6886636a2f\"}, \"mark\": \"line\", \"encoding\": {\"color\": {\"type\": \"nominal\", \"field\": \"rotation\"}, \"x\": {\"type\": \"quantitative\", \"axis\": {\"title\": \"horizontal-axis\"}, \"field\": \"dim-1\"}, \"y\": {\"type\": \"quantitative\", \"axis\": {\"title\": \"vertical-axis\"}, \"field\": \"dim-2\"}}}], \"data\": {\"name\": \"data-dc621955550350bfc1b0624dd9983169\"}, \"$schema\": \"https://vega.github.io/schema/vega-lite/v4.8.1.json\", \"datasets\": {\"data-dc621955550350bfc1b0624dd9983169\": [{\"horizontal\": -5.0, \"vertical\": 0.0}, {\"horizontal\": 5.0, \"vertical\": 0.0}], \"data-fdd0ac9e41bb6cb891458e6886636a2f\": [{\"dim-1\": 0.0, \"dim-2\": 0.0, \"rotation\": \"original\"}, {\"dim-1\": 2.0, \"dim-2\": 4.0, \"rotation\": \"original\"}, {\"dim-1\": 0.0, \"dim-2\": 0.0, \"rotation\": \"90-degrees\"}, {\"dim-1\": -4.0, \"dim-2\": 2.0, \"rotation\": \"90-degrees\"}, {\"dim-1\": 0.0, \"dim-2\": 0.0, \"rotation\": \"180-degrees\"}, {\"dim-1\": -2.0, \"dim-2\": -4.0, \"rotation\": \"180-degrees\"}, {\"dim-1\": 0.0, \"dim-2\": 0.0, \"rotation\": \"270-degrees\"}, {\"dim-1\": 4.0, \"dim-2\": -2.0, \"rotation\": \"270-degrees\"}]}}, {\"mode\": \"vega-lite\"});\n",
       "</script>"
      ],
      "text/plain": [
       "alt.LayerChart(...)"
      ]
     },
     "execution_count": 91,
     "metadata": {},
     "output_type": "execute_result"
    }
   ],
   "source": [
    "chart = alt.Chart(df).mark_line().encode(\n",
    "    x=alt.X('dim-1', axis=alt.Axis(title='horizontal-axis')),\n",
    "    y=alt.Y('dim-2', axis=alt.Axis(title='vertical-axis')),\n",
    "    color='rotation')\n",
    "\n",
    "base_coor(-5.0, 5.0) + chart"
   ]
  },
  {
   "cell_type": "markdown",
   "metadata": {},
   "source": [
    "## Projections"
   ]
  },
  {
   "cell_type": "markdown",
   "metadata": {},
   "source": [
    "**Projections** are a fundamental type of linear (and affine) mappings for machine learning. If you have ever heard concepts like \"embeddings\", \"low-dimensional representation\", or \"dimensionality reduction\", they all are examples of projections. Even linear regression and principal component analysis are exemplars of projections. Thus, projections allow working with high-dimensional spaces (i.e., problems with many features or variables) more efficiently, by projecting such spaces into lower-dimensional spaces. this works because is often the case that a few dimensions contain most of the information to understand the relation between inputs and outputs. Moreover, projections can be represented as *matrices acting on vectors*.\n",
    "\n",
    "Put simply, projections are *mappings from a space onto a subpace*, or from a set of vectors onto a subset of vectors. Additionally, projections are \"idempotent\", this is, the projection has the property to be *equal to its composition with itself*. In other words, when you wrap a projection $\\phi(x) = y$ into itself as $\\phi (\\phi (x))$, the result does not change, i.e., $\\phi (\\phi (x)) = y$. Formally, for a vector space $\\textit{V}$ and a vector subset $\\textit{U} \\subset \\textit{V}$, we define a projection $\\phi$ as:\n",
    "\n",
    "$$\n",
    "\\phi : \\textit{V} \\rightarrow \\textit{U}\n",
    "$$\n",
    "\n",
    "with \n",
    "\n",
    "$$\n",
    "\\phi^2 : \\phi \\circ  \\phi = \\phi\n",
    "$$\n",
    "\n",
    "Here we are concerned with the matrix representation of projections, which receive the special name of **projection matrices**, denoted as $\\textit{P}_\\phi$. By extension, projection matrices are also \"idempotent\":\n",
    "\n",
    "$$\n",
    "\\textit{P}_\\phi^2 = \\textit{P}_\\phi \\circ  \\textit{P}_\\phi = \\textit{P}_\\phi\n",
    "$$"
   ]
  },
  {
   "cell_type": "markdown",
   "metadata": {},
   "source": [
    "### Projections onto lines"
   ]
  },
  {
   "cell_type": "markdown",
   "metadata": {},
   "source": [
    "In Freudian psychoanalysis, *projection* is a defense mechanism of the \"ego\" (i.e., the sense of self), where a person denies the possession of an undesired characteristic while attributing it to someone else, i.e., \"projecting\" what we don't like of us onto others. \n",
    "\n",
    "It turns out, that the concept of projection in mathematics is not that different from the Freudian one. Just make the following analogy: imagine you and foe of you are represented as vectors in a 2-dimensional cartesian plane, as $\\textit{x}$ and $\\textit{y}$ respectively. The way on which you would project yourself onto your foe is by tracing a perpendicular line ($\\textit{z}$) from you onto him. Why perpendicular? Because this is the shortest distance between you and him, hence, the most efficient way to project yourself onto him. Now, the projection would be \"how much\" of yourself was \"splattered\" onto him, which is represented by the segment $\\textit{p}$ from the origin until the point where the perpendicular line touched your foe. \n",
    "\n",
    "Now, recall that lines crossing the origin form subspaces, hence vector $\\textbf{y}$ is a subspace, and that perpendicular lines form $90^{\\circ}$ angles, hence the **projection is orthogonal**. More formally, we can define the projection of $\\textbf{x} \\in \\mathbb{R}^2$ onto subspace $\\textit{U} \\in \\mathbb{R}^2$ formed by $\\textbf{y}$ as:\n",
    "\n",
    "$$\n",
    "\\phi_{\\textit{U}}(\\textbf{x}) \\in \\textit{U}\n",
    "$$\n",
    "\n",
    "Where $\\phi_{\\textit{U}}(\\textbf{x})$ must be the minimal distance between $\\textbf{x}$ and $\\textbf{y}$ (i.e., $\\textbf{x}$ and $\\textit{U}$), where distance is:\n",
    "\n",
    "$$\n",
    "\\Vert \\textbf{x} - \\phi_{\\textit{U}}(\\textbf{x}) \\Vert\n",
    "$$\n",
    "\n",
    "Further, the resulting projection $\\phi_{\\textit{U}}(\\textbf{x})$ must lie in the span of $\\textit{U}$. Therefore, we can conclude that $\\phi_{\\textit{U}}(\\textbf{x}) = \\alpha \\textbf{y}$, where alpha is a scalar in $\\mathbb{R}$.\n",
    "\n",
    "The formula to find the orthogonal projection (I'm skipping the derivation on purpose) $\\phi_{\\textit{U}}(\\textbf{x})$ is:\n",
    "\n",
    "$$\n",
    "\\phi_{\\textit{U}}(\\textbf{x}) = \\alpha \\textbf{y} = \n",
    "\\frac{\\langle \\textbf{x,y} \\rangle}{\\Vert \\textbf{y} \\Vert ^2} \\textbf{y} = \n",
    "\\frac{\\textbf{y}^T\\cdot \\textbf{x}}{\\Vert \\textbf{y} \\Vert ^2} \\textbf{y}\n",
    "$$\n",
    "\n",
    "In words: we take the dot product between $\\textbf{x}$ and $\\textbf{y}$, divide by the norm of $\\textbf{y}$, and multiply by $\\textbf{y}$. In this case, $\\textbf{y}$ is also known as a basis vector, so we can say that $\\textbf{x}$ is projected onto the basis $\\textbf{y}$.\n",
    "\n",
    "Now, we want to express projections as matrices, i.e., as the matrix vector product $\\textit{P}_\\phi \\textbf{x}$. For this, recall that matrix-scalar multiplication is *commutative*,  hence we can perform a little of algeabric manipulation to find:\n",
    "\n",
    "$$\n",
    "\\phi_{\\textit{U}}(\\textbf{x}) = \n",
    "\\textbf{y} \\alpha = \\textbf{y} \\frac{\\textbf{y}^T\\cdot \\textbf{x}}{\\Vert \\textbf{y} \\Vert ^2} =\n",
    "\\frac{\\textbf{y} \\cdot \\textbf{y}^T}{\\Vert \\textbf{y} \\Vert ^2} \\textbf{x}\n",
    "$$\n",
    "\n",
    "In this form, we can indeed express the projection as a matrix-vector multiplication, because\n",
    "$\\textbf{y} \\cdot \\textbf{y}^T$ results in a symmetrix matrix, and $\\Vert \\textbf{y} \\Vert ^2$ is a scalar, which means that it can be expressed as a matrix:\n",
    "\n",
    "$$\n",
    "\\textit{P}_\\phi =  \\frac{\\textbf{y} \\cdot \\textbf{y}^T}{\\Vert \\textbf{y} \\Vert ^2}\n",
    "$$\n",
    "\n",
    "In sum, the matrix $\\textit{P}_\\phi$ will project any vector onto $\\textbf{y}$.\n",
    "\n",
    "Let's use `NumPy` to find the projection $\\textit{P}_\\phi$ from $\\textbf{x}$ onto a basis vector $\\textbf{y}$. "
   ]
  },
  {
   "cell_type": "code",
   "execution_count": 92,
   "metadata": {},
   "outputs": [],
   "source": [
    "# base vector\n",
    "y = np.array([[3],\n",
    "              [2]])\n",
    "\n",
    "x = np.array([[1],\n",
    "              [3]])\n",
    "\n",
    "P = (y @ y.T)/(y.T @ y)"
   ]
  },
  {
   "cell_type": "code",
   "execution_count": 93,
   "metadata": {},
   "outputs": [
    {
     "name": "stdout",
     "output_type": "stream",
     "text": [
      "Projection matrix for y:\n",
      "[[0.69230769 0.46153846]\n",
      " [0.46153846 0.30769231]]\n"
     ]
    }
   ],
   "source": [
    "print(f'Projection matrix for y:\\n{P}')"
   ]
  },
  {
   "cell_type": "code",
   "execution_count": 94,
   "metadata": {},
   "outputs": [],
   "source": [
    "z = P @ x"
   ]
  },
  {
   "cell_type": "code",
   "execution_count": 95,
   "metadata": {},
   "outputs": [
    {
     "name": "stdout",
     "output_type": "stream",
     "text": [
      "Projection from x onto y:\n",
      "[[2.07692308]\n",
      " [1.38461538]]\n"
     ]
    }
   ],
   "source": [
    "print(f'Projection from x onto y:\\n{z}')"
   ]
  },
  {
   "cell_type": "markdown",
   "metadata": {},
   "source": [
    "Let's plot the vectors to make things clearer"
   ]
  },
  {
   "cell_type": "code",
   "execution_count": 96,
   "metadata": {},
   "outputs": [],
   "source": [
    "# origin coordinate space\n",
    "o = np.array([[0],\n",
    "              [0]])\n",
    "\n",
    "v = np.column_stack((o, x, o, y, o, z, x, z))"
   ]
  },
  {
   "cell_type": "code",
   "execution_count": 97,
   "metadata": {},
   "outputs": [],
   "source": [
    "df = pd.DataFrame({'dim-1': v[0], 'dim-2':v[1],\n",
    "                   'vector': ['x-vector', 'x-vector',\n",
    "                              'y-base-vector', 'y-base-vector',\n",
    "                              'z-projection', 'z-projection',\n",
    "                              'orthogonal-vector', 'orthogonal-vector'],\n",
    "                  'size-line': [2, 2, 2, 2, 4, 4, 2, 2]})"
   ]
  },
  {
   "cell_type": "code",
   "execution_count": 98,
   "metadata": {},
   "outputs": [
    {
     "data": {
      "text/html": [
       "<div>\n",
       "<style scoped>\n",
       "    .dataframe tbody tr th:only-of-type {\n",
       "        vertical-align: middle;\n",
       "    }\n",
       "\n",
       "    .dataframe tbody tr th {\n",
       "        vertical-align: top;\n",
       "    }\n",
       "\n",
       "    .dataframe thead th {\n",
       "        text-align: right;\n",
       "    }\n",
       "</style>\n",
       "<table border=\"1\" class=\"dataframe\">\n",
       "  <thead>\n",
       "    <tr style=\"text-align: right;\">\n",
       "      <th></th>\n",
       "      <th>dim-1</th>\n",
       "      <th>dim-2</th>\n",
       "      <th>vector</th>\n",
       "      <th>size-line</th>\n",
       "    </tr>\n",
       "  </thead>\n",
       "  <tbody>\n",
       "    <tr>\n",
       "      <th>0</th>\n",
       "      <td>0.000000</td>\n",
       "      <td>0.000000</td>\n",
       "      <td>x-vector</td>\n",
       "      <td>2</td>\n",
       "    </tr>\n",
       "    <tr>\n",
       "      <th>1</th>\n",
       "      <td>1.000000</td>\n",
       "      <td>3.000000</td>\n",
       "      <td>x-vector</td>\n",
       "      <td>2</td>\n",
       "    </tr>\n",
       "    <tr>\n",
       "      <th>2</th>\n",
       "      <td>0.000000</td>\n",
       "      <td>0.000000</td>\n",
       "      <td>y-base-vector</td>\n",
       "      <td>2</td>\n",
       "    </tr>\n",
       "    <tr>\n",
       "      <th>3</th>\n",
       "      <td>3.000000</td>\n",
       "      <td>2.000000</td>\n",
       "      <td>y-base-vector</td>\n",
       "      <td>2</td>\n",
       "    </tr>\n",
       "    <tr>\n",
       "      <th>4</th>\n",
       "      <td>0.000000</td>\n",
       "      <td>0.000000</td>\n",
       "      <td>z-projection</td>\n",
       "      <td>4</td>\n",
       "    </tr>\n",
       "    <tr>\n",
       "      <th>5</th>\n",
       "      <td>2.076923</td>\n",
       "      <td>1.384615</td>\n",
       "      <td>z-projection</td>\n",
       "      <td>4</td>\n",
       "    </tr>\n",
       "    <tr>\n",
       "      <th>6</th>\n",
       "      <td>1.000000</td>\n",
       "      <td>3.000000</td>\n",
       "      <td>orthogonal-vector</td>\n",
       "      <td>2</td>\n",
       "    </tr>\n",
       "    <tr>\n",
       "      <th>7</th>\n",
       "      <td>2.076923</td>\n",
       "      <td>1.384615</td>\n",
       "      <td>orthogonal-vector</td>\n",
       "      <td>2</td>\n",
       "    </tr>\n",
       "  </tbody>\n",
       "</table>\n",
       "</div>"
      ],
      "text/plain": [
       "      dim-1     dim-2             vector  size-line\n",
       "0  0.000000  0.000000           x-vector          2\n",
       "1  1.000000  3.000000           x-vector          2\n",
       "2  0.000000  0.000000      y-base-vector          2\n",
       "3  3.000000  2.000000      y-base-vector          2\n",
       "4  0.000000  0.000000       z-projection          4\n",
       "5  2.076923  1.384615       z-projection          4\n",
       "6  1.000000  3.000000  orthogonal-vector          2\n",
       "7  2.076923  1.384615  orthogonal-vector          2"
      ]
     },
     "execution_count": 98,
     "metadata": {},
     "output_type": "execute_result"
    }
   ],
   "source": [
    "df"
   ]
  },
  {
   "cell_type": "code",
   "execution_count": 99,
   "metadata": {},
   "outputs": [
    {
     "data": {
      "text/html": [
       "\n",
       "<div id=\"altair-viz-e56c55480c27471785767038096f1c34\"></div>\n",
       "<script type=\"text/javascript\">\n",
       "  (function(spec, embedOpt){\n",
       "    let outputDiv = document.currentScript.previousElementSibling;\n",
       "    if (outputDiv.id !== \"altair-viz-e56c55480c27471785767038096f1c34\") {\n",
       "      outputDiv = document.getElementById(\"altair-viz-e56c55480c27471785767038096f1c34\");\n",
       "    }\n",
       "    const paths = {\n",
       "      \"vega\": \"https://cdn.jsdelivr.net/npm//vega@5?noext\",\n",
       "      \"vega-lib\": \"https://cdn.jsdelivr.net/npm//vega-lib?noext\",\n",
       "      \"vega-lite\": \"https://cdn.jsdelivr.net/npm//vega-lite@4.8.1?noext\",\n",
       "      \"vega-embed\": \"https://cdn.jsdelivr.net/npm//vega-embed@6?noext\",\n",
       "    };\n",
       "\n",
       "    function loadScript(lib) {\n",
       "      return new Promise(function(resolve, reject) {\n",
       "        var s = document.createElement('script');\n",
       "        s.src = paths[lib];\n",
       "        s.async = true;\n",
       "        s.onload = () => resolve(paths[lib]);\n",
       "        s.onerror = () => reject(`Error loading script: ${paths[lib]}`);\n",
       "        document.getElementsByTagName(\"head\")[0].appendChild(s);\n",
       "      });\n",
       "    }\n",
       "\n",
       "    function showError(err) {\n",
       "      outputDiv.innerHTML = `<div class=\"error\" style=\"color:red;\">${err}</div>`;\n",
       "      throw err;\n",
       "    }\n",
       "\n",
       "    function displayChart(vegaEmbed) {\n",
       "      vegaEmbed(outputDiv, spec, embedOpt)\n",
       "        .catch(err => showError(`Javascript Error: ${err.message}<br>This usually means there's a typo in your chart specification. See the javascript console for the full traceback.`));\n",
       "    }\n",
       "\n",
       "    if(typeof define === \"function\" && define.amd) {\n",
       "      requirejs.config({paths});\n",
       "      require([\"vega-embed\"], displayChart, err => showError(`Error loading script: ${err.message}`));\n",
       "    } else if (typeof vegaEmbed === \"function\") {\n",
       "      displayChart(vegaEmbed);\n",
       "    } else {\n",
       "      loadScript(\"vega\")\n",
       "        .then(() => loadScript(\"vega-lite\"))\n",
       "        .then(() => loadScript(\"vega-embed\"))\n",
       "        .catch(showError)\n",
       "        .then(() => displayChart(vegaEmbed));\n",
       "    }\n",
       "  })({\"usermeta\": {\"embedOptions\": {\"theme\": \"dark\"}}, \"config\": {\"view\": {\"continuousWidth\": 400, \"continuousHeight\": 300}}, \"layer\": [{\"mark\": {\"type\": \"line\", \"color\": \"white\"}, \"encoding\": {\"x\": {\"type\": \"quantitative\", \"field\": \"horizontal\"}, \"y\": {\"type\": \"quantitative\", \"field\": \"vertical\"}}}, {\"mark\": {\"type\": \"line\", \"color\": \"white\"}, \"encoding\": {\"x\": {\"type\": \"quantitative\", \"field\": \"vertical\"}, \"y\": {\"type\": \"quantitative\", \"field\": \"horizontal\"}}}, {\"data\": {\"name\": \"data-fae3a4238031b3bda30da25b0bfbb236\"}, \"mark\": \"line\", \"encoding\": {\"color\": {\"type\": \"nominal\", \"field\": \"vector\"}, \"size\": {\"type\": \"quantitative\", \"field\": \"size-line\"}, \"strokeDash\": {\"type\": \"nominal\", \"field\": \"vector\"}, \"x\": {\"type\": \"quantitative\", \"axis\": {\"title\": \"horizontal-axis\"}, \"field\": \"dim-1\"}, \"y\": {\"type\": \"quantitative\", \"axis\": {\"title\": \"vertical-axis\"}, \"field\": \"dim-2\"}}}], \"data\": {\"name\": \"data-e28b18115621143603ed81a2a2f08951\"}, \"$schema\": \"https://vega.github.io/schema/vega-lite/v4.8.1.json\", \"datasets\": {\"data-e28b18115621143603ed81a2a2f08951\": [{\"horizontal\": -1.0, \"vertical\": 0.0}, {\"horizontal\": 4.0, \"vertical\": 0.0}], \"data-fae3a4238031b3bda30da25b0bfbb236\": [{\"dim-1\": 0.0, \"dim-2\": 0.0, \"vector\": \"x-vector\", \"size-line\": 2}, {\"dim-1\": 1.0, \"dim-2\": 3.0, \"vector\": \"x-vector\", \"size-line\": 2}, {\"dim-1\": 0.0, \"dim-2\": 0.0, \"vector\": \"y-base-vector\", \"size-line\": 2}, {\"dim-1\": 3.0, \"dim-2\": 2.0, \"vector\": \"y-base-vector\", \"size-line\": 2}, {\"dim-1\": 0.0, \"dim-2\": 0.0, \"vector\": \"z-projection\", \"size-line\": 4}, {\"dim-1\": 2.0769230769230766, \"dim-2\": 1.3846153846153846, \"vector\": \"z-projection\", \"size-line\": 4}, {\"dim-1\": 1.0, \"dim-2\": 3.0, \"vector\": \"orthogonal-vector\", \"size-line\": 2}, {\"dim-1\": 2.0769230769230766, \"dim-2\": 1.3846153846153846, \"vector\": \"orthogonal-vector\", \"size-line\": 2}]}}, {\"mode\": \"vega-lite\"});\n",
       "</script>"
      ],
      "text/plain": [
       "alt.LayerChart(...)"
      ]
     },
     "execution_count": 99,
     "metadata": {},
     "output_type": "execute_result"
    }
   ],
   "source": [
    "chart = alt.Chart(df).mark_line().encode(\n",
    "    x=alt.X('dim-1', axis=alt.Axis(title='horizontal-axis')),\n",
    "    y=alt.Y('dim-2', axis=alt.Axis(title='vertical-axis')),\n",
    "    color='vector', \n",
    "    strokeDash='vector',\n",
    "    size = 'size-line')\n",
    "\n",
    "base_coor(-1.0, 4.0) + chart"
   ]
  },
  {
   "cell_type": "markdown",
   "metadata": {},
   "source": [
    "### Projections onto general subspaces"
   ]
  },
  {
   "cell_type": "markdown",
   "metadata": {},
   "source": [
    "From the previous section, we learned that the projection matrix for the one-dimensional project of $\\textbf{x}$ onto $\\textit{U}$ (i.e. $\\textbf{y}$)  $\\phi_{\\textit{U}}(\\textbf{x})$ can be expressed as:\n",
    "\n",
    "$$\n",
    "\\textit{P}_\\phi = \\alpha \\textbf{y} = \\frac{\\textbf{y} \\cdot \\textbf{y}^T}{\\Vert \\textbf{y} \\Vert ^2}\n",
    "$$\n",
    "\n",
    "Which implies that we the projection is entirely defined in terms of the basis subspace. Now, we are interested in projections for the general case, this is, for **set of basis vectors $\\textbf{y}_1, \\cdots, \\textbf{y}_m$**. By extension, we can define such projection as:\n",
    "\n",
    "$$\n",
    "\\phi_{\\textit{U}}(\\textbf{x}) = \\sum_{i=1}^m \\textbf{y}_i \\alpha = \\textit{Y} \\alpha\n",
    "$$\n",
    "\n",
    "Where $\\textit{Y}$ is the matrix of basis vectors.\n",
    "\n",
    "Nothing fancy going on here: we just need to take the sum for the product between each basis vector and $\\alpha$. As with the one-dimensional case, we want the projection to be the minimal distance from $\\textbf{x}$ onto $\\textit{Y}$, which we know implies orthogonal lines (or hyperplanes) connecting $\\textbf{x}$ with $\\textit{Y}$. The condition for orthogonality (again, I'm skipping the derivation on purpose) here equals:\n",
    "\n",
    "$$\n",
    "\\textit{Y}^T (\\textbf{x} - \\textit{Y} \\alpha) = 0\n",
    "$$\n",
    "\n",
    "Now, recall what we really want is to find $\\alpha$ (we know $\\textit{Y}$ already). Therefore, with a bit of algeabric manipulation we can clear the expression above as:\n",
    "\n",
    "$$\n",
    "\\alpha = (\\textit{Y}^T \\textit{Y})^{-1} \\textit{Y}^T  \\textbf{x}\n",
    "$$\n",
    "\n",
    "Such expression is known as the *pseudo-inverse* or *Moore–Penrose inverse* of $\\textit{Y}$. To work, it requires $\\textit{Y}$ to be full rank (i.e., independent columns, which should be the case for basis). It can be used to solve linear regression problems, although you'll probably find the notation flipped as: $\\alpha = (\\textit{X}^T \\textit{X})^{-1} \\textit{X}^T  \\textbf{y}$ (my bad choice of notation!). \n",
    "\n",
    "Going back to our Freudian projection analogy, this is like a group of people projecting themselves onto someone else, with that person representing a rough approximation of the character of the group."
   ]
  },
  {
   "cell_type": "markdown",
   "metadata": {},
   "source": [
    "### Projections as approximate solutions to systems of linear equations"
   ]
  },
  {
   "cell_type": "markdown",
   "metadata": {},
   "source": [
    "Machine learning prediction problems usually require to find a solution to systems of linear equations of the form:\n",
    "\n",
    "$$\n",
    "\\textit{A}\\textbf{x} = \\textbf{y}\n",
    "$$\n",
    "\n",
    "In other words, to represent $\\textbf{y}$ as linear combinations of the columns of $\\textit{A}$. Unfortunately, in most cases $\\textbf{y}$ is not in the column space of $\\textit{A}$, i.e., *there is no way to find a linear combination of its columns to obtain the target* $\\textbf{y}$. In such cases, we can use orthogonal projections to find **approximate solutions** to the system. We usually denote approximated solutions for systems of linear equations as $\\hat{\\textbf{y}}$. Now, $\\hat{\\textbf{y}}$ will be in the span of the columns of $\\textit{A}$ and will be the result of projecting $\\textbf{y}$ onto the subspace of the columns of $\\textit{A}$. That solution will be the best (closest) approximation of $\\textbf{y}$ given the span of the columns of $\\textit{A}$. In sum: **the approximated solution $\\hat{\\textbf{y}}$ is the orthogonal projection of $\\textbf{y}$ onto $\\textit{A}$**."
   ]
  },
  {
   "cell_type": "markdown",
   "metadata": {},
   "source": [
    "# Matrix decompositions"
   ]
  },
  {
   "cell_type": "markdown",
   "metadata": {},
   "source": [
    "In the Japanese manga/anime series *[Fullmetal Alchemist](https://en.wikipedia.org/wiki/Fullmetal_Alchemist)*, [Alchemy](https://fma.fandom.com/wiki/Alchemy) is understood as the metaphysical science of altering objects by manipulating its natural components, act known as *Transmutation* (Rensei). There are three steps to Transmutation: (1) *Comprehension*, to understand the atomic structure and properties of the object, (2) *Deconstruction*, to break down the structure of the object into its fundamental elements (3) *Reconstruction*, to use the natural flow of energy to reform the object into a new shape. \n",
    "\n",
    "Metaphorically speaking, we can understand linear combinations and matrix decompositions in analogy to *Transmutation*. **Matrix decomposition** is essentially about to break down a matrix into its basic linear elements (deconstruction), which allows to better understand its fundamental structure (comprehension). Linear combinations are essentially about taking the fundamental linear elements of matrix (i.e., set of vectors) to generate a new object. \n",
    "\n",
    "Matrix decomposition is also known as **matrix factorization**, in reference to the fact that matrices can be break down into simpler matrices, more on less in the same way that Prime factorization breaks down large numbers into simpler primes (e.g., $112 = 2 \\times 2 \\times 2 \\times 2 \\times 7$).\n",
    "\n",
    "There are several important applications of matrix factorization in machine learning: clustering, recommender systems, dimensionality reduction, topic modeling, and others. In what follows I'll conver a selection of several basic and common matrix decomposition techniques."
   ]
  },
  {
   "cell_type": "markdown",
   "metadata": {},
   "source": [
    "## LU decomposition"
   ]
  },
  {
   "cell_type": "markdown",
   "metadata": {},
   "source": [
    "There are multiple ways to decompose or factorize matrices. One of the simplest ways is by decomposition a matrix into an **lower triangular matrix** and a **upper triangular matrix**, the so-called **LU or Lower-Upper decomposition**.\n",
    "\n",
    "LU decomposition is from great interest to us, since it's one of the methods computers use to solve linear algebra problems. In particular, LU decomposition is way to represent **Gaussian Elimination in numerical linear algebra**. LU decomposition is flexible as it can be obtained from noninvertible or singular matrices, and from non-square matrices. \n",
    "\n",
    "The general expression for LU decomposition is:\n",
    "\n",
    "$$\n",
    "\\textit{A} = \\textit{L}\\textit{U}\n",
    "$$\n",
    "\n",
    "Meaning that $\\textit{A}$ can be represented as the product of the lower triangular matrix $\\textit{L}$ and upper triangular matrix $\\textit{U}$. In the next sections we explain the mechanics of the LU decomposition."
   ]
  },
  {
   "cell_type": "markdown",
   "metadata": {},
   "source": [
    "### Elementary matrices"
   ]
  },
  {
   "cell_type": "markdown",
   "metadata": {},
   "source": [
    "Our first step to approach LU decomposition is to introduce **elementary matrices**. When considering matrices as functions or mappings, we can associate special meaning to a couple of basic or \"elementary\" operations performed by matrices. Our starting point is the **identity matrix**, for instance: \n",
    "\n",
    "$$ \\textit{I} =\n",
    "\\begin{bmatrix}\n",
    "1 & 0 & 0 \\\\\n",
    "0 & 1 & 0 \\\\\n",
    "0 & 0 & 1\n",
    "\\end{bmatrix}\n",
    "$$\n",
    "\n",
    "As we saw before, the identity matrix does not change the values of another matrix under multiplication:\n",
    "\n",
    "$$\n",
    "\\textit{A} \\textit{I} = \\textit{I} \\textit{A} = \\textit{A}  \n",
    "$$\n",
    "\n",
    "Because it is essentially saying: *give me $1$ of each column of the matrix*, i.e., return the original matrix. Now, consider the following matrix:\n",
    "\n",
    "$$ \\textit{I}_2 =\n",
    "\\begin{bmatrix}\n",
    "2 & 0 & 0 \\\\\n",
    "0 & 1 & 0 \\\\\n",
    "0 & 0 & 1\n",
    "\\end{bmatrix}\n",
    "$$\n",
    "\n",
    "The only thing we did to the $\\textit{I}$ to obtain $\\textit{I}_2$ was to multiply the first row by $2$. This can be considered an elementary operation. Here is another example: \n",
    "\n",
    "$$ \\textit{I}_3 =  \n",
    "\\begin{bmatrix}\n",
    "1 & 0 & 0 \\\\\n",
    "2 & 1 & 0 \\\\\n",
    "0 & 0 & 1\n",
    "\\end{bmatrix}\n",
    "$$\n",
    "\n",
    "Clearly we can't obtain $\\textit{I}_3$ by multiplication only. From a column perspective, what we did was to add $2$ times the second column to the first column. Alternatively, from a row perspective, we can say we added $2$ times the first row to the second row. \n",
    "\n",
    "One last example:\n",
    "\n",
    "$$ \\textit{I}_4 = \n",
    "\\begin{bmatrix}\n",
    "1 & 0 & 0 \\\\\n",
    "0 & 1 & 0 \\\\\n",
    "0 & -3 & 1\n",
    "\\end{bmatrix}\n",
    "$$\n",
    "\n",
    "From the column perspective, we added $-3$ times the third column to the second column. From the row perspective, we added $-3$ times the second row to the third row. \n",
    "\n",
    "You can sprobably see the pattern by now: by performing simple or \"elementary\" column or row operations, this is, *multiplication* and *addition*, we can obtain any lower triangular matrix. This type of matrices are what we call **elementary matrices**. In a way, we can say elementary matrices \"encode\" fundamental column and row operations. To see this, consider the following generic matrix: \n",
    "\n",
    "$$ \\textit{A} =\n",
    "\\begin{bmatrix}\n",
    "a & b & c \\\\\n",
    "d & e & f \\\\\n",
    "g & h & i\n",
    "\\end{bmatrix}\n",
    "$$\n",
    "\n",
    "Let's what happens when we multiply $\\textit{A}\\textit{I}_3$:\n",
    "\n",
    "$$ \\textit{A}\\textit{I}_3 =\n",
    "\\begin{bmatrix}\n",
    "a & b & c \\\\\n",
    "d & e & f \\\\\n",
    "g & h & i\n",
    "\\end{bmatrix}\n",
    "\\begin{bmatrix}\n",
    "1 & 0 & 0 \\\\\n",
    "2 & 1 & 0 \\\\\n",
    "0 & 0 & 1\n",
    "\\end{bmatrix} =\n",
    "\\begin{bmatrix}\n",
    "a+2b & b & c \\\\\n",
    "d+2e & e & f \\\\\n",
    "g+2h & h & i\n",
    "\\end{bmatrix}\n",
    "$$\n",
    "\n",
    "The result of $\\textit{A}\\textit{I}_3$ reflects the same elementary operations we performed on $\\textit{I}$ to obtain $\\textit{I}_3$ from the **column perspective**: to add $2$ times the second column to the first one.  \n",
    "\n",
    "Now consider what happens when we multiply from the left: \n",
    "\n",
    "$$\\textit{I}_3 \\textit{A} =\n",
    "\\begin{bmatrix}\n",
    "1 & 0 & 0 \\\\\n",
    "2 & 1 & 0 \\\\\n",
    "0 & 0 & 1\n",
    "\\end{bmatrix}\n",
    "\\begin{bmatrix}\n",
    "a & b & c \\\\\n",
    "d & e & f \\\\\n",
    "g & h & i\n",
    "\\end{bmatrix}\n",
    " =\n",
    "\\begin{bmatrix}\n",
    "a & b & c \\\\\n",
    "d+2a & e+2b & f+2c \\\\\n",
    "g & h & i\n",
    "\\end{bmatrix}\n",
    "$$\n",
    "\n",
    "Now we obtain the same elementary operations we performed on $\\textit{I}$ to obtain $\\textit{I}_3$ from the **row perspective**: to add $2$ times the first row to the second one."
   ]
  },
  {
   "cell_type": "markdown",
   "metadata": {},
   "source": [
    "### The inverse of elementary matrices"
   ]
  },
  {
   "cell_type": "markdown",
   "metadata": {},
   "source": [
    "A nice property of elementary matrices, is that the inverse is simply the opposite operation. For instance, the inverse of $\\textit{I}_2$ is:\n",
    "\n",
    "$$\n",
    "\\begin{bmatrix}\n",
    "\\frac{1}{2} & 0 & 0 \\\\\n",
    "0 & 1 & 0 \\\\\n",
    "0 & 0 & 1\n",
    "\\end{bmatrix}\n",
    "$$\n",
    "\n",
    "This is because instead of multiplying the first row of $\\textit{I}$ by $2$, we divide it by $2$. Similarly, the inverse of $\\textit{I}_3$ is:\n",
    "\n",
    "$$\n",
    "\\begin{bmatrix}\n",
    "1 & 0 & 0 \\\\\n",
    "-2 & 1 & 0 \\\\\n",
    "0 & 0 & 1\n",
    "\\end{bmatrix}\n",
    "$$\n",
    "\n",
    "Again, instead of adding $2$, we add $-2$ (or substract $2$). Finally, the inverse of $\\textit{I}_4$ is:\n",
    "\n",
    "$$  \n",
    "\\begin{bmatrix}\n",
    "1 & 0 & 0 \\\\\n",
    "0 & 1 & 0 \\\\\n",
    "0 & 3 & 1\n",
    "\\end{bmatrix}\n",
    "$$\n",
    "\n",
    "The reason we care about elementary matrices and its inverse, is because it will be fundamental to understand LU decomposition."
   ]
  },
  {
   "cell_type": "markdown",
   "metadata": {},
   "source": [
    "### LU decomposition as Gaussian Elimination"
   ]
  },
  {
   "cell_type": "markdown",
   "metadata": {},
   "source": [
    "Let's briefly recall Gaussian Elimination: it's an robust algorithm to solve systems of linear equations, by sequentially applying three elementary transformations: \n",
    "\n",
    "1. Addition and subtraction of two equations (rows) \n",
    "2. Multiplication of an equation (rows) by a number \n",
    "3. Switching equations (rows)\n",
    "\n",
    "Gaussian Elimination will reduce matrices to its **row echelon form**, which is an upper triangular matrix, with zero rows at the bottom, and zeros below the pivot for each column. \n",
    "\n",
    "It turns out, there is a clever way to organize the steps from Gaussian Elimination: with **elementary matrices**.\n",
    "\n",
    "Consider the following matrix $\\textit{A}$: \n",
    "\n",
    "$$\n",
    "\\begin{bmatrix}\n",
    "1 & 3 & 5  \\\\\n",
    "2 & 2 & -1 \\\\\n",
    "1 & 3 & 2 \n",
    "\\end{bmatrix}\n",
    "$$\n",
    "\n",
    "The first step consist of substracting two times row 1 from row 1. Before, we represented this operation as $R_2 - 2R_1$, and write down the result, which is: \n",
    "\n",
    "$$\n",
    "\\begin{bmatrix}\n",
    "1 & 3 & 5  \\\\\n",
    "0 & -4 & -11 \\\\\n",
    "1 & 3 & 2 \n",
    "\\end{bmatrix}\n",
    "$$\n",
    "\n",
    "Alternatively, as we learned in the previous section, *we can represent row operations as multiplication by elementary matrices*, to obtain the same result. Since we want to substract $2$ times the first row from the second, we need to (1) multiply from the left, and (2) add a $-2$ to the first element of the second row: \n",
    "\n",
    "$$\n",
    "\\begin{bmatrix}\n",
    "1 & 0 & 0 \\\\\n",
    "-2 & 1 & 0 \\\\\n",
    "0 & 0 & 1 \n",
    "\\end{bmatrix}\n",
    "\\begin{bmatrix}\n",
    "1 & 3 & 5 \\\\\n",
    "2 & 2 & -1 \\\\\n",
    "1 & 3 & 2 \n",
    "\\end{bmatrix} = \n",
    "\\begin{bmatrix}\n",
    "1 & 3 & 5  \\\\\n",
    "0 & -4 & -11 \\\\\n",
    "1 & 3 & 2 \n",
    "\\end{bmatrix}\n",
    "$$\n",
    "\n",
    "You don't have to beleive me. Let's confirm this is correct with `NumPy`:"
   ]
  },
  {
   "cell_type": "code",
   "execution_count": 100,
   "metadata": {},
   "outputs": [],
   "source": [
    "A = np.array([[1, 3, 5],\n",
    "              [2, 2, -1],\n",
    "              [1, 3, 2]])\n",
    "\n",
    "l1 = np.array([[1, 0, 0],\n",
    "               [-2, 1, 0],\n",
    "               [0, 0, 1]])"
   ]
  },
  {
   "cell_type": "code",
   "execution_count": 101,
   "metadata": {},
   "outputs": [
    {
     "data": {
      "text/plain": [
       "array([[  1,   3,   5],\n",
       "       [  0,  -4, -11],\n",
       "       [  1,   3,   2]])"
      ]
     },
     "execution_count": 101,
     "metadata": {},
     "output_type": "execute_result"
    }
   ],
   "source": [
    "l1 @ A"
   ]
  },
  {
   "cell_type": "markdown",
   "metadata": {},
   "source": [
    "As you can see, the result is exactly what we obtained before by $R_2 - 2R_1$. But, we are not done. We still need to get rid of the $1$ and $3$ in the third row. For this, we would normally do $R_3 - R_1$ to obtain:\n",
    "\n",
    "$$\n",
    "\\begin{bmatrix}\n",
    "1 & 3 & 5  \\\\\n",
    "0 & -4 & -11 \\\\\n",
    "0 & 0 & -3 \n",
    "\\end{bmatrix}\n",
    "$$\n",
    "\n",
    "Again, we can encode this using elementary matrices as:\n",
    "\n",
    "$$\n",
    "\\begin{bmatrix}\n",
    "1 & 0 & 0 \\\\\n",
    "-2 & 1 & 0 \\\\\n",
    "-1 & 0 & 1 \n",
    "\\end{bmatrix}\n",
    "\\begin{bmatrix}\n",
    "1 & 3 & 5 \\\\\n",
    "2 & 2 & -1 \\\\\n",
    "1 & 3 & 2 \n",
    "\\end{bmatrix} = \n",
    "\\begin{bmatrix}\n",
    "1 & 3 & 5  \\\\\n",
    "0 & -4 & -11 \\\\\n",
    "0 & 0 & -3 \n",
    "\\end{bmatrix}\n",
    "$$\n",
    "\n",
    "Once again, let's confirm this with `NumPy`:"
   ]
  },
  {
   "cell_type": "code",
   "execution_count": 102,
   "metadata": {},
   "outputs": [],
   "source": [
    "A = np.array([[1, 3, 5],\n",
    "              [2, 2, -1],\n",
    "              [1, 3, 2]])\n",
    "\n",
    "l2 = np.array([[1, 0, 0],\n",
    "               [-2, 1, 0],\n",
    "               [-1, 0, 1]])"
   ]
  },
  {
   "cell_type": "code",
   "execution_count": 103,
   "metadata": {},
   "outputs": [
    {
     "data": {
      "text/plain": [
       "array([[  1,   3,   5],\n",
       "       [  0,  -4, -11],\n",
       "       [  0,   0,  -3]])"
      ]
     },
     "execution_count": 103,
     "metadata": {},
     "output_type": "execute_result"
    }
   ],
   "source": [
    "l2 @ A"
   ]
  },
  {
   "cell_type": "markdown",
   "metadata": {},
   "source": [
    "Indeed, the result is correct. At this point, we have reduced $\\textit{A}$ to its **row echelon form**. We will call $\\textit{U}$ to the resulting matrix from $\\textit{l} \\textit{A}$, as it is an *upper triangular matrix*. Hence, we arrived to the identity:\n",
    "\n",
    "$$\n",
    "\\textit{l} \\textit{A} = \\textit{U}\n",
    "$$\n",
    "\n",
    "This is not quite LU decomposition. To get there, we just need to multiply both sides of the equality by the inverse of $\\textit{l}$, that we will call $\\textit{L}$, which yields:\n",
    "\n",
    "$$\n",
    "\\textit{A} = \\textit{L} \\textit{U} \n",
    "$$\n",
    "\n",
    "There you go: we arrived to the LU decomposition expression. As a final note, recall that the inverse of $\\textit{l}$ is:\n",
    "\n",
    "$$\n",
    "\\begin{bmatrix}\n",
    "1 & 0 & 0 \\\\\n",
    "2 & 1 & 0 \\\\\n",
    "1 & 0 & 1 \n",
    "\\end{bmatrix}\n",
    "$$\n",
    "\n",
    "Let's confirm with `NumPy` this works, by multiplying $\\textit{L}$ by $\\textit{U}$:"
   ]
  },
  {
   "cell_type": "code",
   "execution_count": 104,
   "metadata": {},
   "outputs": [],
   "source": [
    "# inverse of l\n",
    "L = np.array([[1, 0, 0],\n",
    "               [2, 1, 0],\n",
    "               [1, 0, 1]])\n",
    "\n",
    "# upper triangular resulting from Gaussian Elimination\n",
    "U = np.array([[1, 3, 5],\n",
    "              [0, -4, -11],\n",
    "              [0, 0, -3]])"
   ]
  },
  {
   "cell_type": "code",
   "execution_count": 105,
   "metadata": {},
   "outputs": [
    {
     "data": {
      "text/plain": [
       "array([[ 1,  3,  5],\n",
       "       [ 2,  2, -1],\n",
       "       [ 1,  3,  2]])"
      ]
     },
     "execution_count": 105,
     "metadata": {},
     "output_type": "execute_result"
    }
   ],
   "source": [
    "L @ U "
   ]
  },
  {
   "cell_type": "markdown",
   "metadata": {},
   "source": [
    "Indeed, we recover $\\textit{A}$ by multiplying $\\textit{L}\\textit{U}$."
   ]
  },
  {
   "cell_type": "markdown",
   "metadata": {},
   "source": [
    "### LU decomposition with pivoting"
   ]
  },
  {
   "cell_type": "markdown",
   "metadata": {},
   "source": [
    "If you recall the three elementary operations allowed in Gaussian Elimination, we had: (1) multiplication, (2) addition, (3) switching. At this point, we haven't seen switching with LU decomposition. It turns out, that LU decomposition does not work when switching or permutations of rows are required to solve a system of linear equations. Further, even when pivoting is not required to solve a system, the numerical stability of Gaussian Elimination when implemented in computers is problematic, and pivoting helps to tackle that issue as well. \n",
    "\n",
    "Let's see a simple example of pivoting. Consider the following matrix $\\textit{A}$:\n",
    "\n",
    "$$\n",
    "\\begin{bmatrix}\n",
    "0 & 1 \\\\\n",
    "1 & 1\n",
    "\\end{bmatrix}\n",
    "$$\n",
    "\n",
    "In this case, we can't get rid of the first $1$ in the second column by substraction. If we do that, we obtain:\n",
    "\n",
    "$$\n",
    "\\begin{bmatrix}\n",
    "0 & 1 \\\\\n",
    "1 & 0\n",
    "\\end{bmatrix}\n",
    "$$\n",
    "\n",
    "Which is the opposite of what we want. A simple way to fix this is by switching rows 1 and 2 as:\n",
    "\n",
    "$$\n",
    "\\begin{bmatrix}\n",
    "1 & 1 \\\\\n",
    "0 & 1\n",
    "\\end{bmatrix}\n",
    "$$\n",
    "\n",
    "And then substracting row 1 from row 2 to obtain: \n",
    "\n",
    "$$\n",
    "\\begin{bmatrix}\n",
    "1 & 0 \\\\\n",
    "0 & 1\n",
    "\\end{bmatrix}\n",
    "$$\n",
    "\n",
    "Bam! Problem fixed. Now, as with multiplication and addition, we can **represent permutations with matrices** as well. In particular, by using **permutation matrices**. For our previous example, we can do:\n",
    "\n",
    "$$\\textit{P}\\textit{A}=\n",
    "\\begin{bmatrix}\n",
    "0 & 1 \\\\\n",
    "1 & 0\n",
    "\\end{bmatrix}\n",
    "\\begin{bmatrix}\n",
    "0 & 1 \\\\\n",
    "1 & 1\n",
    "\\end{bmatrix} =\n",
    "\\begin{bmatrix}\n",
    "1 & 1 \\\\\n",
    "0 & 1\n",
    "\\end{bmatrix}\n",
    "$$\n",
    "\n",
    "Let's confirm this is correct with `NumPy`"
   ]
  },
  {
   "cell_type": "code",
   "execution_count": 106,
   "metadata": {},
   "outputs": [],
   "source": [
    "P = np.array([[0, 1],\n",
    "              [1, 0]])\n",
    "A = np.array([[0, 1],\n",
    "              [1, 1]])"
   ]
  },
  {
   "cell_type": "code",
   "execution_count": 107,
   "metadata": {},
   "outputs": [
    {
     "data": {
      "text/plain": [
       "array([[1, 1],\n",
       "       [0, 1]])"
      ]
     },
     "execution_count": 107,
     "metadata": {},
     "output_type": "execute_result"
    }
   ],
   "source": [
    "P @ A"
   ]
  },
  {
   "cell_type": "markdown",
   "metadata": {},
   "source": [
    "It works. Now we can put all the pieces together and decompose $\\textit{A}$ by using the following expression:\n",
    "\n",
    "$$\n",
    "\\textit{P}\\textit{A} = \\textit{L} \\textit{U}\n",
    "$$\n",
    "\n",
    "This is known as LU decomposition with pivoting. An alternative expression of the same decomposition is:\n",
    "\n",
    "$$\n",
    "\\textit{A} = \\textit{L} \\textit{U} \\textit{P}\n",
    "$$\n",
    "\n",
    "In `Python`, we can use `SciPy` to perform LUP decomposition by using the `linalg.lu` method. Let's decompose a larger matrix to make things more interesting. "
   ]
  },
  {
   "cell_type": "code",
   "execution_count": 108,
   "metadata": {},
   "outputs": [],
   "source": [
    "from scipy.linalg import lu\n",
    "\n",
    "A = np.array([[2, 1, 1, 0],\n",
    "              [4, 3, 3, 1],\n",
    "              [8, 7, 9, 5],\n",
    "              [6, 7, 9, 8]])"
   ]
  },
  {
   "cell_type": "code",
   "execution_count": 109,
   "metadata": {},
   "outputs": [],
   "source": [
    "P, L, U = lu(A)"
   ]
  },
  {
   "cell_type": "code",
   "execution_count": 110,
   "metadata": {},
   "outputs": [
    {
     "name": "stdout",
     "output_type": "stream",
     "text": [
      "Pivot matrix:\n",
      "[[0. 0. 0. 1.]\n",
      " [0. 0. 1. 0.]\n",
      " [1. 0. 0. 0.]\n",
      " [0. 1. 0. 0.]]\n"
     ]
    }
   ],
   "source": [
    "print(f'Pivot matrix:\\n{P}')"
   ]
  },
  {
   "cell_type": "code",
   "execution_count": 111,
   "metadata": {},
   "outputs": [
    {
     "name": "stdout",
     "output_type": "stream",
     "text": [
      "Lower triangular matrix:\n",
      "[[ 1.    0.    0.    0.  ]\n",
      " [ 0.75  1.    0.    0.  ]\n",
      " [ 0.5  -0.29  1.    0.  ]\n",
      " [ 0.25 -0.43  0.33  1.  ]]\n"
     ]
    }
   ],
   "source": [
    "print(f'Lower triangular matrix:\\n{np.round(L, 2)}')"
   ]
  },
  {
   "cell_type": "code",
   "execution_count": 112,
   "metadata": {},
   "outputs": [
    {
     "name": "stdout",
     "output_type": "stream",
     "text": [
      "Upper triangular matrix:\n",
      "[[ 8.    7.    9.    5.  ]\n",
      " [ 0.    1.75  2.25  4.25]\n",
      " [ 0.    0.   -0.86 -0.29]\n",
      " [ 0.    0.    0.    0.67]]\n"
     ]
    }
   ],
   "source": [
    "print(f'Upper triangular matrix:\\n{np.round(U, 2)}')"
   ]
  },
  {
   "cell_type": "markdown",
   "metadata": {},
   "source": [
    "We can confirm the decomposition is correct by multiplying the obtained matrices "
   ]
  },
  {
   "cell_type": "code",
   "execution_count": 113,
   "metadata": {},
   "outputs": [
    {
     "name": "stdout",
     "output_type": "stream",
     "text": [
      "PLU multiplicatin:\n",
      "[[2 1 1 0]\n",
      " [4 3 3 1]\n",
      " [8 7 9 5]\n",
      " [6 7 9 8]]\n"
     ]
    }
   ],
   "source": [
    "A_recover = np.round(P @ L @ U, 1)\n",
    "print(f'PLU multiplicatin:\\n{A_recover.astype(int)}')"
   ]
  },
  {
   "cell_type": "markdown",
   "metadata": {},
   "source": [
    "We recover $\\textit{A}$ prfectly."
   ]
  },
  {
   "cell_type": "markdown",
   "metadata": {},
   "source": [
    "## QR decomposition"
   ]
  },
  {
   "cell_type": "markdown",
   "metadata": {},
   "source": [
    "**QR decomposition** or **QR factorization**, is another very relevant decomposition in the context of numerical linear algebra. As with LU decomposition, It can be used to solve systems of linear equations like least square problems, and to find  eigenvalues of a general matrix. \n",
    "\n",
    "QR decomposition works by decomposing $\\textit{A}$ into an orthogonal matrix $\\textit{Q}$, and a upper traingular matrix $\\textit{R}$ as:\n",
    "\n",
    "$$\n",
    "\\textit{A} = \\textit{Q}\\textit{R}\n",
    "$$\n",
    "\n",
    "Next we will review a few concepts to properly explain QR decomposition."
   ]
  },
  {
   "cell_type": "markdown",
   "metadata": {},
   "source": [
    "### Orthonormal basis"
   ]
  },
  {
   "cell_type": "markdown",
   "metadata": {},
   "source": [
    "In previous sections we learned about *basis* and *orthogonal basis*. Specifically, we said that a set of $n$ linearly independent column vectors with $n$ elements forms a **basis**. We also said that a pair of vectors $\\bf{x}$ and $\\bf{y}$ are **orthogonal** if their inner product is zero, $\\langle x,y \\rangle = 0$ or $\\textbf{x}^T \\textbf{y} = 0$. Consequently, *a set of orthogonal vectors form an orthogonal basis for a matrix $\\textit{A}$ and for the vector space spanned by such matrix*. \n",
    "\n",
    "To go from orthogonal basis vectors to **orthonomal basis vectors**, we just need to divide each vector by its lenght or norm. When we divide a basis vector by its norm we obtain a **unit basis vector**. More formally, a set of vectors $\\textbf{x}_1, \\cdots,\\textbf{x}_n$ is orthonormal if:\n",
    "\n",
    "$$\n",
    "\\textbf{x}_i^T \\textbf{x}_j=\n",
    "\\begin{cases}\n",
    "    0, & \\text{when} & i\\ne j & \\text{orthogonal vectors}\\\\\n",
    "    1, & \\text{when} & i = j & \\text{unit vectors}\n",
    "\\end{cases}\n",
    "$$\n",
    "\n",
    "In words: when we take the inner product of a pair of orthogonal vectors, it results in $0$; when we take the inner product of a vector with itself, it results in $1$. \n",
    "\n",
    "For instance, consider $\\textbf{x}$ and $\\textbf{y}$:\n",
    "\n",
    "$$\n",
    "\\textbf{x} = \n",
    "\\begin{bmatrix}\n",
    "3 \\\\\n",
    "4 \\\\\n",
    "0\n",
    "\\end{bmatrix}\n",
    "\\textbf{y} = \n",
    "\\begin{bmatrix}\n",
    "-4 \\\\\n",
    "3 \\\\\n",
    "2\n",
    "\\end{bmatrix}\n",
    "$$\n",
    "\n",
    "To obtain the normalized version of $\\textbf{x}$ or $\\textbf{y}$, we divide by its Euclidean norm as:\n",
    "\n",
    "$$\n",
    "\\hat{\\textbf{x}} = \\frac{\\textbf{x}}{\\Vert \\textbf{x} \\Vert} \n",
    "$$\n",
    "\n",
    "We add a \"hat\" to the normalized vector to distinguish it from the un-normalized version.\n",
    "\n",
    "Let's try an example with `NumPy`. I'll define vectors $\\textbf{x},\\textbf{y} \\in \\mathbb{R}^3$, compute its Euclidean norm, and then perform element-wise division $\\frac{\\textbf{x}}{\\Vert \\textbf{x} \\Vert}$:"
   ]
  },
  {
   "cell_type": "code",
   "execution_count": 114,
   "metadata": {},
   "outputs": [],
   "source": [
    "x, y = np.array([[3],[4],[0]]), np.array([[-4],[3],[2]])\n",
    "\n",
    "# euclidean norm of x and y\n",
    "x_norm = np.linalg.norm(x, 2)\n",
    "y_norm = np.linalg.norm(y, 2)\n",
    "\n",
    "# normalized x or unit vector\n",
    "x_unit = x * (1/x_norm)  \n",
    "y_unit = y * (1/y_norm)  "
   ]
  },
  {
   "cell_type": "code",
   "execution_count": 115,
   "metadata": {},
   "outputs": [
    {
     "name": "stdout",
     "output_type": "stream",
     "text": [
      "Euclidean norm of x:\n",
      "5.0\n",
      "\n",
      "Euclidean norm of y:\n",
      "5.385164807134504\n",
      "\n",
      "Normalized x:\n",
      "[[0.6]\n",
      " [0.8]\n",
      " [0. ]]\n",
      "\n",
      "Normalized y:\n",
      "[[-0.74278135]\n",
      " [ 0.55708601]\n",
      " [ 0.37139068]]\n"
     ]
    }
   ],
   "source": [
    "print(f'Euclidean norm of x:\\n{x_norm}\\n')\n",
    "print(f'Euclidean norm of y:\\n{y_norm}\\n')\n",
    "\n",
    "print(f'Normalized x:\\n{x_unit}\\n')\n",
    "print(f'Normalized y:\\n{y_unit}')"
   ]
  },
  {
   "cell_type": "markdown",
   "metadata": {},
   "source": [
    "We can confirm that the Euclidean norm of the normalized versions of $\\hat{\\textbf{x}}$ and $\\hat{\\textbf{y}}$ equals $1$ by:"
   ]
  },
  {
   "cell_type": "code",
   "execution_count": 116,
   "metadata": {},
   "outputs": [
    {
     "name": "stdout",
     "output_type": "stream",
     "text": [
      "Euclidean norm of normalized x:\n",
      "1.0\n",
      "\n",
      "Euclidean norm of normalized y:\n",
      "1.0\n"
     ]
    }
   ],
   "source": [
    "print(f'Euclidean norm of normalized x:\\n{np.round(np.linalg.norm(x_unit, 2),1)}\\n')\n",
    "print(f'Euclidean norm of normalized y:\\n{np.round(np.linalg.norm(y_unit, 2),1)}')"
   ]
  },
  {
   "cell_type": "markdown",
   "metadata": {},
   "source": [
    "Taking $\\hat{\\textbf{x}}$ and $\\hat{\\textbf{y}}$ as a set, we can confirm the conditions for the definition of orthonormal vectors are correct. "
   ]
  },
  {
   "cell_type": "code",
   "execution_count": 117,
   "metadata": {},
   "outputs": [
    {
     "name": "stdout",
     "output_type": "stream",
     "text": [
      "Inner product normalized vectors:\n",
      "[[-0.]]\n",
      "\n",
      "Inner product normalized x with itself:\n",
      "[[1.]]\n",
      "\n",
      "Inner product normalized y with itself:\n",
      "[[1.]]\n"
     ]
    }
   ],
   "source": [
    "print(f'Inner product normalized vectors:\\n{np.round(x_unit.T @ y_unit,1)}\\n')\n",
    "print(f'Inner product normalized x with itself:\\n{np.round(x_unit.T @ x_unit,1)}\\n') \n",
    "print(f'Inner product normalized y with itself:\\n{np.round(y_unit.T @ y_unit,1)}') "
   ]
  },
  {
   "cell_type": "markdown",
   "metadata": {},
   "source": [
    "Sets of vectors can be represented as matrices. **We denote as $\\textit{Q}$ the special case of a matrix composed of orthonormal vectors**. The same properties we defined for sets of vectors, hold when represented in matrix form. \n",
    "\n",
    "A nice property of $\\textit{Q}$ is that *the matrix product with its transpose equals the identity*:\n",
    "\n",
    "$$\n",
    "\\textit{Q}^T \\textit{Q}= \\textit{I}\n",
    "$$\n",
    "\n",
    "This is true even when $\\textit{Q}$ is not square. Let's see this with the $\\textit{Q} \\in \\mathbb{R}^{3 \\times 3}$ orthonormal matrix resulting from stacking $\\hat{\\textbf{x}}$ and $\\hat{\\textbf{y}}$."
   ]
  },
  {
   "cell_type": "code",
   "execution_count": 122,
   "metadata": {},
   "outputs": [
    {
     "data": {
      "text/plain": [
       "array([[ 0.6       , -0.74278135],\n",
       "       [ 0.8       ,  0.55708601],\n",
       "       [ 0.        ,  0.37139068]])"
      ]
     },
     "execution_count": 122,
     "metadata": {},
     "output_type": "execute_result"
    }
   ],
   "source": [
    "Q = np.column_stack((x_unit, y_unit))\n",
    "Q"
   ]
  },
  {
   "cell_type": "markdown",
   "metadata": {},
   "source": [
    "Now we confirm $\\textit{Q}^T \\textit{Q}= \\textit{I}$"
   ]
  },
  {
   "cell_type": "code",
   "execution_count": 124,
   "metadata": {},
   "outputs": [
    {
     "data": {
      "text/plain": [
       "array([[ 1., -0.],\n",
       "       [-0.,  1.]])"
      ]
     },
     "execution_count": 124,
     "metadata": {},
     "output_type": "execute_result"
    }
   ],
   "source": [
    "np.round(Q.T @ Q,1)"
   ]
  },
  {
   "cell_type": "markdown",
   "metadata": {},
   "source": [
    "### Gram-Schmidt Orthogonalization"
   ]
  },
  {
   "cell_type": "markdown",
   "metadata": {},
   "source": [
    "In the previous section, I picked orthogonal vectors to illustrate the idea of orthonormal basis. Unfortnately, in most cases, matrices are not full rank, i.e., composed of a set of orthogonal vectors. Fortunately, there are ways to transform set of non-orthogonal vectors onto orthogonal vectors. This is so-called **Gram-Schmidt orthogonalization procedure**.  "
   ]
  },
  {
   "cell_type": "markdown",
   "metadata": {},
   "source": [
    "### QR decomposition as Gram-Schmidt Orthogonalization"
   ]
  },
  {
   "cell_type": "markdown",
   "metadata": {},
   "source": [
    "We learned $\\textit{Q}$ is an orthonormal matrix. Now let's examine $\\textit{R}$, wich is an upper triangular matrix. In LU decomposition, we used **elementary matrices** to perform *row operations*. Similarly, in the case of QR decomposition, we will use **elementary matrices** to perform *column operations*. We used a lower triangular matrix to perform row operations in LU decomposition by multiplying $\\textit{A}$ from the *left side*. This time, we will use an upper traingular matrix to perform column operations in QR decomposition by multiplying $\\textit{A}$ from the *right side*.   \n",
    "\n",
    "Once again, our starting point is the identity matrix. The idea is to alter the identity with the operations we want to perform over $\\textit{A}$. Consider the following matrix: \n",
    "\n",
    "$$\n",
    "\\begin{bmatrix}\n",
    "4 & 9 & -14 \\\\\n",
    "3 & 13 & 2 \\\\\n",
    "0 & 5 & 0 \n",
    "\\end{bmatrix}\n",
    "$$"
   ]
  },
  {
   "cell_type": "markdown",
   "metadata": {},
   "source": [
    "### Projections with Orthonormal Bases"
   ]
  },
  {
   "cell_type": "markdown",
   "metadata": {},
   "source": [
    "In our discussion of projections, we showed that projections onto vector spaces yield the following:\n",
    "\n",
    "$$\n",
    "\\alpha = (\\textit{X}^T \\textit{X})^{-1} \\textit{x}^T  \\textbf{y}\n",
    "$$\n",
    "\n",
    "Now, imagine $\\textit{X}$ is orthonormal, i.e., all vectors are orthogonal and unit lenght. In such case, we can replace $\\textit{X}$ with $\\textit{Q}$ to obtain:\n",
    "\n",
    "$$\n",
    "\\alpha = (\\textit{Q}^T \\textit{Q})^{-1} \\textit{Q}^T  \\textbf{y}\n",
    "$$\n",
    "\n",
    "This is convinient as $\\textit{Q}^T \\textit{Q} = \\textit{I}$, which makes our expression simpler:\n",
    "\n",
    "$$\n",
    "\\alpha = (\\textit{I})^{-1} \\textit{Q}^T  \\textbf{y}\n",
    "$$"
   ]
  },
  {
   "cell_type": "markdown",
   "metadata": {},
   "source": [
    "## Determinant"
   ]
  },
  {
   "cell_type": "markdown",
   "metadata": {},
   "source": [
    "If matrices had personality, the **determinant** would be the personality trait that reveals most information about the matrix character. The determinant of a matrix is a single number that tells **whether a matrix is invertible or singular**, this is, whether its columns are linearly independent or not, which is one of the most important things you can learn about a matrix. Actually, the name \"determinant\" referes to the property of \"determing\" if the matrix is singular or not. Specifically, for an square matrix $\\textit{A} \\in \\mathbb{R}^{n \\times n}$, a determinant equal to $0$, denoted as $\\text{det}(\\textit{A}=0)$, implies *the matrix is singular* (i.e., noninvertible), whereas a determinant equal to $1$,  denoted as $\\text{det}(\\textit{A})=1$, implies the *matrix is not singular* (i.e., invertible). Although determinants can reveal if matrices are singular with a single number, it's not used for large matrices as Gaussian Elimination is faster. \n",
    "\n",
    "Recall that matrices can be thought as function action on vectors or other matrices. Thus, the determinant can also be considered a linear mapping of a matrix $\\textit{A}$ onto a single number. But, what does that number means? So far, we have defined determinants on the basis of its utility of determine matrix invertibility. Before going into the calculation of determinants, let's examine determinats from a geometrical perspective to gain insight about the meaning of determinants."
   ]
  },
  {
   "cell_type": "markdown",
   "metadata": {},
   "source": [
    "### Determinant as measures of volume"
   ]
  },
  {
   "cell_type": "markdown",
   "metadata": {},
   "source": [
    "From a geometric perspective, determinants indicate the $\\textit{sign}$ **area of a parallelogram** (e.g., a rectangular area) and the $\\textit{sign}$ **volume of the parallelepiped**, for a matrix whose columns consist of the basis vectors in Euclidean space. \n",
    "\n",
    "Let's parse out the above phrase: the $\\textit{sign}$ area indicates the absolute value of the area, and the $\\textit{sign}$ volume equals to the absolute value of the volume. You may be wondering why we need to take the absolute value, since in real life objects can't have a negative are or volumen. In linear algebra, we say the area of parallelogram is **negative** when the vectors forming the figure are *clockwise oriented* (i.e., negatively oriented), and **positive** when the vectors forming the figure are *counterclockwise oriented* (i.e., positively oriented). \n",
    "\n",
    "Here is an example of a matrix $\\textit{A}$ with vectors *clockwise* or *negatively* oriented:\n",
    "\n",
    "$$\n",
    "\\textit{A} =\n",
    "\\begin{bmatrix}\n",
    "0 & 2 \\\\\n",
    "2 & 0\n",
    "\\end{bmatrix}\n",
    "$$\n",
    "\n",
    "The elements of the first column, indiciate the first vector of the matrix, while the elements of the second column, the second vector of the matrix. Therefore, when we measure the area of the parallelogram formed by the pair of vectors, we move from left to right, i.e., *clockwise*, meaning that the vectors are **negatively oriented**, and the **area of the matrix will be negative**. \n",
    "\n",
    "Here is the same matrix $\\textit{A}$ with vectors *counterclockwise* or *positively* oriented:\n",
    "\n",
    "$$\n",
    "\\textit{A} =\n",
    "\\begin{bmatrix}\n",
    "2 & 0 \\\\\n",
    "0 & 2\n",
    "\\end{bmatrix}\n",
    "$$\n",
    "\n",
    "Again, the elements of the *first column*, indicate the *first vector* of the matrix, while the elements of the *second column*, the *second vector* of the matrix. Therefore, when we measure the area of the parallelogram formed by the pair of vectors, we move from *right to left*, i.e., *counterclockwise*, meaning that the vectors are **positively oriented**, and the **area of the matrix will be positive**. \n",
    "\n",
    "\n",
    "The figure below exemplifies what I just said."
   ]
  },
  {
   "cell_type": "markdown",
   "metadata": {},
   "source": [
    "<center> Fig. 16: Vector orientation <center/>"
   ]
  },
  {
   "cell_type": "markdown",
   "metadata": {},
   "source": [
    "<center>\n",
    "<img src=\"./images/b-determinant-orientation.svg\">\n",
    "<center/>"
   ]
  },
  {
   "cell_type": "markdown",
   "metadata": {},
   "source": [
    "The situation for the $\\textit{sign}$ volume of the parallelepied is no different: when the vectors are *counterclockwise* oriented, we say the vectors are *positively oriented* (i.e., positive volume); when the vectors are *clockwise* oriented, we say the vectors are *negatively oriented* (i.e., negative volume)."
   ]
  },
  {
   "cell_type": "markdown",
   "metadata": {},
   "source": [
    "### The 2 X 2 determinant"
   ]
  },
  {
   "cell_type": "markdown",
   "metadata": {},
   "source": [
    "Recall that matrices are invertible or nonsingular, when their columns are linearly independent. By extension, the determinant, allow us to whether the columns of a matrix a linearly independent. To understand this method, let's examine the $2 \\times 2$ special case first.\n",
    "\n",
    "Consider a generic square matrix as:\n",
    "\n",
    "$$ \\textit{A} =\n",
    "\\begin{bmatrix}\n",
    "1 & 4 \\\\\n",
    "2 & 8\n",
    "\\end{bmatrix}\n",
    "$$\n",
    "\n",
    "How can we decide whether the columns are linearly independent? A strategy that I often use in simple cases like this, is just to examine whether the second column equals the first column times some factor. In the cae of $\\textit{A}$ is easy to see that the second column equals four times the first column, so the columns are linearly *dependent*. We can express such criteria by comparing the elementwise division between the second column by the first column as:\n",
    "\n",
    "$$\n",
    "\\begin{bmatrix}\n",
    "\\frac{4}{1} = \\frac{8}{2}\n",
    "\\end{bmatrix}\n",
    "= \n",
    "\\begin{bmatrix}\n",
    "4 = 4\n",
    "\\end{bmatrix}\n",
    "$$\n",
    "\n",
    "We obtain that both sides equal $4$, meaning that the second column can be divides exactly by the first column (i.e., linearly *dependent*).\n",
    "\n",
    "\n",
    "Consider this matrix now:\n",
    "\n",
    "$$ \\textit{B} =\n",
    "\\begin{bmatrix}\n",
    "0 & 4 \\\\\n",
    "0 & 8\n",
    "\\end{bmatrix}\n",
    "$$\n",
    "\n",
    "Let's try again our method for $\\textit{B}$:\n",
    "\n",
    "$$\n",
    "\\begin{bmatrix}\n",
    "\\frac{4}{0} = \\frac{8}{0}\n",
    "\\end{bmatrix}\n",
    "= \n",
    "\\begin{bmatrix}\n",
    "4 = 4\n",
    "\\end{bmatrix}\n",
    "$$\n",
    "\n",
    "Now we got into a problem, because division by $0$ is undefined, so we can determine the relationship between columns of $\\textit{B}$. Yet, by inspection, we can see the firs column is simply $0$ times the second column, therefore linearly dependent. Here is when **determinats** come to the rescue. \n",
    "\n",
    "Consider the generic matrix:\n",
    "\n",
    "$$\n",
    "\\begin{bmatrix}\n",
    "a & b \\\\\n",
    "c & d\n",
    "\\end{bmatrix}\n",
    "$$\n",
    "\n",
    "According to our previous strategy, we had:\n",
    "\n",
    "$$\n",
    "\\frac{b}{a} = \\frac{d}{c}\n",
    "$$\n",
    "\n",
    "This is, we tested the elementwise divition of the second column by the first column. Before, we failed because of division, so we probably want a method that does not involve it. Notice that we can rearange our expression as:\n",
    "\n",
    "$$\n",
    "ad = bc\n",
    "$$\n",
    "\n",
    "Let's try again with this method for $\\textit{A}$: \n",
    "\n",
    "$$\n",
    "\\begin{bmatrix}\n",
    "1 \\times 8 = 4 \\times 2 \\\\\n",
    "\\end{bmatrix}\n",
    "\\begin{bmatrix}\n",
    "8 = 8\n",
    "\\end{bmatrix}\n",
    "$$\n",
    "\n",
    "And for $\\textit{B}$:\n",
    "\n",
    "$$\n",
    "\\begin{bmatrix}\n",
    "0 \\times 8 = 4 \\times 0 \\\\\n",
    "\\end{bmatrix}\n",
    "\\begin{bmatrix}\n",
    "0 = 0\n",
    "\\end{bmatrix}\n",
    "$$\n",
    "\n",
    "It works. Indeed, $ad = bc$ are equal for both matrices, $\\textit{A}$ and $\\textit{B}$, meaning their columns are linearly dependent. Finally, notice that we can rearange all the terms on one side of the equation as: \n",
    "\n",
    "$$ \n",
    "(ad) - (bc)=0 \n",
    "$$\n",
    "\n",
    "There you go: the above expression is what is known as the **determinant of a matrix**. We denote the determinant as:\n",
    "\n",
    "$$\\vert \\textit{A} \\vert = \n",
    "\\begin{vmatrix}\n",
    "a & b \\\\\n",
    "c & d\n",
    "\\end{vmatrix} =\n",
    "(ad) - (bc)\n",
    "$$\n",
    "\n",
    "Or \n",
    "\n",
    "$$\\textit{det (A)} = \n",
    "\\begin{vmatrix}\n",
    "a & b \\\\\n",
    "c & d\n",
    "\\end{vmatrix} =\n",
    "(ad) - (bc)\n",
    "$$\n",
    " \n",
    "\n"
   ]
  },
  {
   "cell_type": "markdown",
   "metadata": {},
   "source": [
    "### The N X N determinant"
   ]
  },
  {
   "cell_type": "markdown",
   "metadata": {},
   "source": [
    "As matrices larger, computing the determinant gets more complicated. Consider the $3 \\times 3$ case as:\n",
    "\n",
    "$$\\vert \\textit{A} \\vert = \n",
    "\\begin{vmatrix}\n",
    "a & b & c\\\\\n",
    "d & e & f\\\\\n",
    "g & h & i\n",
    "\\end{vmatrix}\n",
    "$$\n",
    "\n",
    "The problem now is that linearly independent columns can be either: (1) multiples of another column, and (2) linear combinations of pairs of columns. The determinant for a $3 \\times 3$ is:\n",
    "\n",
    "$$\n",
    "\\vert \\textit{A} \\vert = aei - afh + bfg - bdi + cdh - ceg \n",
    "$$\n",
    "\n",
    "Such expression is hard to memorize, and it will get even more complicated for larger matrices. For instance, the $4 \\times 4$ entails 24 terms. As with most things in mathematics, there is a general formula to express the determinant compactly, which is known as the Leibniz's formula:\n",
    "\n",
    "$$\n",
    "\\vert \\textit{A} \\vert = \\sum_{\\sigma} \\textit{sign}(\\sigma) \\prod_{i=1}^n a_{\\sigma(i),i} \n",
    "$$\n",
    "\n",
    "Where $\\sigma$ computes the permutation for the rows and columns vectors of the matrix. If of little importance for us to break down the meaning of this formula, since we are interested in its applicability and conceptual value. What is important to notice, is that for an arbitrary square $n \\times n$ matrix, we will have $n!$ terms to sum over. For instance, for a $10 \\times 10$ matrix, $10! = 3,628,800$, which is a gigantic number considering the size of the matrix. In machine learning, we care about matrices with thousands or even millions of columns, so there is no use for such formula. Nonetheless, this does not mean that the determinant is useless, but the direct calculation with the above algebraic expression is not use. "
   ]
  },
  {
   "cell_type": "markdown",
   "metadata": {},
   "source": [
    "### Determinants as scaling factors"
   ]
  },
  {
   "cell_type": "markdown",
   "metadata": {},
   "source": [
    "When we think in matrices as linear mappings, this is, as functions applied to vectors (or vectors spaces), the determinant acquires an intuitive geometrical interpretation: **as the factor by which areas are scaled under a mapping**. Plainly, if you do a mapping or transformation and the area increases by a factor of $3$, then the determinant of the transformation matrix equals $3$. Consider the matrix $\\textit{A}$ and the basis vector $\\textbf{x}$:\n",
    "\n",
    "$$\n",
    "\\textit{A} =\n",
    "\\begin{bmatrix}\n",
    "4 & 0 \\\\\n",
    "0 & 3\n",
    "\\end{bmatrix}\n",
    "$$\n",
    "\n",
    "$$ \\textbf{x} =\n",
    "\\begin{bmatrix}\n",
    "1 \\\\\n",
    "1 \n",
    "\\end{bmatrix}\n",
    "$$\n",
    "\n",
    "Is easy to see that the parallelogram formed by the basis vectors of $\\textbf{x}$ is $1 \\times 1 = 1$. When we apply $\\textit{A}\\textbf{x}$, we get: "
   ]
  },
  {
   "cell_type": "code",
   "execution_count": 118,
   "metadata": {},
   "outputs": [],
   "source": [
    "A = np.array([[4, 0],\n",
    "              [0, 3]])\n",
    "\n",
    "x = np.array([[1,1]])"
   ]
  },
  {
   "cell_type": "code",
   "execution_count": 119,
   "metadata": {},
   "outputs": [
    {
     "data": {
      "text/plain": [
       "array([[4],\n",
       "       [3]])"
      ]
     },
     "execution_count": 119,
     "metadata": {},
     "output_type": "execute_result"
    }
   ],
   "source": [
    "A @ x.T"
   ]
  },
  {
   "cell_type": "markdown",
   "metadata": {},
   "source": [
    "Meaning that the vertical axis was scaled by $4$ and the horizontal axis by $3$, hence, the new parallelogram has area $4 \\times 3 = 12$. Since the new area has increased by a factor of $12$, the determinant $\\vert \\textit{A} \\vert =  12$. Although we exemplied this with the basis vectors in $\\textit{x}$, the determinant of $\\textit{A}$ for mappings of the entire vector space. "
   ]
  },
  {
   "cell_type": "markdown",
   "metadata": {},
   "source": [
    "<center> Fig. 17 <center/>"
   ]
  },
  {
   "cell_type": "markdown",
   "metadata": {},
   "source": [
    "<center>\n",
    "<img src=\"./images/b-determinant-scaling.svg\">\n",
    "<center/>"
   ]
  },
  {
   "cell_type": "markdown",
   "metadata": {},
   "source": [
    "### The importance of determinants"
   ]
  },
  {
   "cell_type": "markdown",
   "metadata": {},
   "source": [
    "Considering that computing determinants is not computationally feasible for large matrices, and that we can determine linear independence via Gaussian Elimination, you may be wondering what's the point of learning about determinants in the first place. I also asked this to myself more than once. It turns out that determinants play an crucial conceptual role for other topics in matrix decomposition, particularly eigenvalues and eigenvectors. Actually, some books I reviewed devote a ton of space to determinants, whereas others (like Strang) do not."
   ]
  }
 ],
 "metadata": {
  "kernelspec": {
   "display_name": "Python 3",
   "language": "python",
   "name": "python3"
  },
  "language_info": {
   "codemirror_mode": {
    "name": "ipython",
    "version": 3
   },
   "file_extension": ".py",
   "mimetype": "text/x-python",
   "name": "python",
   "nbconvert_exporter": "python",
   "pygments_lexer": "ipython3",
   "version": "3.6.10"
  },
  "toc-autonumbering": true,
  "toc-showmarkdowntxt": false,
  "toc-showtags": false
 },
 "nbformat": 4,
 "nbformat_minor": 4
}
