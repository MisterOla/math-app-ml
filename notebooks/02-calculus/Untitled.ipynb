{
 "cells": [
  {
   "cell_type": "markdown",
   "metadata": {},
   "source": [
    "# Introduction to Calculus for Applied Machine Learning and Data Science with Python"
   ]
  },
  {
   "cell_type": "markdown",
   "metadata": {},
   "source": [
    "This is the part II of my [\"Essential Mathematics for Applied Machine Learning and Data Science\"](https://github.com/pabloinsente/math-app-ml) series. The first part on Linear Algebra can be found [here](https://pabloinsente.github.io/intro-linear-algebra) and [here](https://github.com/pabloinsente/math-app-ml/tree/master/notebooks/01-linear-algebra). The Linear Algebra section is around 20,000 words, so it's a long read considering it's math tutorial and not an Essay or Novelette. As a reference, Kafka's \"The Metamorphosis\" has 16,473 words, and Hemingway's \"The Old Man and The Sea\" has 35,220 words. From the Linear Algebra section, I recommend to read the very short [\"Preliminary section\"](https://pabloinsente.github.io/intro-linear-algebra#preliminary-concepts) contents before this part, as it covers a few basic notions of set theory."
   ]
  },
  {
   "cell_type": "code",
   "execution_count": null,
   "metadata": {},
   "outputs": [],
   "source": []
  }
 ],
 "metadata": {
  "kernelspec": {
   "display_name": "Python 3",
   "language": "python",
   "name": "python3"
  },
  "language_info": {
   "codemirror_mode": {
    "name": "ipython",
    "version": 3
   },
   "file_extension": ".py",
   "mimetype": "text/x-python",
   "name": "python",
   "nbconvert_exporter": "python",
   "pygments_lexer": "ipython3",
   "version": "3.6.10"
  }
 },
 "nbformat": 4,
 "nbformat_minor": 4
}
