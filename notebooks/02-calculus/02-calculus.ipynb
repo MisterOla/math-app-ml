{
 "cells": [
  {
   "cell_type": "markdown",
   "metadata": {},
   "source": [
    "# Introduction to Calculus for Applied Machine Learning and Data Science with Python"
   ]
  },
  {
   "cell_type": "markdown",
   "metadata": {},
   "source": [
    "This is part II of my [\"Essential Mathematics for Applied Machine Learning and Data Science\"](https://github.com/pabloinsente/math-app-ml) series. The first part on Linear Algebra can be found [here](https://pabloinsente.github.io/intro-linear-algebra) and [here](https://github.com/pabloinsente/math-app-ml/tree/master/notebooks/01-linear-algebra). The Linear Algebra section is around 25,000 words, so it's a long read considering it's math tutorial and not an *essay* or *novelette*. As a reference, Kafka's \"The Metamorphosis\" has 16,473 words, and Hemingway's \"The Old Man and The Sea\" has 35,220 words. From the Linear Algebra section, I recommend to read the very short [\"Preliminary section\"](https://pabloinsente.github.io/intro-linear-algebra#preliminary-concepts) contents before this part, as it covers a few basic notions of set theory.\n",
    "\n",
    "This document contains introductory level calculus notes with applied machine learning and data science in mind. Notice that part I of this series, the linear algebra section, is framed as notes for applied machine learning only. I've added \"data science\" to the tittle basically because machine learning is one of the many tools of data science, and because I think people who is trying to learn about data science may benefit from this. A less poetic but honest reasons is that I think more people may pay attention to this if I add the word \"data science\" to it.\n",
    "\n",
    "I have never taken a single class on calculus. I did learn a bit of differential calculus \"on the fly\" for my microeconomics classes during my first master degree. It turns out that in Chile, calculus is considered a college level subject in 99% of public schools. I mentioning this so you are warned that I'm no expert. I'm just very oblivious to the fact I don't the credentials to do some things, like learning and helping others to learn about math. \n",
    "\n",
    "My notes are not meant to be comprehensive. Rather, I aim to organize what I consider to be the essential topics on calculus for applied ML and data science. I'll cover differential, integral, and vector calculus. In my experience, calculus reviews for ML tend to ignore integral calculus as it is not widely use in deep learning. Yet, I consider this to be part of the essential contents that ML and data science practioners should know about. \n",
    "\n",
    "The sources I'll utilize are mostly freely available texbooks and video lectures. If you want to obtain a deeper understanding or to find exercises for each topic, you may want to consult those sources directly.\n",
    "\n",
    "**Free resources**:\n",
    "\n",
    "- Mathematics for Machine Learning by Deisenroth, Faisal, and Ong. 1st Ed. [Book link](https://mml-book.github.io/).\n",
    "- Calculus made easy by Silvanus Thompson. 2nd Ed. [Book link](https://www.gutenberg.org/files/33283/33283-pdf.pdf)\n",
    "- Elementary Calculus. An Infinitesimal Approach. 2nd Ed. [Book link](https://www.math.wisc.edu/~keisler/keislercalc-03-07-17.pdf)\n",
    "- Salman Khan’s CalculusLectures at Khan Academy. [Videos link](https://www.khanacademy.org/math/calculus-1).\n",
    "- 3blue1brown’s Calculus Series at YouTube. [Videos link](https://www.youtube.com/playlist?list=PLZHQObOWTQDMsr9K-rj53DwVRMYO3t5Yr).\n",
    "\n",
    "**Not-free resources**:\n",
    "\n",
    "- Vector Calculus, Linear Algebra, and Differential Forms by Hubbard and Burke Hubbard\n",
    "- Calculus with Analytic Geometry by George F. Simmons. 2nd Ed. \n",
    "\n",
    "Be aware that the target audice for this is people like me: probably with little to non formal mathematical training beyond high school, who needs to learn about calculus primarily as a tool rather than by pleasure. This is why my style is conversational and informal most of the time, and pretty much no proofs are introduced.  "
   ]
  },
  {
   "cell_type": "markdown",
   "metadata": {},
   "source": [
    "# Table of contents"
   ]
  },
  {
   "cell_type": "markdown",
   "metadata": {},
   "source": [
    "**What is calculus all about: overcomming mathematical trauma**\n",
    "\n",
    "**Functions**\n",
    "\n",
    "**Differential Calculus**\n",
    "\n",
    "**Integral Calculus**\n",
    "\n",
    "**Vector Calculus** "
   ]
  },
  {
   "cell_type": "markdown",
   "metadata": {},
   "source": [
    "# What is calculus all about: overcomming mathematical trauma"
   ]
  },
  {
   "cell_type": "markdown",
   "metadata": {},
   "source": [
    "I often read about calculus as a source of distress, agony, and frustration for high-school and college students. If I wouldn't know already what calculus is, I would think that it's some form of psychological torture rather than intermediate level mathematics. True to be told, I don't know how it feels because calculus was not a subject during my high-school or college years. I do know, though, about the profound sense of confusion that many people experience when facing expressions like: \n",
    "\n",
    "$$\n",
    "\\frac{\\partial E}{\\partial w^L} = \\frac{\\partial E}{\\partial a^L} \\times \\frac{\\partial a^L}{\\partial w^L} \\times \\frac{\\partial w^L}{\\partial z^L} \n",
    "$$\n",
    "\n",
    "or \n",
    "\n",
    "$$\n",
    "Pr(x \\in \\textit{A}) = \\int_{\\textit{A}} \\rho(x)dx\n",
    "$$\n",
    "\n",
    "In the past I'd just have skipped that part and convice myself that understanding such alien expression actually does not matter. **\"I'm no mathematician\"** or **\"meh, the computer will do it for me\"**, is what I would often think to myself. I do beleive that there is some element of true in my reaction: in applied setting, you would seldom compute a derivative or integral, and for the most part, you can get by just ignoring equations. However, as I advanced in my studies, I realized that my inability to both **read** and **understand the methematical ideas** behind such expression, was significantly limiting my ability to **learn** and **apply new and better methods** in my work. After all, math is a languague that allows for the precise expression of useful ideas, not just a mean to confuse and scare people (although some instructors seems to enjoy that). \n",
    "\n",
    "In calculus, there are two main branches of study: **differential calculus** and **integral calculus**. **Differential calculus** is concerned with *how something change in response to some other thing changing by a tiny bit*, or the *difference in something in relation to a minuscule change in  some other thing*. That \"something\" and \"some other thing\" can be almost anything. Typical examples are the area of a surface like circle (the \"something\") in response to a tiny increase in its radius (the \"some other thing\"), or the speed at which some object like a coconut falls from a cocotero (the \"something\") at some point in time (the \"some other thing\"). In the context of machine learning, a typical example would be the rate at which the error changes in response to a tiny change in the parameters of a neural network. I'll leave the \"tiny bit\" or \"minuscule\" part undefined for now, but this will be clarified in the differential calculus section. Just think in the smallest possible quantity you can conceive for the moment. \n",
    "\n",
    "Differential calculus notation is a bit of a nightmare because there are multiple notations floating around texbooks and the internet. I'll cover notation at lenght later on, but for now I will use Leibniz's notation, which as a side note, was one of the individuals who invented calculus independently along with Isaac Newton. Leibniz's denoted differentiation simply as:\n",
    "\n",
    "$$\n",
    "d\n",
    "$$\n",
    "\n",
    "Which means \"a little bit of\", or \"a small fraction of\", or more elegantly, \"an element of\". Mathematicians use $d$ just because writing \"a little bit\" each time is tiring and inelegant. Further, we add the \"some other thing\" to our expression as:\n",
    "\n",
    "$$\n",
    "\\frac{dy}{dx}\n",
    "$$\n",
    "\n",
    "Which means \"the change in $y$ in response to a tiny change in $x$\", but is commonly read as: \"dee-wy by dee-eks\" or \"dee-wy over dee-eks\" or \"the derivative of wy with respect to (w.r.t) eks\".\n",
    "\n",
    "**Integral calculus** is concerned with *computing the aggregated effect of things changing in response to some other things changing*, within an interval. You may find instructors and texbooks saying that integral calculus is about computing \"the area under the curve\", which is true, but that does not say much to me. What the heck is the thing \"under the curve\" anyways? Right? Well, to reiterate, it represents the cummulative effect of something onto something else during an interval, or the cummulative \"change\" if you will. Typical examples are anything that accumulates over time, like money in a bank account or water in a pool (the accumulated \"thing\") in response to or as time (the other thing) pass. In the context of machine learning, probability density functions are a place where you will find integrals all ober the place. \n",
    "\n",
    "Integral calculus notation is more consistent than differential calculus. The symbol for integration is:\n",
    "\n",
    "$$\n",
    "\\int\n",
    "$$\n",
    "\n",
    "Which is a long and stylized $S$, which means \"the sum of\" or \"the aggregation of\" or \"the integration of\". \n",
    "\n",
    "$$\n",
    "\\int dx\n",
    "$$\n",
    "\n",
    "Simply means \"the sum of all little bits of $x$\" or \"the aggregation of all little bits of $x$\" or \"the integration of all little bits of $x$\". More commonly, it read as: \"the integral of eks\".\n",
    "\n",
    "In my experience, one of the keys to overcome math trauma, is simply going back to the fundamentals. Beginning with something as simple as learning to read expression like $\\frac{dy}{dx}$ and $\\int dx$ is an step forward."
   ]
  },
  {
   "cell_type": "markdown",
   "metadata": {},
   "source": [
    "# Functions"
   ]
  },
  {
   "cell_type": "markdown",
   "metadata": {},
   "source": [
    "Calculus is thighly related to the notion of a function. In the previous section, I repeatedly mentioned \"in response to\" which suggest some form of relationship among two quantities or processes. The rules governing how two quantities, processes, or \"things\" related to each other, is what functions represent. Plainly put, functions are formulas expressing how two thing are related. \n",
    "\n",
    "To continue..."
   ]
  },
  {
   "cell_type": "markdown",
   "metadata": {},
   "source": [
    "# Differential calculus"
   ]
  },
  {
   "cell_type": "markdown",
   "metadata": {},
   "source": [
    "Imagine you are trying to measure the **average speed** at which [Steph Curry three point shoot travels from his hands to the hoop](https://www.youtube.com/watch?v=UbPnZLqiiDw). There is a simple solution: divide the distance the ball travel by the time it takes the ball to reach the hoop, something like:\n",
    "\n",
    "$\n",
    "\\frac{7.24m}{3.23s} = 2.24ms\n",
    "$\n",
    "\n",
    "This is al fine, but, it turns out, objects going up and down travel at different speeds at different points in time. So now we can ask about the speed of the basketball at specific points in time. One simple idea is to take very short interval around the point in time you are interested in, and compute the average for that time interval. Let's say, you are intersted in the speed halfway to the hoop, at $3.62$ meters.  \n",
    "\n",
    "To continue..."
   ]
  }
 ],
 "metadata": {
  "kernelspec": {
   "display_name": "Python 3",
   "language": "python",
   "name": "python3"
  },
  "language_info": {
   "codemirror_mode": {
    "name": "ipython",
    "version": 3
   },
   "file_extension": ".py",
   "mimetype": "text/x-python",
   "name": "python",
   "nbconvert_exporter": "python",
   "pygments_lexer": "ipython3",
   "version": "3.6.10"
  }
 },
 "nbformat": 4,
 "nbformat_minor": 4
}
