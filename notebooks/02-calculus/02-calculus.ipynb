{
 "cells": [
  {
   "cell_type": "markdown",
   "metadata": {},
   "source": [
    "# Introduction to Calculus for Applied Machine Learning and Data Science with Python"
   ]
  },
  {
   "cell_type": "markdown",
   "metadata": {},
   "source": [
    "This is part II of my [\"Essential Mathematics for Applied Machine Learning and Data Science\"](https://github.com/pabloinsente/math-app-ml) series. The first part on Linear Algebra can be found [here](https://pabloinsente.github.io/intro-linear-algebra) and [here](https://github.com/pabloinsente/math-app-ml/tree/master/notebooks/01-linear-algebra). The Linear Algebra section is around 25,000 words, so it's a long read considering it's math tutorial and not an *essay* or *novelette*. As a reference, Kafka's \"The Metamorphosis\" has 16,473 words, and Hemingway's \"The Old Man and The Sea\" has 35,220 words. From the Linear Algebra section, I recommend to read the very short [\"Preliminary section\"](https://pabloinsente.github.io/intro-linear-algebra#preliminary-concepts) contents before this part, as it covers a few basic notions of set theory.\n",
    "\n",
    "This document contains introductory level calculus notes with applied machine learning and data science in mind. Notice that part I of this series, the linear algebra section, is framed as notes for applied machine learning only. I've added \"data science\" to the tittle basically because machine learning is one of the many tools of data science, and because I think people who is trying to learn about data science may benefit from this. A less poetic but honest reasons is that I think more people may pay attention to this if I add the word \"data science\" to it.\n",
    "\n",
    "I have never taken a single class on calculus. I did learn a bit of differential calculus \"on the fly\" for my microeconomics classes during my first master degree. It turns out that in Chile, calculus is considered a college level subject in 99% of public schools. I mentioning this so you are warned that I'm no expert. I'm just very oblivious to the fact I don't the credentials to do some things, like learning and helping others to learn about math. \n",
    "\n",
    "My notes are not meant to be comprehensive. Rather, I aim to organize what I consider to be the essential topics on calculus for applied ML and data science. I'll cover differential, integral, and vector calculus. In my experience, calculus reviews for ML tend to ignore integral calculus as it is not widely use in deep learning. Yet, I consider this to be part of the essential contents that ML and data science practioners should know about. \n",
    "\n",
    "The sources I'll utilize are mostly freely available texbooks and video lectures. If you want to obtain a deeper understanding or to find exercises for each topic, you may want to consult those sources directly.\n",
    "\n",
    "**Free resources**:\n",
    "\n",
    "- Mathematics for Machine Learning by Deisenroth, Faisal, and Ong. 1st Ed. [Book link](https://mml-book.github.io/).\n",
    "- Calculus made easy by Silvanus Thompson. 2nd Ed. [Book link](https://www.gutenberg.org/files/33283/33283-pdf.pdf)\n",
    "- Elementary Calculus. An Infinitesimal Approach. 2nd Ed. [Book link](https://www.math.wisc.edu/~keisler/keislercalc-03-07-17.pdf)\n",
    "- Salman Khan’s CalculusLectures at Khan Academy. [Videos link](https://www.khanacademy.org/math/calculus-1).\n",
    "- 3blue1brown’s Calculus Series at YouTube. [Videos link](https://www.youtube.com/playlist?list=PLZHQObOWTQDMsr9K-rj53DwVRMYO3t5Yr).\n",
    "\n",
    "**Not-free resources**:\n",
    "\n",
    "- Vector Calculus, Linear Algebra, and Differential Forms by Hubbard and Burke Hubbard\n",
    "- Calculus with Analytic Geometry by George F. Simmons. 2nd Ed. \n",
    "\n",
    "Be aware that the target audice for this is people like me: probably with little to non formal mathematical training beyond high school, who needs to learn about calculus primarily as a tool rather than by pleasure. This is why my style is conversational and informal most of the time, and pretty much no proofs are introduced.  "
   ]
  },
  {
   "cell_type": "markdown",
   "metadata": {},
   "source": [
    "# Table of contents"
   ]
  },
  {
   "cell_type": "markdown",
   "metadata": {},
   "source": [
    "# Functions"
   ]
  },
  {
   "cell_type": "code",
   "execution_count": null,
   "metadata": {},
   "outputs": [],
   "source": []
  }
 ],
 "metadata": {
  "kernelspec": {
   "display_name": "Python 3",
   "language": "python",
   "name": "python3"
  },
  "language_info": {
   "codemirror_mode": {
    "name": "ipython",
    "version": 3
   },
   "file_extension": ".py",
   "mimetype": "text/x-python",
   "name": "python",
   "nbconvert_exporter": "python",
   "pygments_lexer": "ipython3",
   "version": "3.6.10"
  }
 },
 "nbformat": 4,
 "nbformat_minor": 4
}
